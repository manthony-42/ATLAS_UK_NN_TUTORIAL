{
  "nbformat": 4,
  "nbformat_minor": 0,
  "metadata": {
    "kernelspec": {
      "display_name": "Python 3",
      "language": "python",
      "name": "python3"
    },
    "language_info": {
      "codemirror_mode": {
        "name": "ipython",
        "version": 3
      },
      "file_extension": ".py",
      "mimetype": "text/x-python",
      "name": "python",
      "nbconvert_exporter": "python",
      "pygments_lexer": "ipython3",
      "version": "3.7.6"
    },
    "colab": {
      "name": "Copy of DNN.ipynb",
      "provenance": [],
      "collapsed_sections": [],
      "toc_visible": true,
      "include_colab_link": true
    }
  },
  "cells": [
    {
      "cell_type": "markdown",
      "metadata": {
        "id": "view-in-github",
        "colab_type": "text"
      },
      "source": [
        "<a href=\"https://colab.research.google.com/github/manthony-42/ATLAS_UK_NN_TUTORIAL/blob/main/Copy_of_DNN.ipynb\" target=\"_parent\"><img src=\"https://colab.research.google.com/assets/colab-badge.svg\" alt=\"Open In Colab\"/></a>"
      ]
    },
    {
      "cell_type": "code",
      "metadata": {
        "id": "JTKfrXbfhMCc"
      },
      "source": [
        "first_run = True"
      ],
      "execution_count": null,
      "outputs": []
    },
    {
      "cell_type": "code",
      "metadata": {
        "colab": {
          "base_uri": "https://localhost:8080/"
        },
        "id": "P--kTtVvccp5",
        "outputId": "883cff96-5fec-4630-828a-1114bcf510a1"
      },
      "source": [
        "if first_run:\n",
        "  print('--- INSTALLING PACKAGES ---')\n",
        "  !python3 -m pip install --upgrade pip\n",
        "  !python3 -m pip install grpcio==1.32.0\n",
        "  !python3 -m pip install tensorflow==2.2.0\n",
        "  !python3 -m pip install keras\n",
        "  !python3 -m pip install sklearn\n",
        "  !python3 -m pip install seaborn==0.11.0\n",
        "  !python3 -m pip install pydot\n",
        "  !python3 -m pip install graphviz\n",
        "  !python3 -m pip install uproot4\n",
        "  !python3 -m pip install awkward1\n",
        "  !python3 -m pip install progressbar2\n",
        "else:\n",
        "  print('--- SKIPPING INSTALL ---')"
      ],
      "execution_count": null,
      "outputs": [
        {
          "output_type": "stream",
          "text": [
            "--- INSTALLING PACKAGES ---\n",
            "Collecting pip\n",
            "\u001b[?25l  Downloading https://files.pythonhosted.org/packages/54/eb/4a3642e971f404d69d4f6fa3885559d67562801b99d7592487f1ecc4e017/pip-20.3.3-py2.py3-none-any.whl (1.5MB)\n",
            "\u001b[K     |████████████████████████████████| 1.5MB 5.4MB/s \n",
            "\u001b[?25hInstalling collected packages: pip\n",
            "  Found existing installation: pip 19.3.1\n",
            "    Uninstalling pip-19.3.1:\n",
            "      Successfully uninstalled pip-19.3.1\n",
            "Successfully installed pip-20.3.3\n",
            "Requirement already satisfied: grpcio==1.32.0 in /usr/local/lib/python3.6/dist-packages (1.32.0)\n",
            "Requirement already satisfied: six>=1.5.2 in /usr/local/lib/python3.6/dist-packages (from grpcio==1.32.0) (1.15.0)\n",
            "Collecting tensorflow==2.2.0\n",
            "  Downloading tensorflow-2.2.0-cp36-cp36m-manylinux2010_x86_64.whl (516.2 MB)\n",
            "\u001b[K     |████████████████████████████████| 516.2 MB 18 kB/s \n",
            "\u001b[?25hRequirement already satisfied: gast==0.3.3 in /usr/local/lib/python3.6/dist-packages (from tensorflow==2.2.0) (0.3.3)\n",
            "Requirement already satisfied: opt-einsum>=2.3.2 in /usr/local/lib/python3.6/dist-packages (from tensorflow==2.2.0) (3.3.0)\n",
            "Requirement already satisfied: google-pasta>=0.1.8 in /usr/local/lib/python3.6/dist-packages (from tensorflow==2.2.0) (0.2.0)\n",
            "Requirement already satisfied: wheel>=0.26 in /usr/local/lib/python3.6/dist-packages (from tensorflow==2.2.0) (0.36.2)\n",
            "Requirement already satisfied: protobuf>=3.8.0 in /usr/local/lib/python3.6/dist-packages (from tensorflow==2.2.0) (3.12.4)\n",
            "Requirement already satisfied: astunparse==1.6.3 in /usr/local/lib/python3.6/dist-packages (from tensorflow==2.2.0) (1.6.3)\n",
            "Requirement already satisfied: numpy<2.0,>=1.16.0 in /usr/local/lib/python3.6/dist-packages (from tensorflow==2.2.0) (1.19.4)\n",
            "Requirement already satisfied: h5py<2.11.0,>=2.10.0 in /usr/local/lib/python3.6/dist-packages (from tensorflow==2.2.0) (2.10.0)\n",
            "Requirement already satisfied: absl-py>=0.7.0 in /usr/local/lib/python3.6/dist-packages (from tensorflow==2.2.0) (0.10.0)\n",
            "Requirement already satisfied: grpcio>=1.8.6 in /usr/local/lib/python3.6/dist-packages (from tensorflow==2.2.0) (1.32.0)\n",
            "Requirement already satisfied: termcolor>=1.1.0 in /usr/local/lib/python3.6/dist-packages (from tensorflow==2.2.0) (1.1.0)\n",
            "Requirement already satisfied: scipy==1.4.1 in /usr/local/lib/python3.6/dist-packages (from tensorflow==2.2.0) (1.4.1)\n",
            "Requirement already satisfied: six>=1.12.0 in /usr/local/lib/python3.6/dist-packages (from tensorflow==2.2.0) (1.15.0)\n",
            "Requirement already satisfied: wrapt>=1.11.1 in /usr/local/lib/python3.6/dist-packages (from tensorflow==2.2.0) (1.12.1)\n",
            "Requirement already satisfied: keras-preprocessing>=1.1.0 in /usr/local/lib/python3.6/dist-packages (from tensorflow==2.2.0) (1.1.2)\n",
            "Requirement already satisfied: setuptools in /usr/local/lib/python3.6/dist-packages (from protobuf>=3.8.0->tensorflow==2.2.0) (51.0.0)\n",
            "Collecting tensorboard<2.3.0,>=2.2.0\n",
            "  Downloading tensorboard-2.2.2-py3-none-any.whl (3.0 MB)\n",
            "\u001b[K     |████████████████████████████████| 3.0 MB 47.8 MB/s \n",
            "\u001b[?25hRequirement already satisfied: google-auth-oauthlib<0.5,>=0.4.1 in /usr/local/lib/python3.6/dist-packages (from tensorboard<2.3.0,>=2.2.0->tensorflow==2.2.0) (0.4.2)\n",
            "Requirement already satisfied: tensorboard-plugin-wit>=1.6.0 in /usr/local/lib/python3.6/dist-packages (from tensorboard<2.3.0,>=2.2.0->tensorflow==2.2.0) (1.7.0)\n",
            "Requirement already satisfied: requests<3,>=2.21.0 in /usr/local/lib/python3.6/dist-packages (from tensorboard<2.3.0,>=2.2.0->tensorflow==2.2.0) (2.23.0)\n",
            "Requirement already satisfied: google-auth<2,>=1.6.3 in /usr/local/lib/python3.6/dist-packages (from tensorboard<2.3.0,>=2.2.0->tensorflow==2.2.0) (1.17.2)\n",
            "Requirement already satisfied: markdown>=2.6.8 in /usr/local/lib/python3.6/dist-packages (from tensorboard<2.3.0,>=2.2.0->tensorflow==2.2.0) (3.3.3)\n",
            "Requirement already satisfied: werkzeug>=0.11.15 in /usr/local/lib/python3.6/dist-packages (from tensorboard<2.3.0,>=2.2.0->tensorflow==2.2.0) (1.0.1)\n",
            "Requirement already satisfied: pyasn1-modules>=0.2.1 in /usr/local/lib/python3.6/dist-packages (from google-auth<2,>=1.6.3->tensorboard<2.3.0,>=2.2.0->tensorflow==2.2.0) (0.2.8)\n",
            "Requirement already satisfied: rsa<5,>=3.1.4 in /usr/local/lib/python3.6/dist-packages (from google-auth<2,>=1.6.3->tensorboard<2.3.0,>=2.2.0->tensorflow==2.2.0) (4.6)\n",
            "Requirement already satisfied: cachetools<5.0,>=2.0.0 in /usr/local/lib/python3.6/dist-packages (from google-auth<2,>=1.6.3->tensorboard<2.3.0,>=2.2.0->tensorflow==2.2.0) (4.2.0)\n",
            "Requirement already satisfied: requests-oauthlib>=0.7.0 in /usr/local/lib/python3.6/dist-packages (from google-auth-oauthlib<0.5,>=0.4.1->tensorboard<2.3.0,>=2.2.0->tensorflow==2.2.0) (1.3.0)\n",
            "Requirement already satisfied: importlib-metadata in /usr/local/lib/python3.6/dist-packages (from markdown>=2.6.8->tensorboard<2.3.0,>=2.2.0->tensorflow==2.2.0) (3.3.0)\n",
            "Requirement already satisfied: pyasn1<0.5.0,>=0.4.6 in /usr/local/lib/python3.6/dist-packages (from pyasn1-modules>=0.2.1->google-auth<2,>=1.6.3->tensorboard<2.3.0,>=2.2.0->tensorflow==2.2.0) (0.4.8)\n",
            "Requirement already satisfied: certifi>=2017.4.17 in /usr/local/lib/python3.6/dist-packages (from requests<3,>=2.21.0->tensorboard<2.3.0,>=2.2.0->tensorflow==2.2.0) (2020.12.5)\n",
            "Requirement already satisfied: chardet<4,>=3.0.2 in /usr/local/lib/python3.6/dist-packages (from requests<3,>=2.21.0->tensorboard<2.3.0,>=2.2.0->tensorflow==2.2.0) (3.0.4)\n",
            "Requirement already satisfied: urllib3!=1.25.0,!=1.25.1,<1.26,>=1.21.1 in /usr/local/lib/python3.6/dist-packages (from requests<3,>=2.21.0->tensorboard<2.3.0,>=2.2.0->tensorflow==2.2.0) (1.24.3)\n",
            "Requirement already satisfied: idna<3,>=2.5 in /usr/local/lib/python3.6/dist-packages (from requests<3,>=2.21.0->tensorboard<2.3.0,>=2.2.0->tensorflow==2.2.0) (2.10)\n",
            "Requirement already satisfied: oauthlib>=3.0.0 in /usr/local/lib/python3.6/dist-packages (from requests-oauthlib>=0.7.0->google-auth-oauthlib<0.5,>=0.4.1->tensorboard<2.3.0,>=2.2.0->tensorflow==2.2.0) (3.1.0)\n",
            "Collecting tensorflow-estimator<2.3.0,>=2.2.0\n",
            "  Downloading tensorflow_estimator-2.2.0-py2.py3-none-any.whl (454 kB)\n",
            "\u001b[K     |████████████████████████████████| 454 kB 47.1 MB/s \n",
            "\u001b[?25hRequirement already satisfied: zipp>=0.5 in /usr/local/lib/python3.6/dist-packages (from importlib-metadata->markdown>=2.6.8->tensorboard<2.3.0,>=2.2.0->tensorflow==2.2.0) (3.4.0)\n",
            "Requirement already satisfied: typing-extensions>=3.6.4 in /usr/local/lib/python3.6/dist-packages (from importlib-metadata->markdown>=2.6.8->tensorboard<2.3.0,>=2.2.0->tensorflow==2.2.0) (3.7.4.3)\n",
            "Installing collected packages: tensorflow-estimator, tensorboard, tensorflow\n",
            "  Attempting uninstall: tensorflow-estimator\n",
            "    Found existing installation: tensorflow-estimator 2.4.0\n",
            "    Uninstalling tensorflow-estimator-2.4.0:\n",
            "      Successfully uninstalled tensorflow-estimator-2.4.0\n",
            "  Attempting uninstall: tensorboard\n",
            "    Found existing installation: tensorboard 2.4.0\n",
            "    Uninstalling tensorboard-2.4.0:\n",
            "      Successfully uninstalled tensorboard-2.4.0\n",
            "  Attempting uninstall: tensorflow\n",
            "    Found existing installation: tensorflow 2.4.0\n",
            "    Uninstalling tensorflow-2.4.0:\n",
            "      Successfully uninstalled tensorflow-2.4.0\n",
            "Successfully installed tensorboard-2.2.2 tensorflow-2.2.0 tensorflow-estimator-2.2.0\n",
            "Requirement already satisfied: keras in /usr/local/lib/python3.6/dist-packages (2.4.3)\n",
            "Requirement already satisfied: pyyaml in /usr/local/lib/python3.6/dist-packages (from keras) (3.13)\n",
            "Requirement already satisfied: h5py in /usr/local/lib/python3.6/dist-packages (from keras) (2.10.0)\n",
            "Requirement already satisfied: scipy>=0.14 in /usr/local/lib/python3.6/dist-packages (from keras) (1.4.1)\n",
            "Requirement already satisfied: numpy>=1.9.1 in /usr/local/lib/python3.6/dist-packages (from keras) (1.19.4)\n",
            "Requirement already satisfied: six in /usr/local/lib/python3.6/dist-packages (from h5py->keras) (1.15.0)\n",
            "Requirement already satisfied: sklearn in /usr/local/lib/python3.6/dist-packages (0.0)\n",
            "Requirement already satisfied: scikit-learn in /usr/local/lib/python3.6/dist-packages (from sklearn) (0.22.2.post1)\n",
            "Requirement already satisfied: scipy>=0.17.0 in /usr/local/lib/python3.6/dist-packages (from scikit-learn->sklearn) (1.4.1)\n",
            "Requirement already satisfied: numpy>=1.11.0 in /usr/local/lib/python3.6/dist-packages (from scikit-learn->sklearn) (1.19.4)\n",
            "Requirement already satisfied: joblib>=0.11 in /usr/local/lib/python3.6/dist-packages (from scikit-learn->sklearn) (1.0.0)\n",
            "Requirement already satisfied: seaborn==0.11.0 in /usr/local/lib/python3.6/dist-packages (0.11.0)\n",
            "Requirement already satisfied: matplotlib>=2.2 in /usr/local/lib/python3.6/dist-packages (from seaborn==0.11.0) (3.2.2)\n",
            "Requirement already satisfied: numpy>=1.15 in /usr/local/lib/python3.6/dist-packages (from seaborn==0.11.0) (1.19.4)\n",
            "Requirement already satisfied: scipy>=1.0 in /usr/local/lib/python3.6/dist-packages (from seaborn==0.11.0) (1.4.1)\n",
            "Requirement already satisfied: pandas>=0.23 in /usr/local/lib/python3.6/dist-packages (from seaborn==0.11.0) (1.1.5)\n",
            "Requirement already satisfied: kiwisolver>=1.0.1 in /usr/local/lib/python3.6/dist-packages (from matplotlib>=2.2->seaborn==0.11.0) (1.3.1)\n",
            "Requirement already satisfied: python-dateutil>=2.1 in /usr/local/lib/python3.6/dist-packages (from matplotlib>=2.2->seaborn==0.11.0) (2.8.1)\n",
            "Requirement already satisfied: cycler>=0.10 in /usr/local/lib/python3.6/dist-packages (from matplotlib>=2.2->seaborn==0.11.0) (0.10.0)\n",
            "Requirement already satisfied: pyparsing!=2.0.4,!=2.1.2,!=2.1.6,>=2.0.1 in /usr/local/lib/python3.6/dist-packages (from matplotlib>=2.2->seaborn==0.11.0) (2.4.7)\n",
            "Requirement already satisfied: six in /usr/local/lib/python3.6/dist-packages (from cycler>=0.10->matplotlib>=2.2->seaborn==0.11.0) (1.15.0)\n",
            "Requirement already satisfied: pytz>=2017.2 in /usr/local/lib/python3.6/dist-packages (from pandas>=0.23->seaborn==0.11.0) (2018.9)\n",
            "Requirement already satisfied: pydot in /usr/local/lib/python3.6/dist-packages (1.3.0)\n",
            "Requirement already satisfied: pyparsing>=2.1.4 in /usr/local/lib/python3.6/dist-packages (from pydot) (2.4.7)\n",
            "Requirement already satisfied: graphviz in /usr/local/lib/python3.6/dist-packages (0.10.1)\n",
            "Collecting uproot4\n",
            "  Downloading uproot4-4.0.0-py3-none-any.whl (6.2 kB)\n",
            "Collecting uproot>=4.0.0\n",
            "  Downloading uproot-4.0.0-py2.py3-none-any.whl (195 kB)\n",
            "\u001b[K     |████████████████████████████████| 195 kB 6.1 MB/s \n",
            "\u001b[?25hRequirement already satisfied: numpy in /usr/local/lib/python3.6/dist-packages (from uproot>=4.0.0->uproot4) (1.19.4)\n",
            "Installing collected packages: uproot, uproot4\n",
            "Successfully installed uproot-4.0.0 uproot4-4.0.0\n",
            "Collecting awkward1\n",
            "  Downloading awkward1-1.0.0-py3-none-any.whl (4.7 kB)\n",
            "Collecting awkward>=1.0.0\n",
            "  Downloading awkward-1.0.1-cp36-cp36m-manylinux2010_x86_64.whl (6.3 MB)\n",
            "\u001b[K     |████████████████████████████████| 6.3 MB 4.2 MB/s \n",
            "\u001b[?25hRequirement already satisfied: numpy>=1.13.1 in /usr/local/lib/python3.6/dist-packages (from awkward>=1.0.0->awkward1) (1.19.4)\n",
            "Installing collected packages: awkward, awkward1\n",
            "Successfully installed awkward-1.0.1 awkward1-1.0.0\n",
            "Requirement already satisfied: progressbar2 in /usr/local/lib/python3.6/dist-packages (3.38.0)\n",
            "Requirement already satisfied: python-utils>=2.3.0 in /usr/local/lib/python3.6/dist-packages (from progressbar2) (2.4.0)\n",
            "Requirement already satisfied: six in /usr/local/lib/python3.6/dist-packages (from progressbar2) (1.15.0)\n"
          ],
          "name": "stdout"
        }
      ]
    },
    {
      "cell_type": "code",
      "metadata": {
        "id": "eynCzutzccqE"
      },
      "source": [
        "import tensorflow\n",
        "from keras.optimizers import Adam\n",
        "from keras.utils import plot_model, to_categorical\n",
        "from keras.callbacks import EarlyStopping, ModelCheckpoint\n",
        "\n",
        "#from keras.models import Sequential\n",
        "#from keras.layers import Dense, Activation, Dropout\n",
        "# use this if you see interfacing issues relating to TF and Keras\n",
        "from tensorflow.keras.models import Sequential                    \n",
        "from tensorflow.keras.layers import Dense, Activation, Dropout"
      ],
      "execution_count": null,
      "outputs": []
    },
    {
      "cell_type": "code",
      "metadata": {
        "id": "kqN7g4rQccqF"
      },
      "source": [
        "import sklearn\n",
        "from sklearn import datasets\n",
        "from sklearn.model_selection import train_test_split\n",
        "from sklearn.preprocessing import MinMaxScaler\n",
        "import pandas as pd\n",
        "import seaborn as sns\n",
        "import pydot\n",
        "import graphviz\n",
        "import matplotlib.pyplot as plt\n",
        "import uproot4\n",
        "import awkward1\n",
        "import numpy as np\n",
        "import progressbar"
      ],
      "execution_count": null,
      "outputs": []
    },
    {
      "cell_type": "markdown",
      "metadata": {
        "id": "cl1nMyd7eL-U"
      },
      "source": [
        "#Now for the Physics part..."
      ]
    },
    {
      "cell_type": "code",
      "metadata": {
        "id": "CmVm9g1Ne871",
        "colab": {
          "base_uri": "https://localhost:8080/"
        },
        "outputId": "08c0e037-61b5-40ec-ee1d-100ad431e426"
      },
      "source": [
        "if first_run:\r\n",
        "  !rm *.root*\r\n",
        "  !wget http://opendata.cern.ch/eos/opendata/atlas/OutreachDatasets/2020-01-22/1largeRjet1lep/MC/mc_387163.TT_directTT_600_1.1largeRjet1lep.root\r\n",
        "  !wget http://opendata.cern.ch/eos/opendata/atlas/OutreachDatasets/2020-01-22/1largeRjet1lep/MC/mc_410000.ttbar_lep.1largeRjet1lep.root\r\n",
        "  !ls"
      ],
      "execution_count": null,
      "outputs": [
        {
          "output_type": "stream",
          "text": [
            "rm: cannot remove '*.root*': No such file or directory\n",
            "--2021-01-05 09:03:55--  http://opendata.cern.ch/eos/opendata/atlas/OutreachDatasets/2020-01-22/1largeRjet1lep/MC/mc_387163.TT_directTT_600_1.1largeRjet1lep.root\n",
            "Resolving opendata.cern.ch (opendata.cern.ch)... 188.185.82.144, 188.184.28.138, 2001:1458:d00:2e::100:34, ...\n",
            "Connecting to opendata.cern.ch (opendata.cern.ch)|188.185.82.144|:80... connected.\n",
            "HTTP request sent, awaiting response... 200 OK\n",
            "Length: 2578131 (2.5M) [application/octet-stream]\n",
            "Saving to: ‘mc_387163.TT_directTT_600_1.1largeRjet1lep.root’\n",
            "\n",
            "mc_387163.TT_direct 100%[===================>]   2.46M  1.29MB/s    in 1.9s    \n",
            "\n",
            "2021-01-05 09:03:59 (1.29 MB/s) - ‘mc_387163.TT_directTT_600_1.1largeRjet1lep.root’ saved [2578131/2578131]\n",
            "\n",
            "--2021-01-05 09:03:59--  http://opendata.cern.ch/eos/opendata/atlas/OutreachDatasets/2020-01-22/1largeRjet1lep/MC/mc_410000.ttbar_lep.1largeRjet1lep.root\n",
            "Resolving opendata.cern.ch (opendata.cern.ch)... 188.185.82.144, 188.184.28.138, 2001:1458:d00:2e::100:34, ...\n",
            "Connecting to opendata.cern.ch (opendata.cern.ch)|188.185.82.144|:80... connected.\n",
            "HTTP request sent, awaiting response... 200 OK\n",
            "Length: 477546241 (455M) [application/octet-stream]\n",
            "Saving to: ‘mc_410000.ttbar_lep.1largeRjet1lep.root’\n",
            "\n",
            "mc_410000.ttbar_lep 100%[===================>] 455.42M  6.17MB/s    in 64s     \n",
            "\n",
            "2021-01-05 09:05:03 (7.09 MB/s) - ‘mc_410000.ttbar_lep.1largeRjet1lep.root’ saved [477546241/477546241]\n",
            "\n",
            "mc_387163.TT_directTT_600_1.1largeRjet1lep.root  sample_data\n",
            "mc_410000.ttbar_lep.1largeRjet1lep.root\n"
          ],
          "name": "stdout"
        }
      ]
    },
    {
      "cell_type": "code",
      "metadata": {
        "id": "63qOZmxWeU5S"
      },
      "source": [
        "stop_file = uproot4.open(\"mc_387163.TT_directTT_600_1.1largeRjet1lep.root\")\r\n",
        "top_file = uproot4.open(\"mc_410000.ttbar_lep.1largeRjet1lep.root\")\r\n",
        "stop_tree = stop_file['mini']\r\n",
        "top_tree = top_file[\"mini\"]"
      ],
      "execution_count": null,
      "outputs": []
    },
    {
      "cell_type": "code",
      "metadata": {
        "colab": {
          "base_uri": "https://localhost:8080/"
        },
        "id": "uCNaq1ixgTmq",
        "outputId": "2cb70cc3-7d4a-468b-a60b-b4199aa1a4b3"
      },
      "source": [
        "stop_tree.show()"
      ],
      "execution_count": null,
      "outputs": [
        {
          "output_type": "stream",
          "text": [
            "name                 | typename                 | interpretation                \n",
            "---------------------+--------------------------+-------------------------------\n",
            "runNumber            | int32_t                  | AsDtype('>i4')\n",
            "eventNumber          | int32_t                  | AsDtype('>i4')\n",
            "channelNumber        | int32_t                  | AsDtype('>i4')\n",
            "mcWeight             | float                    | AsDtype('>f4')\n",
            "scaleFactor_PILEUP   | float                    | AsDtype('>f4')\n",
            "scaleFactor_ELE      | float                    | AsDtype('>f4')\n",
            "scaleFactor_MUON     | float                    | AsDtype('>f4')\n",
            "scaleFactor_PHOTON   | float                    | AsDtype('>f4')\n",
            "scaleFactor_TAU      | float                    | AsDtype('>f4')\n",
            "scaleFactor_BTAG     | float                    | AsDtype('>f4')\n",
            "scaleFactor_LepTR... | float                    | AsDtype('>f4')\n",
            "scaleFactor_Photo... | float                    | AsDtype('>f4')\n",
            "trigE                | bool                     | AsDtype('bool')\n",
            "trigM                | bool                     | AsDtype('bool')\n",
            "trigP                | bool                     | AsDtype('bool')\n",
            "lep_n                | uint32_t                 | AsDtype('>u4')\n",
            "lep_truthMatched     | std::vector<bool>        | AsJagged(AsDtype('bool'), h...\n",
            "lep_trigMatched      | std::vector<bool>        | AsJagged(AsDtype('bool'), h...\n",
            "lep_pt               | std::vector<float>       | AsJagged(AsDtype('>f4'), he...\n",
            "lep_eta              | std::vector<float>       | AsJagged(AsDtype('>f4'), he...\n",
            "lep_phi              | std::vector<float>       | AsJagged(AsDtype('>f4'), he...\n",
            "lep_E                | std::vector<float>       | AsJagged(AsDtype('>f4'), he...\n",
            "lep_z0               | std::vector<float>       | AsJagged(AsDtype('>f4'), he...\n",
            "lep_charge           | std::vector<int32_t>     | AsJagged(AsDtype('>i4'), he...\n",
            "lep_type             | std::vector<uint32_t>    | AsJagged(AsDtype('>u4'), he...\n",
            "lep_isTightID        | std::vector<bool>        | AsJagged(AsDtype('bool'), h...\n",
            "lep_ptcone30         | std::vector<float>       | AsJagged(AsDtype('>f4'), he...\n",
            "lep_etcone20         | std::vector<float>       | AsJagged(AsDtype('>f4'), he...\n",
            "lep_trackd0pvunbi... | std::vector<float>       | AsJagged(AsDtype('>f4'), he...\n",
            "lep_tracksigd0pvu... | std::vector<float>       | AsJagged(AsDtype('>f4'), he...\n",
            "met_et               | float                    | AsDtype('>f4')\n",
            "met_phi              | float                    | AsDtype('>f4')\n",
            "jet_n                | uint32_t                 | AsDtype('>u4')\n",
            "jet_pt               | std::vector<float>       | AsJagged(AsDtype('>f4'), he...\n",
            "jet_eta              | std::vector<float>       | AsJagged(AsDtype('>f4'), he...\n",
            "jet_phi              | std::vector<float>       | AsJagged(AsDtype('>f4'), he...\n",
            "jet_E                | std::vector<float>       | AsJagged(AsDtype('>f4'), he...\n",
            "jet_jvt              | std::vector<float>       | AsJagged(AsDtype('>f4'), he...\n",
            "jet_trueflav         | std::vector<int32_t>     | AsJagged(AsDtype('>i4'), he...\n",
            "jet_truthMatched     | std::vector<bool>        | AsJagged(AsDtype('bool'), h...\n",
            "jet_MV2c10           | std::vector<float>       | AsJagged(AsDtype('>f4'), he...\n",
            "photon_n             | uint32_t                 | AsDtype('>u4')\n",
            "photon_truthMatched  | std::vector<bool>        | AsJagged(AsDtype('bool'), h...\n",
            "photon_trigMatched   | std::vector<bool>        | AsJagged(AsDtype('bool'), h...\n",
            "photon_pt            | std::vector<float>       | AsJagged(AsDtype('>f4'), he...\n",
            "photon_eta           | std::vector<float>       | AsJagged(AsDtype('>f4'), he...\n",
            "photon_phi           | std::vector<float>       | AsJagged(AsDtype('>f4'), he...\n",
            "photon_E             | std::vector<float>       | AsJagged(AsDtype('>f4'), he...\n",
            "photon_isTightID     | std::vector<bool>        | AsJagged(AsDtype('bool'), h...\n",
            "photon_ptcone30      | std::vector<float>       | AsJagged(AsDtype('>f4'), he...\n",
            "photon_etcone20      | std::vector<float>       | AsJagged(AsDtype('>f4'), he...\n",
            "photon_convType      | std::vector<int32_t>     | AsJagged(AsDtype('>i4'), he...\n",
            "tau_n                | uint32_t                 | AsDtype('>u4')\n",
            "tau_pt               | std::vector<float>       | AsJagged(AsDtype('>f4'), he...\n",
            "tau_eta              | std::vector<float>       | AsJagged(AsDtype('>f4'), he...\n",
            "tau_phi              | std::vector<float>       | AsJagged(AsDtype('>f4'), he...\n",
            "tau_E                | std::vector<float>       | AsJagged(AsDtype('>f4'), he...\n",
            "tau_isTightID        | std::vector<bool>        | AsJagged(AsDtype('bool'), h...\n",
            "tau_truthMatched     | std::vector<bool>        | AsJagged(AsDtype('bool'), h...\n",
            "tau_trigMatched      | std::vector<bool>        | AsJagged(AsDtype('bool'), h...\n",
            "tau_nTracks          | std::vector<int32_t>     | AsJagged(AsDtype('>i4'), he...\n",
            "tau_BDTid            | std::vector<float>       | AsJagged(AsDtype('>f4'), he...\n",
            "ditau_m              | float                    | AsDtype('>f4')\n",
            "lep_pt_syst          | std::vector<float>       | AsJagged(AsDtype('>f4'), he...\n",
            "met_et_syst          | float                    | AsDtype('>f4')\n",
            "jet_pt_syst          | std::vector<float>       | AsJagged(AsDtype('>f4'), he...\n",
            "photon_pt_syst       | std::vector<float>       | AsJagged(AsDtype('>f4'), he...\n",
            "tau_pt_syst          | std::vector<float>       | AsJagged(AsDtype('>f4'), he...\n",
            "XSection             | float                    | AsDtype('>f4')\n",
            "SumWeights           | float                    | AsDtype('>f4')\n",
            "largeRjet_n          | uint32_t                 | AsDtype('>u4')\n",
            "largeRjet_pt         | std::vector<float>       | AsJagged(AsDtype('>f4'), he...\n",
            "largeRjet_eta        | std::vector<float>       | AsJagged(AsDtype('>f4'), he...\n",
            "largeRjet_phi        | std::vector<float>       | AsJagged(AsDtype('>f4'), he...\n",
            "largeRjet_E          | std::vector<float>       | AsJagged(AsDtype('>f4'), he...\n",
            "largeRjet_m          | std::vector<float>       | AsJagged(AsDtype('>f4'), he...\n",
            "largeRjet_truthMa... | std::vector<float>       | AsJagged(AsDtype('>f4'), he...\n",
            "largeRjet_D2         | std::vector<float>       | AsJagged(AsDtype('>f4'), he...\n",
            "largeRjet_tau32      | std::vector<float>       | AsJagged(AsDtype('>f4'), he...\n",
            "largeRjet_pt_syst    | std::vector<float>       | AsJagged(AsDtype('>f4'), he...\n",
            "tau_charge           | std::vector<int32_t>     | AsJagged(AsDtype('>i4'), he...\n"
          ],
          "name": "stdout"
        }
      ]
    },
    {
      "cell_type": "code",
      "metadata": {
        "id": "cyiimkKfksHg"
      },
      "source": [
        "def prepare_dataset( tree ):\r\n",
        "\r\n",
        "  events_limit = 1600\r\n",
        "\r\n",
        "  # Retrieve branches from trees in awkward array\r\n",
        "  vars = ['jet_n','met_et','met_phi','jet_pt','jet_phi','jet_eta','lep_n','lep_pt','lep_eta','lep_phi','largeRjet_n','largeRjet_pt','largeRjet_eta','largeRjet_phi']\r\n",
        "  cuts = 'jet_n == 4' \r\n",
        "  temp_tree = tree.arrays(vars, cuts)\r\n",
        "\r\n",
        "  # Define branches of variable length to be flattened\r\n",
        "  expand_vars = {'jet_pt': 0, \r\n",
        "                 'jet_phi': 0, \r\n",
        "                 'jet_eta': 0, \r\n",
        "                 'largeRjet_pt': 0, \r\n",
        "                 'largeRjet_phi': 0, \r\n",
        "                 'largeRjet_eta': 0,\r\n",
        "                 'lep_pt': 0,\r\n",
        "                 'lep_phi': 0,\r\n",
        "                 'lep_eta': 0 \r\n",
        "                 }\r\n",
        "\r\n",
        "  # Prepare dataframe columns\r\n",
        "  columns = []\r\n",
        "  #for item in vars:\r\n",
        "  #  if item in expand_vars.keys():\r\n",
        "  #    columns.append('{}_{}'.format(item, expand_vars[item]))\r\n",
        "  #  else:\r\n",
        "  #    columns.append(item)\r\n",
        "  temp_df = pd.DataFrame(columns=vars)\r\n",
        "\r\n",
        "  # Fill dataframe\r\n",
        "  for index, entry in progressbar.progressbar(enumerate(temp_tree)):\r\n",
        "    for var in vars:\r\n",
        "      if var in expand_vars:\r\n",
        "        temp_df.at[index, var] = float(entry[var][expand_vars[var]])\r\n",
        "      else:\r\n",
        "        temp_df.at[index, var] = float(entry[var])\r\n",
        "    if index == events_limit:\r\n",
        "      break\r\n",
        "\r\n",
        "  for column in temp_df.columns:\r\n",
        "    temp_df[column] = pd.to_numeric(temp_df[column])\r\n",
        "\r\n",
        "  return temp_df"
      ],
      "execution_count": null,
      "outputs": []
    },
    {
      "cell_type": "code",
      "metadata": {
        "id": "tuD5-gO_kt11"
      },
      "source": [
        "def make_plot( sig, bkg, variable1, variable2='', function='', xlow=0, xhigh=1E6, bins=50, norm=True, log=False ):\r\n",
        "\r\n",
        "  np_bins = np.linspace(xlow, xhigh, bins+1)\r\n",
        "  plt.gcf().clear()\r\n",
        "\r\n",
        "  if variable2 == '' and function == '':\r\n",
        "    plt.hist( sig[variable1], bins=np_bins, density=norm, label='Sig', histtype='step' )\r\n",
        "    plt.hist( bkg[variable1], bins=np_bins, density=norm, label='Bkg', histtype='step' )\r\n",
        "    plt.xlabel(variable1)\r\n",
        "  else:\r\n",
        "    if function == '+':\r\n",
        "      plt.hist( sig[variable1]+sig[variable2], bins=np_bins, density=norm, label='Sig', histtype='step' )\r\n",
        "      plt.hist( bkg[variable1]+bkg[variable2], bins=np_bins, density=norm, label='Bkg', histtype='step' )\r\n",
        "    elif function == '-':\r\n",
        "      plt.hist( sig[variable1]-sig[variable2], bins=np_bins, density=norm, label='Sig', histtype='step' )\r\n",
        "      plt.hist( bkg[variable1]-bkg[variable2], bins=np_bins, density=norm, label='Bkg', histtype='step' )\r\n",
        "    elif function == '*':\r\n",
        "      plt.hist( sig[variable1]*sig[variable2], bins=np_bins, density=norm, label='Sig', histtype='step' )\r\n",
        "      plt.hist( bkg[variable1]*bkg[variable2], bins=np_bins, density=norm, label='Bkg', histtype='step' )\r\n",
        "    elif function == '/':\r\n",
        "      plt.hist( sig[variable1]/sig[variable2], bins=np_bins, density=norm, label='Sig', histtype='step' )\r\n",
        "      plt.hist( bkg[variable1]/bkg[variable2], bins=np_bins, density=norm, label='Bkg', histtype='step' )\r\n",
        "    plt.xlabel('{}{}{}'.format(variable1, function, variable2))\r\n",
        "  if log:\r\n",
        "    plt.yscale('log')\r\n",
        "  plt.grid(False)\r\n",
        "  plt.legend(loc='best')\r\n",
        "  plt.show()"
      ],
      "execution_count": null,
      "outputs": []
    },
    {
      "cell_type": "code",
      "metadata": {
        "colab": {
          "base_uri": "https://localhost:8080/"
        },
        "id": "3cLkIXHVoXgC",
        "outputId": "dd3830fc-212f-4be7-e9ba-56a730a44ffb"
      },
      "source": [
        "stop_df = prepare_dataset(stop_tree)\r\n",
        "top_df = prepare_dataset(top_tree)"
      ],
      "execution_count": null,
      "outputs": [
        {
          "output_type": "stream",
          "text": [
            "| |                             #                  | 1499 Elapsed Time: 0:00:02\n",
            "\\ |                               #                | 1581 Elapsed Time: 0:00:03"
          ],
          "name": "stderr"
        }
      ]
    },
    {
      "cell_type": "code",
      "metadata": {
        "id": "9UvGCP_FLCls"
      },
      "source": [
        "def calculate_mt(df):\r\n",
        "\r\n",
        "  df['dphi_l1_met'] = np.abs(df['lep_phi'] - df['met_phi'])\r\n",
        "  df['mt'] = np.sqrt(2 * df['lep_pt'] * df['met_et'] * (1-np.cos(df['dphi_l1_met'])))\r\n",
        "  return df"
      ],
      "execution_count": null,
      "outputs": []
    },
    {
      "cell_type": "code",
      "metadata": {
        "id": "P9nH7ukmNfYB"
      },
      "source": [
        "stop_df = calculate_mt(stop_df)\r\n",
        "top_df = calculate_mt(top_df)"
      ],
      "execution_count": null,
      "outputs": []
    },
    {
      "cell_type": "code",
      "metadata": {
        "colab": {
          "base_uri": "https://localhost:8080/",
          "height": 1000
        },
        "id": "cnYmSlyFkjX6",
        "outputId": "ffead4db-4b35-4942-83af-4938860c7105"
      },
      "source": [
        "make_plot(stop_df, top_df, 'met_et')\r\n",
        "make_plot(stop_df, top_df, 'met_phi', xlow=-4, xhigh=4, bins=8)\r\n",
        "\r\n",
        "make_plot(stop_df, top_df, 'jet_pt')\r\n",
        "make_plot(stop_df, top_df, 'jet_phi', xlow=-4, xhigh=4, bins=8)\r\n",
        "make_plot(stop_df, top_df, 'jet_eta', xlow=0, xhigh=4, bins=8)\r\n",
        "make_plot(stop_df, top_df, 'lep_n', xlow=0, xhigh=5, bins=5)\r\n",
        "make_plot(stop_df, top_df, 'lep_pt')\r\n",
        "make_plot(stop_df, top_df, 'lep_phi', xlow=-4, xhigh=4, bins=8)\r\n",
        "make_plot(stop_df, top_df, 'lep_eta', xlow=0, xhigh=4, bins=8)\r\n",
        "\r\n",
        "make_plot(stop_df, top_df, 'largeRjet_pt')\r\n",
        "make_plot(stop_df, top_df, 'largeRjet_phi', xlow=-4, xhigh=4, bins=8)\r\n",
        "make_plot(stop_df, top_df, 'largeRjet_eta', xlow=0, xhigh=4, bins=8)\r\n",
        "\r\n",
        "make_plot(stop_df, top_df, 'dphi_l1_met', xlow=0, xhigh=4, bins=8)\r\n",
        "make_plot(stop_df, top_df, 'mt')"
      ],
      "execution_count": null,
      "outputs": [
        {
          "output_type": "display_data",
          "data": {
            "image/png": "[encoded data removed]",
            "text/plain": [
              "<Figure size 432x288 with 1 Axes>"
            ]
          },
          "metadata": {
            "tags": [],
            "needs_background": "light"
          }
        },
        {
          "output_type": "display_data",
          "data": {
            "image/png": "[encoded data removed]",
            "text/plain": [
              "<Figure size 432x288 with 1 Axes>"
            ]
          },
          "metadata": {
            "tags": [],
            "needs_background": "light"
          }
        },
        {
          "output_type": "display_data",
          "data": {
            "image/png": "[encoded data removed]",
            "text/plain": [
              "<Figure size 432x288 with 1 Axes>"
            ]
          },
          "metadata": {
            "tags": [],
            "needs_background": "light"
          }
        },
        {
          "output_type": "display_data",
          "data": {
            "image/png": "[encoded data removed]",
            "text/plain": [
              "<Figure size 432x288 with 1 Axes>"
            ]
          },
          "metadata": {
            "tags": [],
            "needs_background": "light"
          }
        },
        {
          "output_type": "display_data",
          "data": {
            "image/png": "[encoded data removed]",
            "text/plain": [
              "<Figure size 432x288 with 1 Axes>"
            ]
          },
          "metadata": {
            "tags": [],
            "needs_background": "light"
          }
        },
        {
          "output_type": "display_data",
          "data": {
            "image/png": "[encoded data removed]",
            "text/plain": [
              "<Figure size 432x288 with 1 Axes>"
            ]
          },
          "metadata": {
            "tags": [],
            "needs_background": "light"
          }
        },
        {
          "output_type": "display_data",
          "data": {
            "image/png": "[encoded data removed]",
            "text/plain": [
              "<Figure size 432x288 with 1 Axes>"
            ]
          },
          "metadata": {
            "tags": [],
            "needs_background": "light"
          }
        },
        {
          "output_type": "display_data",
          "data": {
            "image/png": "[encoded data removed]",
            "text/plain": [
              "<Figure size 432x288 with 1 Axes>"
            ]
          },
          "metadata": {
            "tags": [],
            "needs_background": "light"
          }
        },
        {
          "output_type": "display_data",
          "data": {
            "image/png": "[encoded data removed]",
            "text/plain": [
              "<Figure size 432x288 with 1 Axes>"
            ]
          },
          "metadata": {
            "tags": [],
            "needs_background": "light"
          }
        },
        {
          "output_type": "display_data",
          "data": {
            "image/png": "[encoded data removed]",
            "text/plain": [
              "<Figure size 432x288 with 1 Axes>"
            ]
          },
          "metadata": {
            "tags": [],
            "needs_background": "light"
          }
        },
        {
          "output_type": "display_data",
          "data": {
            "image/png": "[encoded data removed]",
            "text/plain": [
              "<Figure size 432x288 with 1 Axes>"
            ]
          },
          "metadata": {
            "tags": [],
            "needs_background": "light"
          }
        },
        {
          "output_type": "display_data",
          "data": {
            "image/png": "[encoded data removed]",
            "text/plain": [
              "<Figure size 432x288 with 1 Axes>"
            ]
          },
          "metadata": {
            "tags": [],
            "needs_background": "light"
          }
        },
        {
          "output_type": "display_data",
          "data": {
            "image/png": "[encoded data removed]",
            "text/plain": [
              "<Figure size 432x288 with 1 Axes>"
            ]
          },
          "metadata": {
            "tags": [],
            "needs_background": "light"
          }
        },
        {
          "output_type": "display_data",
          "data": {
            "image/png": "[encoded data removed]",
            "text/plain": [
              "<Figure size 432x288 with 1 Axes>"
            ]
          },
          "metadata": {
            "tags": [],
            "needs_background": "light"
          }
        }
      ]
    },
    {
      "cell_type": "code",
      "metadata": {
        "id": "e09ym5OjV8h2"
      },
      "source": [
        "stop_df['class'] = 1\r\n",
        "top_df['class'] = 0\r\n",
        "merge_df = pd.concat([stop_df, top_df])\r\n",
        "\r\n",
        "X = merge_df.drop(['class'], axis=1)\r\n",
        "y = merge_df[['class']]"
      ],
      "execution_count": null,
      "outputs": []
    },
    {
      "cell_type": "code",
      "metadata": {
        "id": "08mR7a-BNhWK"
      },
      "source": [
        "X_train, X_test, y_train, y_test = train_test_split( X, y, test_size=0.3, random_state=42 )"
      ],
      "execution_count": null,
      "outputs": []
    },
    {
      "cell_type": "code",
      "metadata": {
        "id": "hhtxSqoBViMo"
      },
      "source": [
        "scaler = MinMaxScaler(feature_range=(0,1))\r\n",
        "X_train = scaler.fit_transform(X_train)\r\n",
        "X_test = scaler.transform(X_test)\r\n",
        "#y_train = to_categorical( y_train )\r\n",
        "#y_test = to_categorical( y_test )"
      ],
      "execution_count": null,
      "outputs": []
    },
    {
      "cell_type": "code",
      "metadata": {
        "id": "hpxdWEJmVoxq"
      },
      "source": [
        "def NNmodel():\r\n",
        "\r\n",
        "    model = Sequential()\r\n",
        "    model.add(Dense(8, input_dim=X_train.shape[1], activation='relu', name='layer_1')) # input layer\r\n",
        "    model.add(Dense(10, activation='relu', name='layer_2'))\r\n",
        "    model.add(Dense(10, activation='relu', name='layer_3'))\r\n",
        "    model.add(Dense(1, activation='sigmoid', name='output_layer')) # \r\n",
        "    model.compile(loss='binary_crossentropy', optimizer='adam',metrics=['accuracy'])\r\n",
        "    return model"
      ],
      "execution_count": null,
      "outputs": []
    },
    {
      "cell_type": "code",
      "metadata": {
        "id": "pOWQfBRoVq3r"
      },
      "source": [
        "model = NNmodel()"
      ],
      "execution_count": null,
      "outputs": []
    },
    {
      "cell_type": "code",
      "metadata": {
        "colab": {
          "base_uri": "https://localhost:8080/",
          "height": 755
        },
        "id": "Lhn40IepVtT3",
        "outputId": "c224bd21-3591-4400-bc2b-a35077a4ddd1"
      },
      "source": [
        "print( model.summary() )\r\n",
        "plot_model( model )"
      ],
      "execution_count": null,
      "outputs": [
        {
          "output_type": "stream",
          "text": [
            "Model: \"sequential\"\n",
            "_________________________________________________________________\n",
            "Layer (type)                 Output Shape              Param #   \n",
            "=================================================================\n",
            "layer_1 (Dense)              (None, 8)                 136       \n",
            "_________________________________________________________________\n",
            "layer_2 (Dense)              (None, 10)                90        \n",
            "_________________________________________________________________\n",
            "layer_3 (Dense)              (None, 10)                110       \n",
            "_________________________________________________________________\n",
            "output_layer (Dense)         (None, 1)                 11        \n",
            "=================================================================\n",
            "Total params: 347\n",
            "Trainable params: 347\n",
            "Non-trainable params: 0\n",
            "_________________________________________________________________\n",
            "None\n"
          ],
          "name": "stdout"
        },
        {
          "output_type": "execute_result",
          "data": {
            "image/png": "[encoded data removed]",
            "text/plain": [
              "<IPython.core.display.Image object>"
            ]
          },
          "metadata": {
            "tags": []
          },
          "execution_count": 19
        }
      ]
    },
    {
      "cell_type": "code",
      "metadata": {
        "colab": {
          "base_uri": "https://localhost:8080/"
        },
        "id": "ru_RAuvoVxXH",
        "outputId": "813748d0-3ccc-4b91-f72f-bdb3c400b6dc"
      },
      "source": [
        "early_stop = EarlyStopping(monitor='val_loss', patience=10)\r\n",
        "history = model.fit( X_train, y_train, epochs=200, batch_size=10, validation_data=(X_test, y_test), verbose=2, callbacks=[early_stop] )"
      ],
      "execution_count": null,
      "outputs": [
        {
          "output_type": "stream",
          "text": [
            "Epoch 1/200\n",
            "217/217 - 1s - loss: 0.6538 - accuracy: 0.6737 - val_loss: 0.5878 - val_accuracy: 0.7723\n",
            "Epoch 2/200\n",
            "217/217 - 0s - loss: 0.4687 - accuracy: 0.8235 - val_loss: 0.3816 - val_accuracy: 0.8582\n",
            "Epoch 3/200\n",
            "217/217 - 0s - loss: 0.3652 - accuracy: 0.8562 - val_loss: 0.3555 - val_accuracy: 0.8475\n",
            "Epoch 4/200\n",
            "217/217 - 0s - loss: 0.3440 - accuracy: 0.8654 - val_loss: 0.3430 - val_accuracy: 0.8561\n",
            "Epoch 5/200\n",
            "217/217 - 0s - loss: 0.3338 - accuracy: 0.8650 - val_loss: 0.3389 - val_accuracy: 0.8561\n",
            "Epoch 6/200\n",
            "217/217 - 0s - loss: 0.3272 - accuracy: 0.8728 - val_loss: 0.3312 - val_accuracy: 0.8614\n",
            "Epoch 7/200\n",
            "217/217 - 0s - loss: 0.3253 - accuracy: 0.8742 - val_loss: 0.3341 - val_accuracy: 0.8700\n",
            "Epoch 8/200\n",
            "217/217 - 0s - loss: 0.3251 - accuracy: 0.8733 - val_loss: 0.3322 - val_accuracy: 0.8690\n",
            "Epoch 9/200\n",
            "217/217 - 0s - loss: 0.3244 - accuracy: 0.8756 - val_loss: 0.3297 - val_accuracy: 0.8679\n",
            "Epoch 10/200\n",
            "217/217 - 0s - loss: 0.3217 - accuracy: 0.8714 - val_loss: 0.3560 - val_accuracy: 0.8518\n",
            "Epoch 11/200\n",
            "217/217 - 0s - loss: 0.3276 - accuracy: 0.8668 - val_loss: 0.3283 - val_accuracy: 0.8657\n",
            "Epoch 12/200\n",
            "217/217 - 0s - loss: 0.3258 - accuracy: 0.8696 - val_loss: 0.3332 - val_accuracy: 0.8668\n",
            "Epoch 13/200\n",
            "217/217 - 0s - loss: 0.3208 - accuracy: 0.8710 - val_loss: 0.3399 - val_accuracy: 0.8614\n",
            "Epoch 14/200\n",
            "217/217 - 0s - loss: 0.3219 - accuracy: 0.8760 - val_loss: 0.3310 - val_accuracy: 0.8636\n",
            "Epoch 15/200\n",
            "217/217 - 0s - loss: 0.3205 - accuracy: 0.8751 - val_loss: 0.3336 - val_accuracy: 0.8625\n",
            "Epoch 16/200\n",
            "217/217 - 0s - loss: 0.3190 - accuracy: 0.8724 - val_loss: 0.3370 - val_accuracy: 0.8614\n",
            "Epoch 17/200\n",
            "217/217 - 0s - loss: 0.3216 - accuracy: 0.8714 - val_loss: 0.3465 - val_accuracy: 0.8614\n",
            "Epoch 18/200\n",
            "217/217 - 0s - loss: 0.3209 - accuracy: 0.8691 - val_loss: 0.3336 - val_accuracy: 0.8657\n",
            "Epoch 19/200\n",
            "217/217 - 0s - loss: 0.3193 - accuracy: 0.8728 - val_loss: 0.3288 - val_accuracy: 0.8679\n",
            "Epoch 20/200\n",
            "217/217 - 0s - loss: 0.3211 - accuracy: 0.8742 - val_loss: 0.3275 - val_accuracy: 0.8690\n",
            "Epoch 21/200\n",
            "217/217 - 0s - loss: 0.3224 - accuracy: 0.8714 - val_loss: 0.3283 - val_accuracy: 0.8679\n",
            "Epoch 22/200\n",
            "217/217 - 0s - loss: 0.3189 - accuracy: 0.8733 - val_loss: 0.3273 - val_accuracy: 0.8690\n",
            "Epoch 23/200\n",
            "217/217 - 0s - loss: 0.3195 - accuracy: 0.8733 - val_loss: 0.3323 - val_accuracy: 0.8625\n",
            "Epoch 24/200\n",
            "217/217 - 0s - loss: 0.3207 - accuracy: 0.8733 - val_loss: 0.3266 - val_accuracy: 0.8722\n",
            "Epoch 25/200\n",
            "217/217 - 0s - loss: 0.3195 - accuracy: 0.8705 - val_loss: 0.3294 - val_accuracy: 0.8657\n",
            "Epoch 26/200\n",
            "217/217 - 0s - loss: 0.3176 - accuracy: 0.8733 - val_loss: 0.3271 - val_accuracy: 0.8722\n",
            "Epoch 27/200\n",
            "217/217 - 0s - loss: 0.3180 - accuracy: 0.8774 - val_loss: 0.3296 - val_accuracy: 0.8657\n",
            "Epoch 28/200\n",
            "217/217 - 0s - loss: 0.3181 - accuracy: 0.8724 - val_loss: 0.3273 - val_accuracy: 0.8711\n",
            "Epoch 29/200\n",
            "217/217 - 0s - loss: 0.3199 - accuracy: 0.8696 - val_loss: 0.3351 - val_accuracy: 0.8614\n",
            "Epoch 30/200\n",
            "217/217 - 0s - loss: 0.3185 - accuracy: 0.8719 - val_loss: 0.3266 - val_accuracy: 0.8733\n",
            "Epoch 31/200\n",
            "217/217 - 0s - loss: 0.3193 - accuracy: 0.8627 - val_loss: 0.3266 - val_accuracy: 0.8690\n",
            "Epoch 32/200\n",
            "217/217 - 0s - loss: 0.3169 - accuracy: 0.8696 - val_loss: 0.3405 - val_accuracy: 0.8679\n",
            "Epoch 33/200\n",
            "217/217 - 0s - loss: 0.3200 - accuracy: 0.8719 - val_loss: 0.3269 - val_accuracy: 0.8733\n",
            "Epoch 34/200\n",
            "217/217 - 0s - loss: 0.3179 - accuracy: 0.8747 - val_loss: 0.3320 - val_accuracy: 0.8647\n"
          ],
          "name": "stdout"
        }
      ]
    },
    {
      "cell_type": "code",
      "metadata": {
        "colab": {
          "base_uri": "https://localhost:8080/",
          "height": 282
        },
        "id": "Ca0ZjID9Xbd7",
        "outputId": "47fb61dc-9fcf-440b-e1a7-f2a0858c6eed"
      },
      "source": [
        "plt.plot(history.history['loss'], label='train')\r\n",
        "plt.plot(history.history['val_loss'], label='test')"
      ],
      "execution_count": null,
      "outputs": [
        {
          "output_type": "execute_result",
          "data": {
            "text/plain": [
              "[<matplotlib.lines.Line2D at 0x7f2b4d724400>]"
            ]
          },
          "metadata": {
            "tags": []
          },
          "execution_count": 21
        },
        {
          "output_type": "display_data",
          "data": {
            "image/png": "[encoded data removed]",
            "text/plain": [
              "<Figure size 432x288 with 1 Axes>"
            ]
          },
          "metadata": {
            "tags": [],
            "needs_background": "light"
          }
        }
      ]
    },
    {
      "cell_type": "code",
      "metadata": {
        "colab": {
          "base_uri": "https://localhost:8080/"
        },
        "id": "qM8gR0GujI0L",
        "outputId": "6146c86a-2901-414a-8712-3ec10bd8562d"
      },
      "source": [
        "_, training_accuracy = model.evaluate(X_train, y_train)\r\n",
        "_, test_accuracy = model.evaluate(X_test, y_test)"
      ],
      "execution_count": null,
      "outputs": [
        {
          "output_type": "stream",
          "text": [
            "68/68 [==============================] - 0s 1ms/step - loss: 0.3138 - accuracy: 0.8765\n",
            "30/30 [==============================] - 0s 1ms/step - loss: 0.3320 - accuracy: 0.8647\n"
          ],
          "name": "stdout"
        }
      ]
    },
    {
      "cell_type": "markdown",
      "metadata": {
        "id": "_2hAzsHq2iXC"
      },
      "source": [
        "#Activation functions\n",
        " For each neuron, the output it makes will be of the form  Sum(Weight * x) + bias. But, how does one convert this into a more \"binary\" yes or no statement?\n",
        " So in essence this becomes a function \n",
        " $$ Y =f\\left(\\sum w_i*x_i +b\\right).$$\n",
        " An initial guess would be a step function (where a neuron was either on/off only).\n",
        " But, this becomes problematic when you have several nodes in a network making decisions. A continuum solution is better, so that \"on/off\" is replaced with \"90% on\" etc. This is the role of the activation function, and there are several available. Generally the behaviour that is desired is that it is continuous (or at least piecewise continuous) and piecewise differentiable.\n",
        "\n",
        " Typically activation functions are plotted on the range [-1,1], and we will discuss a few of these.\n",
        "\n",
        " One of the simplest classes of activation function is the linear function\n",
        " $Y=cx$ (c non-zero, real), but in such a case, a network consisting of N layers with such a function can be compressed into a single layer with a different constant defined in the activation function. In order to investigate a network with a non-reducible structure, a \n",
        "\n",
        " A more useful case to binary classification (which has a similar behaviour to the step function) is the sigmoid, defined as:\n",
        "\n",
        " $$Y=\\textrm{sigmoid}(x)=\\frac{1}{1+\\exp(-x)}$$\n",
        " However, the primary issue of the sigmoid function is that for large values of x, the gradient of the activation function is small, which means that the neurons will learn slowly (since the learning process involves minimisation) for large values of x, which is not ideal. \n",
        " \n",
        " An alternative to the sigmoid is the tanh(x) function defined on range [-1,1].\n",
        "\n",
        " $$Y=\\tanh(x)$$\n",
        "\n",
        " which is purely a re-scaled sigmoid, when one considers the hyperbolic identity $$\\tanh(u)=2\\textrm{ sigmoid}(2u)-1 $$\n",
        " This function is steeper than the sigmoid across its range of definition, which may improve the speed of learning.\n",
        "\n",
        "Instead of using the linear activation function, another popular choice of activation function is what is known as \"Rectified Linear Units\" (ReLU), namely the function: \n",
        "$$ Y=max(0,x).$$\n",
        "Since for nodes with $x < 0$, the neuron is not activated (and is effectively discarded), it can greatly reduce computational time by only activating a small subset of nodes (this behaviour is known as `sparse activation`). \n",
        "\n",
        "However, for nodes with $x < 0$, these nodes are effectively \"dead\" and weights associated to these nodes cannot be updated/cannot \"learn\".\n",
        "\n",
        "Some attempts to rectify this include `leaky ReLU`(RelU), typically defined as:\n",
        "$$Y=\\max(ax,x), a = 0.01$$ and exponential linear units (see https://arxiv.org/pdf/1511.07289.pdf)\n",
        "\n",
        "We will now plot some of these activation functions.\n",
        "\n"
      ]
    },
    {
      "cell_type": "code",
      "metadata": {
        "colab": {
          "base_uri": "https://localhost:8080/",
          "height": 279
        },
        "id": "8rQWV1Wl32Q7",
        "outputId": "df9ad4f7-010b-4864-cb5a-cd6e9d106d90"
      },
      "source": [
        "# typically these will be in tensorflow libraries by default\n",
        "import numpy as np\n",
        "def sigmoid(x):\n",
        "  sigmoid=1/(1+np.exp(-x))\n",
        "  return sigmoid\n",
        "\n",
        "def ReLU(x):\n",
        "  if(x>0):\n",
        "    return x\n",
        "  else:\n",
        "    return 0\n",
        "\n",
        "\n",
        "def LeakyReLU(x):\n",
        "  if(x>0):\n",
        "    return x\n",
        "  else:\n",
        "    return 0.05*x # effect exaggerated for plot\n",
        "\n",
        "def PlotActivations():\n",
        "  #function to show the activation functions discussed above\n",
        "  \n",
        "  import matplotlib.pyplot as plt\n",
        "  range_array=np.arange(-10.0,10.0,0.01)\n",
        "  y_sigmoid=[]\n",
        "  y_tanh=[]\n",
        "  y_RelU=[]\n",
        "  y_LRelU=[]\n",
        "  for x in range_array:\n",
        "    y_sigmoid.append(sigmoid(x))\n",
        "    y_tanh.append(np.tanh(x))\n",
        "    y_RelU.append(ReLU(x))\n",
        "    y_LRelU.append(LeakyReLU(x))\n",
        "\n",
        "  plt.plot(range_array,y_sigmoid,color='r',label=\"sigmoid\")\n",
        "  plt.plot(range_array,y_tanh,color='b',label='tanh')\n",
        "  plt.plot(range_array,y_RelU,color='k',label='relu')\n",
        "  plt.plot(range_array,y_LRelU,color='g',label=\"leaky relu\")\n",
        "  plt.xlabel('x')\n",
        "  plt.ylabel('Y')\n",
        "  plt.legend()\n",
        "  return\n",
        "PlotActivations()"
      ],
      "execution_count": null,
      "outputs": [
        {
          "output_type": "display_data",
          "data": {
            "image/png": "[encoded data removed]",
            "text/plain": [
              "<Figure size 432x288 with 1 Axes>"
            ]
          },
          "metadata": {
            "tags": [],
            "needs_background": "light"
          }
        }
      ]
    },
    {
      "cell_type": "code",
      "metadata": {
        "id": "bqlo0BaULEqe"
      },
      "source": [
        ""
      ],
      "execution_count": null,
      "outputs": []
    },
    {
      "cell_type": "markdown",
      "metadata": {
        "id": "T0FQ4Cg6LLKv"
      },
      "source": [
        "Now, we try a different NN configuration to the one we chose before:\n",
        "Replace the activation function for each node in the hidden layers with a sigmoid.\n",
        "\n",
        "Tensorflow (Keras) has several of these activation functions as built-in modules configured by string. The list of available pre-made functions can be found here\n",
        "https://www.tensorflow.org/api_docs/python/tf/keras/activations\n"
      ]
    },
    {
      "cell_type": "code",
      "metadata": {
        "colab": {
          "base_uri": "https://localhost:8080/"
        },
        "id": "APJ6fU3yLgkH",
        "outputId": "2b3101cb-df88-4341-b10c-58af187a5f18"
      },
      "source": [
        "def NNmodel_sigmoid(activation_function=\"sigmoid\"):\n",
        "  model = Sequential()\n",
        "  model.add(Dense(8, input_dim=X_train.shape[1], activation='relu', name='layer_1')) # input layer\n",
        "  model.add(Dense(10, activation=activation_function, name='layer_2'))\n",
        "  model.add(Dense(10, activation=activation_function, name='layer_3'))\n",
        "  model.add(Dense(1, activation='sigmoid', name='output_layer')) # \n",
        "  model.compile(loss='binary_crossentropy', optimizer='adam',metrics=['accuracy'])\n",
        "  return model\n",
        "\n",
        "model_sigmoid=NNmodel_sigmoid()\n",
        "early_stop = EarlyStopping(monitor='val_loss', patience=10)\n",
        "history_sigmoid = model_sigmoid.fit( X_train, y_train, epochs=200, batch_size=10, validation_data=(X_test, y_test), verbose=2, callbacks=[early_stop] )\n",
        "\n"
      ],
      "execution_count": null,
      "outputs": [
        {
          "output_type": "stream",
          "text": [
            "Epoch 1/200\n",
            "217/217 - 0s - loss: 0.6964 - accuracy: 0.4954 - val_loss: 0.6895 - val_accuracy: 0.5102\n",
            "Epoch 2/200\n",
            "217/217 - 0s - loss: 0.6815 - accuracy: 0.6018 - val_loss: 0.6693 - val_accuracy: 0.6187\n",
            "Epoch 3/200\n",
            "217/217 - 0s - loss: 0.6432 - accuracy: 0.7567 - val_loss: 0.6042 - val_accuracy: 0.7809\n",
            "Epoch 4/200\n",
            "217/217 - 0s - loss: 0.5550 - accuracy: 0.8203 - val_loss: 0.4892 - val_accuracy: 0.8582\n",
            "Epoch 5/200\n",
            "217/217 - 0s - loss: 0.4567 - accuracy: 0.8433 - val_loss: 0.4018 - val_accuracy: 0.8604\n",
            "Epoch 6/200\n",
            "217/217 - 0s - loss: 0.3926 - accuracy: 0.8525 - val_loss: 0.3594 - val_accuracy: 0.8604\n",
            "Epoch 7/200\n",
            "217/217 - 0s - loss: 0.3608 - accuracy: 0.8604 - val_loss: 0.3410 - val_accuracy: 0.8668\n",
            "Epoch 8/200\n",
            "217/217 - 0s - loss: 0.3480 - accuracy: 0.8664 - val_loss: 0.3358 - val_accuracy: 0.8679\n",
            "Epoch 9/200\n",
            "217/217 - 0s - loss: 0.3391 - accuracy: 0.8659 - val_loss: 0.3349 - val_accuracy: 0.8593\n",
            "Epoch 10/200\n",
            "217/217 - 0s - loss: 0.3330 - accuracy: 0.8673 - val_loss: 0.3276 - val_accuracy: 0.8679\n",
            "Epoch 11/200\n",
            "217/217 - 0s - loss: 0.3290 - accuracy: 0.8733 - val_loss: 0.3279 - val_accuracy: 0.8625\n",
            "Epoch 12/200\n",
            "217/217 - 0s - loss: 0.3267 - accuracy: 0.8742 - val_loss: 0.3280 - val_accuracy: 0.8614\n",
            "Epoch 13/200\n",
            "217/217 - 0s - loss: 0.3247 - accuracy: 0.8770 - val_loss: 0.3251 - val_accuracy: 0.8700\n",
            "Epoch 14/200\n",
            "217/217 - 0s - loss: 0.3228 - accuracy: 0.8728 - val_loss: 0.3248 - val_accuracy: 0.8700\n",
            "Epoch 15/200\n",
            "217/217 - 0s - loss: 0.3224 - accuracy: 0.8728 - val_loss: 0.3246 - val_accuracy: 0.8711\n",
            "Epoch 16/200\n",
            "217/217 - 0s - loss: 0.3242 - accuracy: 0.8737 - val_loss: 0.3250 - val_accuracy: 0.8690\n",
            "Epoch 17/200\n",
            "217/217 - 0s - loss: 0.3227 - accuracy: 0.8724 - val_loss: 0.3242 - val_accuracy: 0.8722\n",
            "Epoch 18/200\n",
            "217/217 - 0s - loss: 0.3218 - accuracy: 0.8747 - val_loss: 0.3241 - val_accuracy: 0.8679\n",
            "Epoch 19/200\n",
            "217/217 - 0s - loss: 0.3207 - accuracy: 0.8742 - val_loss: 0.3239 - val_accuracy: 0.8722\n",
            "Epoch 20/200\n",
            "217/217 - 0s - loss: 0.3197 - accuracy: 0.8724 - val_loss: 0.3239 - val_accuracy: 0.8711\n",
            "Epoch 21/200\n",
            "217/217 - 0s - loss: 0.3192 - accuracy: 0.8742 - val_loss: 0.3301 - val_accuracy: 0.8657\n",
            "Epoch 22/200\n",
            "217/217 - 0s - loss: 0.3214 - accuracy: 0.8728 - val_loss: 0.3302 - val_accuracy: 0.8647\n",
            "Epoch 23/200\n",
            "217/217 - 0s - loss: 0.3181 - accuracy: 0.8770 - val_loss: 0.3234 - val_accuracy: 0.8722\n",
            "Epoch 24/200\n",
            "217/217 - 0s - loss: 0.3182 - accuracy: 0.8737 - val_loss: 0.3241 - val_accuracy: 0.8722\n",
            "Epoch 25/200\n",
            "217/217 - 0s - loss: 0.3197 - accuracy: 0.8728 - val_loss: 0.3247 - val_accuracy: 0.8722\n",
            "Epoch 26/200\n",
            "217/217 - 0s - loss: 0.3203 - accuracy: 0.8747 - val_loss: 0.3270 - val_accuracy: 0.8690\n",
            "Epoch 27/200\n",
            "217/217 - 0s - loss: 0.3199 - accuracy: 0.8710 - val_loss: 0.3329 - val_accuracy: 0.8657\n",
            "Epoch 28/200\n",
            "217/217 - 0s - loss: 0.3173 - accuracy: 0.8765 - val_loss: 0.3236 - val_accuracy: 0.8743\n",
            "Epoch 29/200\n",
            "217/217 - 0s - loss: 0.3176 - accuracy: 0.8751 - val_loss: 0.3307 - val_accuracy: 0.8679\n",
            "Epoch 30/200\n",
            "217/217 - 0s - loss: 0.3173 - accuracy: 0.8742 - val_loss: 0.3249 - val_accuracy: 0.8722\n",
            "Epoch 31/200\n",
            "217/217 - 0s - loss: 0.3172 - accuracy: 0.8733 - val_loss: 0.3234 - val_accuracy: 0.8722\n",
            "Epoch 32/200\n",
            "217/217 - 0s - loss: 0.3192 - accuracy: 0.8705 - val_loss: 0.3289 - val_accuracy: 0.8679\n",
            "Epoch 33/200\n",
            "217/217 - 0s - loss: 0.3213 - accuracy: 0.8728 - val_loss: 0.3235 - val_accuracy: 0.8711\n"
          ],
          "name": "stdout"
        }
      ]
    },
    {
      "cell_type": "markdown",
      "metadata": {
        "id": "bZkSgRBZPvT0"
      },
      "source": [
        "Now plot the loss as a function of epoch for the training set, comparing to the previously configured model"
      ]
    },
    {
      "cell_type": "code",
      "metadata": {
        "colab": {
          "base_uri": "https://localhost:8080/",
          "height": 296
        },
        "id": "R2GSTyazOEpx",
        "outputId": "f88b7f29-2516-42af-e228-8dfb90071d72"
      },
      "source": [
        "plt.plot(history_sigmoid.history['loss'], label='train_sigmoid',color=\"r\")\n",
        "plt.plot(history.history['loss'], label='train_nominal',color='b')\n",
        "plt.xlabel('epoch')\n",
        "plt.ylabel('Loss')\n",
        "plt.legend()"
      ],
      "execution_count": null,
      "outputs": [
        {
          "output_type": "execute_result",
          "data": {
            "text/plain": [
              "<matplotlib.legend.Legend at 0x7f2b42dd46d8>"
            ]
          },
          "metadata": {
            "tags": []
          },
          "execution_count": 25
        },
        {
          "output_type": "display_data",
          "data": {
            "image/png": "[encoded data removed]",
            "text/plain": [
              "<Figure size 432x288 with 1 Axes>"
            ]
          },
          "metadata": {
            "tags": [],
            "needs_background": "light"
          }
        }
      ]
    },
    {
      "cell_type": "markdown",
      "metadata": {
        "id": "VvGe6-NZP-Fl"
      },
      "source": [
        "And similarly for the validation loss as a function of epoch"
      ]
    },
    {
      "cell_type": "code",
      "metadata": {
        "colab": {
          "base_uri": "https://localhost:8080/",
          "height": 296
        },
        "id": "cuOX57uqP8Bs",
        "outputId": "3a8d3610-90e3-47ae-d2f7-2ddd28d0dffe"
      },
      "source": [
        "plt.plot(history_sigmoid.history[\"val_loss\"],label='test_sigmoid',color='r')\n",
        "plt.plot(history.history[\"val_loss\"],label='test_nominal',color='b')\n",
        "plt.xlabel('epoch')\n",
        "plt.ylabel('Validation loss')\n",
        "plt.legend()"
      ],
      "execution_count": null,
      "outputs": [
        {
          "output_type": "execute_result",
          "data": {
            "text/plain": [
              "<matplotlib.legend.Legend at 0x7f2b42e909b0>"
            ]
          },
          "metadata": {
            "tags": []
          },
          "execution_count": 26
        },
        {
          "output_type": "display_data",
          "data": {
            "image/png": "[encoded data removed]",
            "text/plain": [
              "<Figure size 432x288 with 1 Axes>"
            ]
          },
          "metadata": {
            "tags": [],
            "needs_background": "light"
          }
        }
      ]
    },
    {
      "cell_type": "markdown",
      "metadata": {
        "id": "0q-t3uEDR7QA"
      },
      "source": [
        "And the accuracy as a function of epoch"
      ]
    },
    {
      "cell_type": "code",
      "metadata": {
        "colab": {
          "base_uri": "https://localhost:8080/",
          "height": 296
        },
        "id": "25XxGqDkSn59",
        "outputId": "b9f13cde-dbe2-4f79-cddf-1ef435a7efc9"
      },
      "source": [
        "plt.plot(history_sigmoid.history['accuracy'],label='acc_sigmoid',color='r')\n",
        "plt.plot(history.history['accuracy'],label='acc_nominal',color='b')\n",
        "plt.xlabel('epoch')\n",
        "plt.ylabel('accuracy')\n",
        "plt.legend()"
      ],
      "execution_count": null,
      "outputs": [
        {
          "output_type": "execute_result",
          "data": {
            "text/plain": [
              "<matplotlib.legend.Legend at 0x7f2b42e797f0>"
            ]
          },
          "metadata": {
            "tags": []
          },
          "execution_count": 27
        },
        {
          "output_type": "display_data",
          "data": {
            "image/png": "[encoded data removed]",
            "text/plain": [
              "<Figure size 432x288 with 1 Axes>"
            ]
          },
          "metadata": {
            "tags": [],
            "needs_background": "light"
          }
        }
      ]
    },
    {
      "cell_type": "markdown",
      "metadata": {
        "id": "VYQxbS3VTReK"
      },
      "source": [
        "As you can see, the effect of using ReLU for the hidden layers is that the NN learns faster than that of the NN configured with a sigmoid in the activation function, taking advantage of the sparse activation discussed above, with similar overall performance.\n",
        "\n",
        "In a real physics use case on large datasets, the CPU/GPU processing time is a major overhead that one must consider when implementing a NN, so fewer epochs to converge = faster.\n",
        "\n",
        "However, there is no preferred choice of activation functions in a NN, so one must attempt with trial and error."
      ]
    },
    {
      "cell_type": "markdown",
      "metadata": {
        "id": "hr3XQTjiU2OS"
      },
      "source": [
        "# Useful parameters to configure: Learning rate\n",
        "NNs involve configuration of the learning rate (extent to which weights are updated after each back-propagation step/epoch), which is typically taken to be in the range $(0.0,1.0)$. The learning rate determines the speed at which the model \"learns\", such that the larger the learning rate, the faster the model learns at the cost of a somewhat sub-optimal set of parameters and the converse case for the small learning rate.\n",
        "\n",
        "However, if the learning rates are too large, the weight updates will be too large and will oscillate over training epochs. Conversely if the learning rates are too small, a model may converge to a sub-optimal set of weights.\n",
        "\n",
        "The Tensorflow default for this parameter is `LR=0.01`, and we will vary this parameter to `LR=0.02` to demonstrate the impact of this parameter.\n",
        "\n",
        "The exact choice for your use case must be determined by trial and error."
      ]
    },
    {
      "cell_type": "code",
      "metadata": {
        "colab": {
          "base_uri": "https://localhost:8080/"
        },
        "id": "Tf3uR0_ZXY_q",
        "outputId": "cc36d977-fee0-4cb1-b284-b3bff17e6f13"
      },
      "source": [
        "def NNmodel_altLR(activation_function=\"relu\"):\n",
        "  model = Sequential()\n",
        "  model.add(Dense(8, input_dim=X_train.shape[1], activation='relu', name='layer_1')) # input layer\n",
        "  model.add(Dense(10, activation=activation_function, name='layer_2'))\n",
        "  model.add(Dense(10, activation=activation_function, name='layer_3'))\n",
        "  model.add(Dense(1, activation='sigmoid', name='output_layer')) \n",
        "  #configure the optimiser. This is where the learning rate is configured\n",
        "  learningrate=0.02\n",
        "  opt=Adam(learning_rate=learningrate)\n",
        "  # can now pass the optimizer we just defined into the model\n",
        "  model.compile(loss='binary_crossentropy', optimizer=opt,metrics=['accuracy'])\n",
        "  return model,learningrate\n",
        "\n",
        "NNmodel_altLR,learningrate=NNmodel_altLR()\n",
        "\n",
        "early_stop = EarlyStopping(monitor='val_loss', patience=10)\n",
        "history_altLR = NNmodel_altLR.fit( X_train, y_train, epochs=200, batch_size=10, validation_data=(X_test, y_test), verbose=2, callbacks=[early_stop] )\n",
        "\n"
      ],
      "execution_count": null,
      "outputs": [
        {
          "output_type": "stream",
          "text": [
            "Epoch 1/200\n",
            "217/217 - 0s - loss: 0.4250 - accuracy: 0.8120 - val_loss: 0.3404 - val_accuracy: 0.8593\n",
            "Epoch 2/200\n",
            "217/217 - 0s - loss: 0.3533 - accuracy: 0.8502 - val_loss: 0.3690 - val_accuracy: 0.8582\n",
            "Epoch 3/200\n",
            "217/217 - 0s - loss: 0.3647 - accuracy: 0.8507 - val_loss: 0.3394 - val_accuracy: 0.8690\n",
            "Epoch 4/200\n",
            "217/217 - 0s - loss: 0.3339 - accuracy: 0.8576 - val_loss: 0.3301 - val_accuracy: 0.8690\n",
            "Epoch 5/200\n",
            "217/217 - 0s - loss: 0.3388 - accuracy: 0.8590 - val_loss: 0.3549 - val_accuracy: 0.8604\n",
            "Epoch 6/200\n",
            "217/217 - 0s - loss: 0.3341 - accuracy: 0.8613 - val_loss: 0.3609 - val_accuracy: 0.8539\n",
            "Epoch 7/200\n",
            "217/217 - 0s - loss: 0.3325 - accuracy: 0.8613 - val_loss: 0.3534 - val_accuracy: 0.8690\n",
            "Epoch 8/200\n",
            "217/217 - 1s - loss: 0.3387 - accuracy: 0.8585 - val_loss: 0.3386 - val_accuracy: 0.8690\n",
            "Epoch 9/200\n",
            "217/217 - 0s - loss: 0.3331 - accuracy: 0.8636 - val_loss: 0.3298 - val_accuracy: 0.8700\n",
            "Epoch 10/200\n",
            "217/217 - 0s - loss: 0.3281 - accuracy: 0.8659 - val_loss: 0.3318 - val_accuracy: 0.8657\n",
            "Epoch 11/200\n",
            "217/217 - 0s - loss: 0.3297 - accuracy: 0.8599 - val_loss: 0.3330 - val_accuracy: 0.8711\n",
            "Epoch 12/200\n",
            "217/217 - 0s - loss: 0.3301 - accuracy: 0.8613 - val_loss: 0.3391 - val_accuracy: 0.8690\n",
            "Epoch 13/200\n",
            "217/217 - 0s - loss: 0.3298 - accuracy: 0.8650 - val_loss: 0.3259 - val_accuracy: 0.8690\n",
            "Epoch 14/200\n",
            "217/217 - 0s - loss: 0.3275 - accuracy: 0.8645 - val_loss: 0.3459 - val_accuracy: 0.8657\n",
            "Epoch 15/200\n",
            "217/217 - 0s - loss: 0.3289 - accuracy: 0.8705 - val_loss: 0.3360 - val_accuracy: 0.8743\n",
            "Epoch 16/200\n",
            "217/217 - 0s - loss: 0.3193 - accuracy: 0.8687 - val_loss: 0.3280 - val_accuracy: 0.8647\n",
            "Epoch 17/200\n",
            "217/217 - 0s - loss: 0.3322 - accuracy: 0.8654 - val_loss: 0.3375 - val_accuracy: 0.8765\n",
            "Epoch 18/200\n",
            "217/217 - 0s - loss: 0.3282 - accuracy: 0.8654 - val_loss: 0.3355 - val_accuracy: 0.8700\n",
            "Epoch 19/200\n",
            "217/217 - 0s - loss: 0.3250 - accuracy: 0.8599 - val_loss: 0.3718 - val_accuracy: 0.8668\n",
            "Epoch 20/200\n",
            "217/217 - 0s - loss: 0.3216 - accuracy: 0.8714 - val_loss: 0.3398 - val_accuracy: 0.8636\n",
            "Epoch 21/200\n",
            "217/217 - 0s - loss: 0.3221 - accuracy: 0.8714 - val_loss: 0.3296 - val_accuracy: 0.8690\n",
            "Epoch 22/200\n",
            "217/217 - 0s - loss: 0.3204 - accuracy: 0.8687 - val_loss: 0.3319 - val_accuracy: 0.8668\n",
            "Epoch 23/200\n",
            "217/217 - 0s - loss: 0.3270 - accuracy: 0.8687 - val_loss: 0.3488 - val_accuracy: 0.8700\n"
          ],
          "name": "stdout"
        }
      ]
    },
    {
      "cell_type": "code",
      "metadata": {
        "colab": {
          "base_uri": "https://localhost:8080/",
          "height": 296
        },
        "id": "HS30vM7TaHiF",
        "outputId": "764c66b1-aa57-46e2-f107-7220f9e1a0ae"
      },
      "source": [
        "plt.plot(history.history['loss'],label='loss (nominal LR)',color='r')\n",
        "plt.plot(history_altLR.history['loss'],label='loss (LR={})'.format(learningrate))\n",
        "plt.xlabel('epoch')\n",
        "plt.ylabel('Training loss')\n",
        "plt.legend()"
      ],
      "execution_count": null,
      "outputs": [
        {
          "output_type": "execute_result",
          "data": {
            "text/plain": [
              "<matplotlib.legend.Legend at 0x7f2b4ecc5a58>"
            ]
          },
          "metadata": {
            "tags": []
          },
          "execution_count": 29
        },
        {
          "output_type": "display_data",
          "data": {
            "image/png": "[encoded data removed]",
            "text/plain": [
              "<Figure size 432x288 with 1 Axes>"
            ]
          },
          "metadata": {
            "tags": [],
            "needs_background": "light"
          }
        }
      ]
    },
    {
      "cell_type": "code",
      "metadata": {
        "colab": {
          "base_uri": "https://localhost:8080/",
          "height": 296
        },
        "id": "AQFk94E6aMVo",
        "outputId": "00293f68-02ba-4545-f896-b45da211a5fb"
      },
      "source": [
        "plt.plot(history_altLR.history[\"accuracy\"],label='accuracy (LR={})'.format(learningrate),color='b')\n",
        "plt.plot(history.history['accuracy'],label='accuracy (nominal LR)',color='r')\n",
        "plt.xlabel('epoch')\n",
        "plt.ylabel('Accuracy')\n",
        "plt.legend()"
      ],
      "execution_count": null,
      "outputs": [
        {
          "output_type": "execute_result",
          "data": {
            "text/plain": [
              "<matplotlib.legend.Legend at 0x7f2b42d36a58>"
            ]
          },
          "metadata": {
            "tags": []
          },
          "execution_count": 30
        },
        {
          "output_type": "display_data",
          "data": {
            "image/png": "[encoded data removed]",
            "text/plain": [
              "<Figure size 432x288 with 1 Axes>"
            ]
          },
          "metadata": {
            "tags": [],
            "needs_background": "light"
          }
        }
      ]
    },
    {
      "cell_type": "markdown",
      "metadata": {
        "id": "y1wyllaSdMEv"
      },
      "source": [
        "Extension exercise:\n",
        "\n",
        "Use the results of previous tasks to configure the DNN with different input variables, learning rates and activation functions for hidden/output nodes to produce the best classification."
      ]
    },
    {
      "cell_type": "code",
      "metadata": {
        "id": "boDjzPRTdSX2"
      },
      "source": [
        ""
      ],
      "execution_count": null,
      "outputs": []
    }
  ]
}