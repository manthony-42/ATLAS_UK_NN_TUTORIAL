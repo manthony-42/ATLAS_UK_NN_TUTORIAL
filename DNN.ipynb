{
  "nbformat": 4,
  "nbformat_minor": 0,
  "metadata": {
    "kernelspec": {
      "display_name": "Python 3",
      "language": "python",
      "name": "python3"
    },
    "language_info": {
      "codemirror_mode": {
        "name": "ipython",
        "version": 3
      },
      "file_extension": ".py",
      "mimetype": "text/x-python",
      "name": "python",
      "nbconvert_exporter": "python",
      "pygments_lexer": "ipython3",
      "version": "3.7.6"
    },
    "colab": {
      "name": "DNN.ipynb",
      "provenance": [],
      "collapsed_sections": [
        "Ps2xK8_3bfvr",
        "iX6XQouebRLQ"
      ],
      "toc_visible": true
    }
  },
  "cells": [
    {
      "cell_type": "markdown",
      "metadata": {
        "id": "uS5RSOR8Q3FP"
      },
      "source": [
        "# Welcome to the ATLAS UK (Jan. 2021) ML tutorial!    \r\n",
        "## This tutorial will attempt to guide you through a short analysis chain. The general outline of this tutorial is as follows:\r\n",
        "\r\n",
        "1. Setup the workbook environment and download some ATLAS Open Data samples. \r\n",
        "2. Implement some basic selections and make some plots of the kinematic variables.\r\n",
        "3. Train a deep neural network to discriminate between the signal process of interest and the major background sample.\r\n",
        "4. Test the significance of the discrimination using a cut on the output of the DNN.\r\n",
        "\r\n",
        "\r\n"
      ]
    },
    {
      "cell_type": "markdown",
      "metadata": {
        "id": "AIwBfFf5Qsnx"
      },
      "source": [
        "## 0. Colab workbook basics\n",
        "#### *Running cells in Google Colab*: \n",
        "1.   Run each cell individually (or stop/restart them) by clicking on the arrow icon on each code cell. Cells marked with a number have been already run.\n",
        "2.   `Runtime` menu allows you to clear all cells, run all cells etc.\n",
        "\n",
        "#### *Adding cells in Google Colab*:\n",
        "Both cells and textboxes can be appended to google colab either by clicking the relevant section and then clicking the \"+ Code\" button or \"+Text\"  option above, or by hovering over the bottom of the relevant section/block to see the same options. \n",
        "\n",
        "#### *Saving the notebook*\n",
        "You can save a copy with the updates you make into your own Google Drive area (using \"Copy to Drive\" or File/Save a copy in Drive\"), and there is github integration (unfortunately NOT Gitlab) under the \"File/Save to Github\".\n",
        "\n",
        "\n"
      ]
    },
    {
      "cell_type": "markdown",
      "metadata": {
        "id": "kaPvFvUGVHvg"
      },
      "source": [
        "### 1. Getting the workbook environment set up!\r\n",
        "This tutorial makes use of modern HEP software libraries, such as [Uproot4](https://uproot.readthedocs.io/en/latest/), while also leverging tools widely used in data science, such as Pandas, numpy and sklearn. Uproot4 enables us to use ROOT files as inputs to this tutorial, without needing an install of ROOT to hand!    \r\n",
        "To get started, set:\r\n",
        "\r\n",
        "```\r\n",
        "first_run = True\r\n",
        "```\r\n",
        "\r\n",
        "After doing this,*italicised text* run the first two cells. Every time you open this workbook on a new instance of Google Colab, you will need to run this step to install the required packages. "
      ]
    },
    {
      "cell_type": "code",
      "metadata": {
        "id": "JTKfrXbfhMCc"
      },
      "source": [
        "first_run = True"
      ],
      "execution_count": 1,
      "outputs": []
    },
    {
      "cell_type": "code",
      "metadata": {
        "colab": {
          "base_uri": "https://localhost:8080/"
        },
        "id": "P--kTtVvccp5",
        "outputId": "066450bd-9dd1-48f5-dc74-0c306f62d08f"
      },
      "source": [
        "if first_run:\n",
        "  print('--- INSTALLING PACKAGES ---')\n",
        "  !python3 -m pip install --upgrade pip\n",
        "  !python3 -m pip install grpcio==1.32.0\n",
        "  !python3 -m pip install tensorflow==2.2.0\n",
        "  !python3 -m pip install keras\n",
        "  !python3 -m pip install sklearn\n",
        "  !python3 -m pip install pydot\n",
        "  !python3 -m pip install graphviz\n",
        "  !python3 -m pip install uproot4\n",
        "  !python3 -m pip install awkward1\n",
        "  !python3 -m pip install progressbar2\n",
        "else:\n",
        "  print('--- SKIPPING INSTALL ---')"
      ],
      "execution_count": 2,
      "outputs": [
        {
          "output_type": "stream",
          "text": [
            "--- INSTALLING PACKAGES ---\n",
            "Requirement already satisfied: pip in /usr/local/lib/python3.6/dist-packages (20.3.3)\n",
            "Requirement already satisfied: grpcio==1.32.0 in /usr/local/lib/python3.6/dist-packages (1.32.0)\n",
            "Requirement already satisfied: six>=1.5.2 in /usr/local/lib/python3.6/dist-packages (from grpcio==1.32.0) (1.15.0)\n",
            "Requirement already satisfied: tensorflow==2.2.0 in /usr/local/lib/python3.6/dist-packages (2.2.0)\n",
            "Requirement already satisfied: protobuf>=3.8.0 in /usr/local/lib/python3.6/dist-packages (from tensorflow==2.2.0) (3.12.4)\n",
            "Requirement already satisfied: wheel>=0.26 in /usr/local/lib/python3.6/dist-packages (from tensorflow==2.2.0) (0.36.2)\n",
            "Requirement already satisfied: astunparse==1.6.3 in /usr/local/lib/python3.6/dist-packages (from tensorflow==2.2.0) (1.6.3)\n",
            "Requirement already satisfied: google-pasta>=0.1.8 in /usr/local/lib/python3.6/dist-packages (from tensorflow==2.2.0) (0.2.0)\n",
            "Requirement already satisfied: grpcio>=1.8.6 in /usr/local/lib/python3.6/dist-packages (from tensorflow==2.2.0) (1.32.0)\n",
            "Requirement already satisfied: wrapt>=1.11.1 in /usr/local/lib/python3.6/dist-packages (from tensorflow==2.2.0) (1.12.1)\n",
            "Requirement already satisfied: tensorflow-estimator<2.3.0,>=2.2.0 in /usr/local/lib/python3.6/dist-packages (from tensorflow==2.2.0) (2.2.0)\n",
            "Requirement already satisfied: keras-preprocessing>=1.1.0 in /usr/local/lib/python3.6/dist-packages (from tensorflow==2.2.0) (1.1.2)\n",
            "Requirement already satisfied: gast==0.3.3 in /usr/local/lib/python3.6/dist-packages (from tensorflow==2.2.0) (0.3.3)\n",
            "Requirement already satisfied: h5py<2.11.0,>=2.10.0 in /usr/local/lib/python3.6/dist-packages (from tensorflow==2.2.0) (2.10.0)\n",
            "Requirement already satisfied: numpy<2.0,>=1.16.0 in /usr/local/lib/python3.6/dist-packages (from tensorflow==2.2.0) (1.19.4)\n",
            "Requirement already satisfied: termcolor>=1.1.0 in /usr/local/lib/python3.6/dist-packages (from tensorflow==2.2.0) (1.1.0)\n",
            "Requirement already satisfied: scipy==1.4.1 in /usr/local/lib/python3.6/dist-packages (from tensorflow==2.2.0) (1.4.1)\n",
            "Requirement already satisfied: opt-einsum>=2.3.2 in /usr/local/lib/python3.6/dist-packages (from tensorflow==2.2.0) (3.3.0)\n",
            "Requirement already satisfied: absl-py>=0.7.0 in /usr/local/lib/python3.6/dist-packages (from tensorflow==2.2.0) (0.10.0)\n",
            "Requirement already satisfied: tensorboard<2.3.0,>=2.2.0 in /usr/local/lib/python3.6/dist-packages (from tensorflow==2.2.0) (2.2.2)\n",
            "Requirement already satisfied: six>=1.12.0 in /usr/local/lib/python3.6/dist-packages (from tensorflow==2.2.0) (1.15.0)\n",
            "Requirement already satisfied: setuptools in /usr/local/lib/python3.6/dist-packages (from protobuf>=3.8.0->tensorflow==2.2.0) (51.0.0)\n",
            "Requirement already satisfied: markdown>=2.6.8 in /usr/local/lib/python3.6/dist-packages (from tensorboard<2.3.0,>=2.2.0->tensorflow==2.2.0) (3.3.3)\n",
            "Requirement already satisfied: tensorboard-plugin-wit>=1.6.0 in /usr/local/lib/python3.6/dist-packages (from tensorboard<2.3.0,>=2.2.0->tensorflow==2.2.0) (1.7.0)\n",
            "Requirement already satisfied: google-auth-oauthlib<0.5,>=0.4.1 in /usr/local/lib/python3.6/dist-packages (from tensorboard<2.3.0,>=2.2.0->tensorflow==2.2.0) (0.4.2)\n",
            "Requirement already satisfied: werkzeug>=0.11.15 in /usr/local/lib/python3.6/dist-packages (from tensorboard<2.3.0,>=2.2.0->tensorflow==2.2.0) (1.0.1)\n",
            "Requirement already satisfied: google-auth<2,>=1.6.3 in /usr/local/lib/python3.6/dist-packages (from tensorboard<2.3.0,>=2.2.0->tensorflow==2.2.0) (1.17.2)\n",
            "Requirement already satisfied: requests<3,>=2.21.0 in /usr/local/lib/python3.6/dist-packages (from tensorboard<2.3.0,>=2.2.0->tensorflow==2.2.0) (2.23.0)\n",
            "Requirement already satisfied: cachetools<5.0,>=2.0.0 in /usr/local/lib/python3.6/dist-packages (from google-auth<2,>=1.6.3->tensorboard<2.3.0,>=2.2.0->tensorflow==2.2.0) (4.2.0)\n",
            "Requirement already satisfied: pyasn1-modules>=0.2.1 in /usr/local/lib/python3.6/dist-packages (from google-auth<2,>=1.6.3->tensorboard<2.3.0,>=2.2.0->tensorflow==2.2.0) (0.2.8)\n",
            "Requirement already satisfied: rsa<5,>=3.1.4 in /usr/local/lib/python3.6/dist-packages (from google-auth<2,>=1.6.3->tensorboard<2.3.0,>=2.2.0->tensorflow==2.2.0) (4.6)\n",
            "Requirement already satisfied: requests-oauthlib>=0.7.0 in /usr/local/lib/python3.6/dist-packages (from google-auth-oauthlib<0.5,>=0.4.1->tensorboard<2.3.0,>=2.2.0->tensorflow==2.2.0) (1.3.0)\n",
            "Requirement already satisfied: importlib-metadata in /usr/local/lib/python3.6/dist-packages (from markdown>=2.6.8->tensorboard<2.3.0,>=2.2.0->tensorflow==2.2.0) (3.3.0)\n",
            "Requirement already satisfied: pyasn1<0.5.0,>=0.4.6 in /usr/local/lib/python3.6/dist-packages (from pyasn1-modules>=0.2.1->google-auth<2,>=1.6.3->tensorboard<2.3.0,>=2.2.0->tensorflow==2.2.0) (0.4.8)\n",
            "Requirement already satisfied: urllib3!=1.25.0,!=1.25.1,<1.26,>=1.21.1 in /usr/local/lib/python3.6/dist-packages (from requests<3,>=2.21.0->tensorboard<2.3.0,>=2.2.0->tensorflow==2.2.0) (1.24.3)\n",
            "Requirement already satisfied: chardet<4,>=3.0.2 in /usr/local/lib/python3.6/dist-packages (from requests<3,>=2.21.0->tensorboard<2.3.0,>=2.2.0->tensorflow==2.2.0) (3.0.4)\n",
            "Requirement already satisfied: idna<3,>=2.5 in /usr/local/lib/python3.6/dist-packages (from requests<3,>=2.21.0->tensorboard<2.3.0,>=2.2.0->tensorflow==2.2.0) (2.10)\n",
            "Requirement already satisfied: certifi>=2017.4.17 in /usr/local/lib/python3.6/dist-packages (from requests<3,>=2.21.0->tensorboard<2.3.0,>=2.2.0->tensorflow==2.2.0) (2020.12.5)\n",
            "Requirement already satisfied: oauthlib>=3.0.0 in /usr/local/lib/python3.6/dist-packages (from requests-oauthlib>=0.7.0->google-auth-oauthlib<0.5,>=0.4.1->tensorboard<2.3.0,>=2.2.0->tensorflow==2.2.0) (3.1.0)\n",
            "Requirement already satisfied: zipp>=0.5 in /usr/local/lib/python3.6/dist-packages (from importlib-metadata->markdown>=2.6.8->tensorboard<2.3.0,>=2.2.0->tensorflow==2.2.0) (3.4.0)\n",
            "Requirement already satisfied: typing-extensions>=3.6.4 in /usr/local/lib/python3.6/dist-packages (from importlib-metadata->markdown>=2.6.8->tensorboard<2.3.0,>=2.2.0->tensorflow==2.2.0) (3.7.4.3)\n",
            "Requirement already satisfied: keras in /usr/local/lib/python3.6/dist-packages (2.4.3)\n",
            "Requirement already satisfied: pyyaml in /usr/local/lib/python3.6/dist-packages (from keras) (3.13)\n",
            "Requirement already satisfied: numpy>=1.9.1 in /usr/local/lib/python3.6/dist-packages (from keras) (1.19.4)\n",
            "Requirement already satisfied: h5py in /usr/local/lib/python3.6/dist-packages (from keras) (2.10.0)\n",
            "Requirement already satisfied: scipy>=0.14 in /usr/local/lib/python3.6/dist-packages (from keras) (1.4.1)\n",
            "Requirement already satisfied: six in /usr/local/lib/python3.6/dist-packages (from h5py->keras) (1.15.0)\n",
            "Requirement already satisfied: sklearn in /usr/local/lib/python3.6/dist-packages (0.0)\n",
            "Requirement already satisfied: scikit-learn in /usr/local/lib/python3.6/dist-packages (from sklearn) (0.22.2.post1)\n",
            "Requirement already satisfied: scipy>=0.17.0 in /usr/local/lib/python3.6/dist-packages (from scikit-learn->sklearn) (1.4.1)\n",
            "Requirement already satisfied: numpy>=1.11.0 in /usr/local/lib/python3.6/dist-packages (from scikit-learn->sklearn) (1.19.4)\n",
            "Requirement already satisfied: joblib>=0.11 in /usr/local/lib/python3.6/dist-packages (from scikit-learn->sklearn) (1.0.0)\n",
            "Requirement already satisfied: pydot in /usr/local/lib/python3.6/dist-packages (1.3.0)\n",
            "Requirement already satisfied: pyparsing>=2.1.4 in /usr/local/lib/python3.6/dist-packages (from pydot) (2.4.7)\n",
            "Requirement already satisfied: graphviz in /usr/local/lib/python3.6/dist-packages (0.10.1)\n",
            "Requirement already satisfied: uproot4 in /usr/local/lib/python3.6/dist-packages (4.0.0)\n",
            "Requirement already satisfied: uproot>=4.0.0 in /usr/local/lib/python3.6/dist-packages (from uproot4) (4.0.0)\n",
            "Requirement already satisfied: numpy in /usr/local/lib/python3.6/dist-packages (from uproot>=4.0.0->uproot4) (1.19.4)\n",
            "Requirement already satisfied: awkward1 in /usr/local/lib/python3.6/dist-packages (1.0.0)\n",
            "Requirement already satisfied: awkward>=1.0.0 in /usr/local/lib/python3.6/dist-packages (from awkward1) (1.0.1)\n",
            "Requirement already satisfied: numpy>=1.13.1 in /usr/local/lib/python3.6/dist-packages (from awkward>=1.0.0->awkward1) (1.19.4)\n",
            "Requirement already satisfied: progressbar2 in /usr/local/lib/python3.6/dist-packages (3.38.0)\n",
            "Requirement already satisfied: six in /usr/local/lib/python3.6/dist-packages (from progressbar2) (1.15.0)\n",
            "Requirement already satisfied: python-utils>=2.3.0 in /usr/local/lib/python3.6/dist-packages (from progressbar2) (2.4.0)\n"
          ],
          "name": "stdout"
        }
      ]
    },
    {
      "cell_type": "markdown",
      "metadata": {
        "id": "LzyoXSPjXBa-"
      },
      "source": [
        "In addition, we should now download the ATLAS Open Data files that we will use for this tutorial. Again, we should do this when we first run the workbook on an instance of Google Colab. A lot of helpful info about the available ATLAS Open Data samples can be found here: [ATLAS Open Data portal](http://opendata.atlas.cern/release/2020/documentation/).    \r\n",
        "You may have noticed that the previous cell and this cell use shell commands. To use standard shell commands, start the line with an exclamation mark. "
      ]
    },
    {
      "cell_type": "code",
      "metadata": {
        "id": "8XMn8iYYXGJn",
        "colab": {
          "base_uri": "https://localhost:8080/"
        },
        "outputId": "61f2643b-0ce1-4496-ec34-da1dbd7b6027"
      },
      "source": [
        "if first_run:\r\n",
        "  !rm *.root*\r\n",
        "  !wget http://opendata.cern.ch/eos/opendata/atlas/OutreachDatasets/2020-01-22/1largeRjet1lep/MC/mc_387163.TT_directTT_600_1.1largeRjet1lep.root\r\n",
        "  !wget http://opendata.cern.ch/eos/opendata/atlas/OutreachDatasets/2020-01-22/1largeRjet1lep/MC/mc_410000.ttbar_lep.1largeRjet1lep.root\r\n",
        "  !ls"
      ],
      "execution_count": 3,
      "outputs": [
        {
          "output_type": "stream",
          "text": [
            "--2021-01-05 15:10:47--  http://opendata.cern.ch/eos/opendata/atlas/OutreachDatasets/2020-01-22/1largeRjet1lep/MC/mc_387163.TT_directTT_600_1.1largeRjet1lep.root\n",
            "Resolving opendata.cern.ch (opendata.cern.ch)... 188.184.28.138, 188.185.82.144, 2001:1458:d00:e::100:8a, ...\n",
            "Connecting to opendata.cern.ch (opendata.cern.ch)|188.184.28.138|:80... connected.\n",
            "HTTP request sent, awaiting response... 200 OK\n",
            "Length: 2578131 (2.5M) [application/octet-stream]\n",
            "Saving to: ‘mc_387163.TT_directTT_600_1.1largeRjet1lep.root’\n",
            "\n",
            "mc_387163.TT_direct 100%[===================>]   2.46M  2.35MB/s    in 1.0s    \n",
            "\n",
            "2021-01-05 15:10:49 (2.35 MB/s) - ‘mc_387163.TT_directTT_600_1.1largeRjet1lep.root’ saved [2578131/2578131]\n",
            "\n",
            "--2021-01-05 15:10:49--  http://opendata.cern.ch/eos/opendata/atlas/OutreachDatasets/2020-01-22/1largeRjet1lep/MC/mc_410000.ttbar_lep.1largeRjet1lep.root\n",
            "Resolving opendata.cern.ch (opendata.cern.ch)... 188.184.28.138, 188.185.82.144, 2001:1458:d00:e::100:8a, ...\n",
            "Connecting to opendata.cern.ch (opendata.cern.ch)|188.184.28.138|:80... connected.\n",
            "HTTP request sent, awaiting response... 200 OK\n",
            "Length: 477546241 (455M) [application/octet-stream]\n",
            "Saving to: ‘mc_410000.ttbar_lep.1largeRjet1lep.root’\n",
            "\n",
            "mc_410000.ttbar_lep 100%[===================>] 455.42M  13.2MB/s    in 60s     \n",
            "\n",
            "2021-01-05 15:11:50 (7.53 MB/s) - ‘mc_410000.ttbar_lep.1largeRjet1lep.root’ saved [477546241/477546241]\n",
            "\n",
            "mc_387163.TT_directTT_600_1.1largeRjet1lep.root  model.png\n",
            "mc_410000.ttbar_lep.1largeRjet1lep.root\t\t sample_data\n"
          ],
          "name": "stdout"
        }
      ]
    },
    {
      "cell_type": "markdown",
      "metadata": {
        "id": "kbnG2IDJWylG"
      },
      "source": [
        "Finally, we will import the relevant modules and functions. We will use Keras, a library which interfaces to TensorFlow, for our deep neural network. "
      ]
    },
    {
      "cell_type": "code",
      "metadata": {
        "id": "eynCzutzccqE"
      },
      "source": [
        "from keras.optimizers import Adam\n",
        "from keras.utils import plot_model, to_categorical\n",
        "from keras.callbacks import EarlyStopping, ModelCheckpoint\n",
        "from keras.models import Sequential\n",
        "from keras.layers import Dense, Activation, Dropout"
      ],
      "execution_count": 4,
      "outputs": []
    },
    {
      "cell_type": "markdown",
      "metadata": {
        "id": "o0iANR_Z6Kll"
      },
      "source": [
        "In addition, we will use some sklearn features when preparing our datasets for training and testing. We will make use of Pandas to store the information we extract from the ROOT files, and use matplotlib to make all plots in this notebook. "
      ]
    },
    {
      "cell_type": "code",
      "metadata": {
        "id": "kqN7g4rQccqF"
      },
      "source": [
        "from sklearn import datasets\n",
        "from sklearn.model_selection import train_test_split\n",
        "from sklearn.preprocessing import MinMaxScaler\n",
        "import pandas as pd\n",
        "import pydot\n",
        "import graphviz\n",
        "import matplotlib.pyplot as plt\n",
        "import uproot4\n",
        "import awkward1\n",
        "import numpy as np\n",
        "import progressbar"
      ],
      "execution_count": 5,
      "outputs": []
    },
    {
      "cell_type": "markdown",
      "metadata": {
        "id": "cl1nMyd7eL-U"
      },
      "source": [
        "### 2. Taking a look at some ROOT files\r\n",
        "As mentioned earlier, we will use ATLAS Open Data samples in this notebook. Using two simulated samples, we will look at discriminating a SUSY process from its largest background, top-pair production. \r\n",
        "\r\n",
        "![]()"
      ]
    },
    {
      "cell_type": "code",
      "metadata": {
        "id": "63qOZmxWeU5S"
      },
      "source": [
        "stop_file = uproot4.open(\"mc_387163.TT_directTT_600_1.1largeRjet1lep.root\")\r\n",
        "top_file = uproot4.open(\"mc_410000.ttbar_lep.1largeRjet1lep.root\")\r\n",
        "stop_tree = stop_file['mini']\r\n",
        "top_tree = top_file[\"mini\"]"
      ],
      "execution_count": 6,
      "outputs": []
    },
    {
      "cell_type": "markdown",
      "metadata": {
        "id": "qGidfzTwLgHT"
      },
      "source": [
        "If you would like to see the contents of the input ROOT files, set:\r\n",
        "```\r\n",
        "print_tree = True\r\n",
        "```\r\n",
        "\r\n"
      ]
    },
    {
      "cell_type": "code",
      "metadata": {
        "id": "uCNaq1ixgTmq"
      },
      "source": [
        "print_tree = False\r\n",
        "if print_tree:\r\n",
        "  stop_tree.show()"
      ],
      "execution_count": 7,
      "outputs": []
    },
    {
      "cell_type": "markdown",
      "metadata": {
        "id": "6llbL0MKLvue"
      },
      "source": [
        "To get started, we will apply a loose selection to events, requiring that each event has at least two jets (R=0.4), has exactly one lepton and passes one of the single lepton triggers, and also has exactly one large-R jet.    \r\n",
        "To save time, we will use only 20000 events from the top-pair sample. "
      ]
    },
    {
      "cell_type": "code",
      "metadata": {
        "id": "ypSjX-OGNuVN"
      },
      "source": [
        "cuts = '(jet_n >= 2) * (lep_n == 1) * (trigE + trigM == 1) * (largeRjet_n == 1)' \r\n",
        "events_limit = 20000 "
      ],
      "execution_count": 8,
      "outputs": []
    },
    {
      "cell_type": "code",
      "metadata": {
        "id": "cyiimkKfksHg"
      },
      "source": [
        "def prepare_dataset( tree ):\r\n",
        "\r\n",
        "  # Retrieve branches from trees in awkward array\r\n",
        "  vars = ['met_et','met_phi','jet_pt',\r\n",
        "          'jet_phi','jet_eta','lep_pt',\r\n",
        "          'lep_eta','lep_phi','largeRjet_n','largeRjet_pt',\r\n",
        "          'largeRjet_eta','largeRjet_phi']\r\n",
        "  weights = ['mcWeight', 'XSection', 'scaleFactor_PILEUP', 'scaleFactor_ELE',\r\n",
        "             'scaleFactor_MUON', 'scaleFactor_PHOTON', 'scaleFactor_TAU', \r\n",
        "             'scaleFactor_BTAG', 'scaleFactor_LepTRIGGER', 'SumWeights']\r\n",
        "  all_vars = vars + weights\r\n",
        "  temp_tree = tree.arrays(all_vars, cuts)\r\n",
        "\r\n",
        "  # Define branches of variable length to be flattened\r\n",
        "  expand_vars = {'jet_pt': 0, \r\n",
        "                 'jet_phi': 0, \r\n",
        "                 'jet_eta': 0, \r\n",
        "                 'largeRjet_pt': 0, \r\n",
        "                 'largeRjet_phi': 0, \r\n",
        "                 'largeRjet_eta': 0,\r\n",
        "                 'lep_pt': 0,\r\n",
        "                 'lep_phi': 0,\r\n",
        "                 'lep_eta': 0 \r\n",
        "                 }\r\n",
        "\r\n",
        "  # Prepare dataframe columns\r\n",
        "  columns = []\r\n",
        "  temp_df = pd.DataFrame(columns=vars)\r\n",
        "\r\n",
        "  # Fill dataframe\r\n",
        "  for index, entry in progressbar.progressbar(enumerate(temp_tree)):\r\n",
        "    for var in vars:\r\n",
        "      if var in expand_vars:\r\n",
        "        temp_df.at[index, var] = float(entry[var][expand_vars[var]])\r\n",
        "      else:\r\n",
        "        temp_df.at[index, var] = float(entry[var])\r\n",
        "    temp_weight = 1.0\r\n",
        "    for weight in weights:\r\n",
        "      if weight != 'SumWeights':\r\n",
        "        temp_weight *= entry[weight]\r\n",
        "      else:\r\n",
        "        temp_weight /= entry[weight]\r\n",
        "    if len(temp_tree) > events_limit:\r\n",
        "      temp_weight *= (len(temp_tree)/events_limit)\r\n",
        "    temp_df.at[index, 'weight'] = temp_weight\r\n",
        "    if index == events_limit:\r\n",
        "      break\r\n",
        "\r\n",
        "  for column in temp_df.columns:\r\n",
        "    temp_df[column] = pd.to_numeric(temp_df[column])\r\n",
        "\r\n",
        "  return temp_df"
      ],
      "execution_count": 9,
      "outputs": []
    },
    {
      "cell_type": "code",
      "metadata": {
        "id": "tuD5-gO_kt11"
      },
      "source": [
        "def make_plot( sig, bkg, variable, xlow=0, xhigh=1E6, bins=50, norm=True, log=False ):\r\n",
        "\r\n",
        "  np_bins = np.linspace(xlow, xhigh, bins+1)\r\n",
        "  plt.gcf().clear()\r\n",
        "\r\n",
        "  plt.hist( sig[variable], bins=np_bins, density=norm, label='Sig', histtype='step' )\r\n",
        "  plt.hist( bkg[variable], bins=np_bins, density=norm, label='Bkg', histtype='step' )\r\n",
        "  plt.xlabel(variable)\r\n",
        "  if log:\r\n",
        "    plt.yscale('log')\r\n",
        "  plt.grid(False)\r\n",
        "  plt.legend(loc='best')\r\n",
        "  plt.show()"
      ],
      "execution_count": 10,
      "outputs": []
    },
    {
      "cell_type": "code",
      "metadata": {
        "id": "9UvGCP_FLCls"
      },
      "source": [
        "def calculate_mt(df):\r\n",
        "\r\n",
        "  df['dphi_l1_met'] = np.abs(df['lep_phi'] - df['met_phi'])\r\n",
        "  df['mt'] = np.sqrt(2 * df['lep_pt'] * df['met_et'] * (1-np.cos(df['dphi_l1_met'])))\r\n",
        "  return df"
      ],
      "execution_count": 11,
      "outputs": []
    },
    {
      "cell_type": "markdown",
      "metadata": {
        "id": "o7oOLrd2NzBo"
      },
      "source": [
        "The input ROOT files have a mixture of data-types inside them, namely floats and vectors of mixed length. However, our DNN requires a 'flat' input, so we must flatten these vectors. The function prepare_dataset performs this iteratively. "
      ]
    },
    {
      "cell_type": "code",
      "metadata": {
        "colab": {
          "base_uri": "https://localhost:8080/"
        },
        "id": "3cLkIXHVoXgC",
        "outputId": "cd2c1109-02f0-461a-c643-b1b055d2e3db"
      },
      "source": [
        "stop_df = prepare_dataset(stop_tree)\r\n",
        "top_df = prepare_dataset(top_tree)"
      ],
      "execution_count": 12,
      "outputs": [
        {
          "output_type": "stream",
          "text": [
            "| |                           #                    | 4206 Elapsed Time: 0:00:12\n",
            "| |   #                                           | 19997 Elapsed Time: 0:01:43"
          ],
          "name": "stderr"
        }
      ]
    },
    {
      "cell_type": "markdown",
      "metadata": {
        "id": "nMPKzUtKOFm5"
      },
      "source": [
        "In addition to the low-level inputs from the ROOT files, we can construct complex variables, such as the transverse mass. The function calculate_mt adds the transverse mass (mt) variable to the dataframes for both signal and background."
      ]
    },
    {
      "cell_type": "code",
      "metadata": {
        "id": "P9nH7ukmNfYB"
      },
      "source": [
        "stop_df = calculate_mt(stop_df)\r\n",
        "top_df = calculate_mt(top_df)"
      ],
      "execution_count": 13,
      "outputs": []
    },
    {
      "cell_type": "markdown",
      "metadata": {
        "id": "eVNQg9iHOYUe"
      },
      "source": [
        "It would be nice to see some plots of these variables! The function make_plot enables this using matplotlib. "
      ]
    },
    {
      "cell_type": "code",
      "metadata": {
        "colab": {
          "base_uri": "https://localhost:8080/",
          "height": 1000
        },
        "id": "cnYmSlyFkjX6",
        "outputId": "56eae7e5-5ac1-45df-fad7-7475b90b24c5"
      },
      "source": [
        "make_plot(stop_df, top_df, 'met_et')\r\n",
        "make_plot(stop_df, top_df, 'met_phi', xlow=-4, xhigh=4, bins=8)\r\n",
        "\r\n",
        "make_plot(stop_df, top_df, 'jet_pt')\r\n",
        "make_plot(stop_df, top_df, 'jet_phi', xlow=-4, xhigh=4, bins=8)\r\n",
        "make_plot(stop_df, top_df, 'jet_eta', xlow=0, xhigh=4, bins=8)\r\n",
        "make_plot(stop_df, top_df, 'lep_pt')\r\n",
        "make_plot(stop_df, top_df, 'lep_phi', xlow=-4, xhigh=4, bins=8)\r\n",
        "make_plot(stop_df, top_df, 'lep_eta', xlow=0, xhigh=4, bins=8)\r\n",
        "\r\n",
        "make_plot(stop_df, top_df, 'largeRjet_pt')\r\n",
        "make_plot(stop_df, top_df, 'largeRjet_phi', xlow=-4, xhigh=4, bins=8)\r\n",
        "make_plot(stop_df, top_df, 'largeRjet_eta', xlow=0, xhigh=4, bins=8)\r\n",
        "\r\n",
        "make_plot(stop_df, top_df, 'dphi_l1_met', xlow=0, xhigh=4, bins=8)\r\n",
        "make_plot(stop_df, top_df, 'mt')"
      ],
      "execution_count": 14,
      "outputs": [
        {
          "output_type": "display_data",
          "data": {
            "image/png": "[encoded data removed]",
            "text/plain": [
              "<Figure size 432x288 with 1 Axes>"
            ]
          },
          "metadata": {
            "tags": [],
            "needs_background": "light"
          }
        },
        {
          "output_type": "display_data",
          "data": {
            "image/png": "[encoded data removed]",
            "text/plain": [
              "<Figure size 432x288 with 1 Axes>"
            ]
          },
          "metadata": {
            "tags": [],
            "needs_background": "light"
          }
        },
        {
          "output_type": "display_data",
          "data": {
            "image/png": "[encoded data removed]",
            "text/plain": [
              "<Figure size 432x288 with 1 Axes>"
            ]
          },
          "metadata": {
            "tags": [],
            "needs_background": "light"
          }
        },
        {
          "output_type": "display_data",
          "data": {
            "image/png": "[encoded data removed]",
            "text/plain": [
              "<Figure size 432x288 with 1 Axes>"
            ]
          },
          "metadata": {
            "tags": [],
            "needs_background": "light"
          }
        },
        {
          "output_type": "display_data",
          "data": {
            "image/png": "[encoded data removed]",
            "text/plain": [
              "<Figure size 432x288 with 1 Axes>"
            ]
          },
          "metadata": {
            "tags": [],
            "needs_background": "light"
          }
        },
        {
          "output_type": "display_data",
          "data": {
            "image/png": "[encoded data removed]",
            "text/plain": [
              "<Figure size 432x288 with 1 Axes>"
            ]
          },
          "metadata": {
            "tags": [],
            "needs_background": "light"
          }
        },
        {
          "output_type": "display_data",
          "data": {
            "image/png": "[encoded data removed]",
            "text/plain": [
              "<Figure size 432x288 with 1 Axes>"
            ]
          },
          "metadata": {
            "tags": [],
            "needs_background": "light"
          }
        },
        {
          "output_type": "display_data",
          "data": {
            "image/png": "[encoded data removed]",
            "text/plain": [
              "<Figure size 432x288 with 1 Axes>"
            ]
          },
          "metadata": {
            "tags": [],
            "needs_background": "light"
          }
        },
        {
          "output_type": "display_data",
          "data": {
            "image/png": "[encoded data removed]",
            "text/plain": [
              "<Figure size 432x288 with 1 Axes>"
            ]
          },
          "metadata": {
            "tags": [],
            "needs_background": "light"
          }
        },
        {
          "output_type": "display_data",
          "data": {
            "image/png": "[encoded data removed]",
            "text/plain": [
              "<Figure size 432x288 with 1 Axes>"
            ]
          },
          "metadata": {
            "tags": [],
            "needs_background": "light"
          }
        },
        {
          "output_type": "display_data",
          "data": {
            "image/png": "[encoded data removed]",
            "text/plain": [
              "<Figure size 432x288 with 1 Axes>"
            ]
          },
          "metadata": {
            "tags": [],
            "needs_background": "light"
          }
        },
        {
          "output_type": "display_data",
          "data": {
            "image/png": "[encoded data removed]",
            "text/plain": [
              "<Figure size 432x288 with 1 Axes>"
            ]
          },
          "metadata": {
            "tags": [],
            "needs_background": "light"
          }
        },
        {
          "output_type": "display_data",
          "data": {
            "image/png": "[encoded data removed]",
            "text/plain": [
              "<Figure size 432x288 with 1 Axes>"
            ]
          },
          "metadata": {
            "tags": [],
            "needs_background": "light"
          }
        }
      ]
    },
    {
      "cell_type": "markdown",
      "metadata": {
        "id": "L_7JvcWwOnIV"
      },
      "source": [
        "### 3. Steps toward training a DNN.\r\n",
        "To perform fully-supervised training, we need to give each of our input classes a label. As we're doing a binary classification, i.e. a this vs that classification, we will give the background the label 0 and the signal the label 1.  \r\n"
      ]
    },
    {
      "cell_type": "code",
      "metadata": {
        "id": "e09ym5OjV8h2"
      },
      "source": [
        "# Set labels for each class\r\n",
        "stop_df['class'] = 1\r\n",
        "top_df['class'] = 0\r\n",
        "# Merge inputs into one dataframe\r\n",
        "merge_df = pd.concat([stop_df, top_df])\r\n",
        "# Separate the dataframe into one containing the kinematics, and one containing the truth labels. \r\n",
        "X = merge_df.drop(['class', 'weight'], axis=1)\r\n",
        "y = merge_df[['class']]"
      ],
      "execution_count": 15,
      "outputs": []
    },
    {
      "cell_type": "markdown",
      "metadata": {
        "id": "PL6OPm6FPaUb"
      },
      "source": [
        "We now use train_test_split to produce independent, randomised samples of events for training and validation. "
      ]
    },
    {
      "cell_type": "code",
      "metadata": {
        "id": "08mR7a-BNhWK"
      },
      "source": [
        "X_train, X_test, y_train, y_test = train_test_split( X, y, test_size=0.3, random_state=42 )"
      ],
      "execution_count": 16,
      "outputs": []
    },
    {
      "cell_type": "markdown",
      "metadata": {
        "id": "-3VWMfryPqIg"
      },
      "source": [
        "The last preparatory step is to scale our features. We need our inputs to be of roughly the same size (order of magnitude), and thus we use a min-max scaler, such that all features are within 0 to 1. "
      ]
    },
    {
      "cell_type": "code",
      "metadata": {
        "id": "hhtxSqoBViMo"
      },
      "source": [
        "scaler = MinMaxScaler(feature_range=(0,1))\r\n",
        "X_train = scaler.fit_transform(X_train)\r\n",
        "X_test = scaler.transform(X_test)"
      ],
      "execution_count": 17,
      "outputs": []
    },
    {
      "cell_type": "markdown",
      "metadata": {
        "id": "XzpaPYeIQHLT"
      },
      "source": [
        "### Neural networks!\r\n",
        "\r\n",
        "Finally we are getting around to defining our model, which is a neural network. We will use a fully-connected, feed-forward NN. This means that every node in a given layer is connected to all of the nodes in the previous and subsequent layer. "
      ]
    },
    {
      "cell_type": "code",
      "metadata": {
        "id": "hpxdWEJmVoxq"
      },
      "source": [
        "def model():\r\n",
        "    \r\n",
        "    model = Sequential()\r\n",
        "    model.add(Dense(8, input_dim=X_train.shape[1], activation='relu', name='layer_1'))\r\n",
        "    model.add(Dropout(0.5))\r\n",
        "    model.add(Dense(10, activation='relu', name='layer_2'))\r\n",
        "    model.add(Dense(10, activation='relu', name='layer_3'))\r\n",
        "    model.add(Dense(1, activation='sigmoid', name='output_layer'))\r\n",
        "    model.compile(loss='binary_crossentropy', optimizer='adam',metrics=['accuracy'])\r\n",
        "    return model"
      ],
      "execution_count": 18,
      "outputs": []
    },
    {
      "cell_type": "markdown",
      "metadata": {
        "id": "Ff6jKCxYowVI"
      },
      "source": [
        "Our model is defined as having an input layer which has the same number of nodes as we do input features. Our output layer has a single output, which will be a number between 0 and 1, corresponding to the prediction of the model for the event. There are 3 hidden layers, which are layers between the input and output layers, and make the neural network a 'deep' neural network.    \r\n"
      ]
    },
    {
      "cell_type": "markdown",
      "metadata": {
        "id": "Ps2xK8_3bfvr"
      },
      "source": [
        "#### NN learning rate"
      ]
    },
    {
      "cell_type": "markdown",
      "metadata": {
        "id": "Ketm_EGAuBBr"
      },
      "source": [
        "Useful parameters to configure: Learning rate\r\n",
        "NNs involve configuration of the learning rate (extent to which weights are updated after each back-propagation step/epoch), which is typically taken to be in the range  (0.0,1.0) . The learning rate determines the speed at which the model \"learns\", such that the larger the learning rate, the faster the model learns at the cost of a somewhat sub-optimal set of parameters and the converse case for the small learning rate.\r\n",
        "\r\n",
        "However, if the learning rates are too large, the weight updates will be too large and will oscillate over training epochs. Conversely if the learning rates are too small, a model may converge to a sub-optimal set of weights.\r\n",
        "\r\n",
        "The Tensorflow default for this parameter is LR=0.01, and we will vary this parameter to LR=0.02 to demonstrate the impact of this parameter.\r\n",
        "\r\n",
        "The exact choice for your use case must be determined by trial and error."
      ]
    },
    {
      "cell_type": "code",
      "metadata": {
        "id": "XyEMttd1bh8r"
      },
      "source": [
        "def NNmodel_altLR(activation_function=\"relu\",learningrate=0.02):\r\n",
        "  altmodel = Sequential()\r\n",
        "  altmodel.add(Dense(8, input_dim=X_train.shape[1], activation='relu', name='layer_1')) # input layer\r\n",
        "  altmodel.add(Dense(10, activation=activation_function, name='layer_2'))\r\n",
        "  altmodel.add(Dense(10, activation=activation_function, name='layer_3'))\r\n",
        "  altmodel.add(Dense(1, activation='sigmoid', name='output_layer')) \r\n",
        "  #configure the optimiser. This is where the learning rate is configured\r\n",
        "  opt=Adam(learning_rate=learningrate)\r\n",
        "  # can now pass the optimizer we just defined into the model\r\n",
        "  altmodel.compile(loss='binary_crossentropy', optimizer=opt,metrics=['accuracy'])\r\n",
        "  return altmodel,learningrate\r\n"
      ],
      "execution_count": 37,
      "outputs": []
    },
    {
      "cell_type": "markdown",
      "metadata": {
        "id": "iX6XQouebRLQ"
      },
      "source": [
        "#### Details of the activation function"
      ]
    },
    {
      "cell_type": "markdown",
      "metadata": {
        "id": "CNfE6b5QtUFK"
      },
      "source": [
        "Activation functions\r\n",
        "For each neuron, the output it makes will be of the form Sum(Weight * x) + bias. But, how does one convert this into a more \"binary\" yes or no statement? So in essence this becomes a function\r\n",
        "$Y=f(∑wi∗xi+b)$. \r\n",
        "An initial guess would be a step function (where a neuron was either on/off only). But, this becomes problematic when you have several nodes in a network making decisions. A continuum solution is better, so that \"on/off\" is replaced with \"90% on\" etc. This is the role of the activation function, and there are several available. Generally the behaviour that is desired is that it is continuous (or at least piecewise continuous) and piecewise differentiable.\r\n",
        "\r\n",
        "Typically activation functions are plotted on the range [-1,1], and we will discuss a few of these.\r\n",
        "\r\n",
        "One of the simplest classes of activation function is the linear function  $$Y=cx$$  (c non-zero, real), but in such a case, a network consisting of N layers with such a function can be compressed into a single layer with a different constant defined in the activation function. In order to investigate a network with a non-reducible structure, a\r\n",
        "\r\n",
        "A more useful case to binary classification (which has a similar behaviour to the step function) is the sigmoid, defined as:\r\n",
        "\r\n",
        "$$Y=sigmoid(x)=\\frac{1}{1+exp(−x)}$$ \r\n",
        "However, the primary issue of the sigmoid function is that for large values of x, the gradient of the activation function is small, which means that the neurons will learn slowly (since the learning process involves minimisation) for large values of x, which is not ideal.\r\n",
        "\r\n",
        "An alternative to the sigmoid is the tanh(x) function defined on range [-1,1].\r\n",
        "\r\n",
        "$$Y=tanh(x)$$ \r\n",
        "\r\n",
        "which is purely a re-scaled sigmoid, when one considers the hyperbolic identity\r\n",
        "$$tanh(u)=2 sigmoid(2u)−1 $$\r\n",
        "This function is steeper than the sigmoid across its range of definition, which may improve the speed of learning.\r\n",
        "\r\n",
        "Instead of using the linear activation function, another popular choice of activation function is what is known as \"Rectified Linear Units\" (ReLU), namely the function:\r\n",
        "$$Y=max(0,x).$$ \r\n",
        "Since for nodes with  $x < 0$ , the neuron is not activated (and is effectively discarded), it can greatly reduce computational time by only activating a small subset of nodes (this behaviour is known as sparse activation).\r\n",
        "\r\n",
        "However, for nodes with  $x < 0$ , these nodes are effectively \"dead\" and weights associated to these nodes cannot be updated/cannot \"learn\".\r\n",
        "\r\n",
        "Some attempts to rectify this include leaky ReLU(RelU), typically defined as:\r\n",
        "Y=max(ax,x),a=0.01 \r\n",
        "and exponential linear units (see https://arxiv.org/pdf/1511.07289.pdf)\r\n",
        "\r\n",
        "We will now plot some of these activation functions."
      ]
    },
    {
      "cell_type": "code",
      "metadata": {
        "colab": {
          "base_uri": "https://localhost:8080/",
          "height": 279
        },
        "id": "SW99LwAktToy",
        "outputId": "cfe3b79d-37ee-4c74-f6b2-48d913a66f23"
      },
      "source": [
        "# typically these will be in tensorflow libraries by default\r\n",
        "import numpy as np\r\n",
        "def sigmoid(x):\r\n",
        "  sigmoid=1/(1+np.exp(-x))\r\n",
        "  return sigmoid\r\n",
        "\r\n",
        "def ReLU(x):\r\n",
        "  if(x>0):\r\n",
        "    return x\r\n",
        "  else:\r\n",
        "    return 0\r\n",
        "\r\n",
        "\r\n",
        "def LeakyReLU(x):\r\n",
        "  if(x>0):\r\n",
        "    return x\r\n",
        "  else:\r\n",
        "    return 0.05*x # effect exaggerated for plot\r\n",
        "\r\n",
        "def PlotActivations():\r\n",
        "  #function to show the activation functions discussed above\r\n",
        "  \r\n",
        "  import matplotlib.pyplot as plt\r\n",
        "  range_array=np.arange(-10.0,10.0,0.01)\r\n",
        "  y_sigmoid=[]\r\n",
        "  y_tanh=[]\r\n",
        "  y_RelU=[]\r\n",
        "  y_LRelU=[]\r\n",
        "  for x in range_array:\r\n",
        "    y_sigmoid.append(sigmoid(x))\r\n",
        "    y_tanh.append(np.tanh(x))\r\n",
        "    y_RelU.append(ReLU(x))\r\n",
        "    y_LRelU.append(LeakyReLU(x))\r\n",
        "\r\n",
        "  plt.plot(range_array,y_sigmoid,color='r',label=\"sigmoid\")\r\n",
        "  plt.plot(range_array,y_tanh,color='b',label='tanh')\r\n",
        "  plt.plot(range_array,y_RelU,color='k',label='relu')\r\n",
        "  plt.plot(range_array,y_LRelU,color='g',label=\"leaky relu\")\r\n",
        "  plt.xlabel('x')\r\n",
        "  plt.ylabel('Y')\r\n",
        "  plt.legend()\r\n",
        "  return\r\n",
        "PlotActivations()"
      ],
      "execution_count": 20,
      "outputs": [
        {
          "output_type": "display_data",
          "data": {
            "image/png": "[encoded data removed]",
            "text/plain": [
              "<Figure size 432x288 with 1 Axes>"
            ]
          },
          "metadata": {
            "tags": [],
            "needs_background": "light"
          }
        }
      ]
    },
    {
      "cell_type": "markdown",
      "metadata": {
        "id": "nX-jDAtQtcDE"
      },
      "source": [
        "Tensorflow (Keras backend) has several of these activation functions as built-in modules configured by string. The list of available pre-made functions can be found here https://www.tensorflow.org/api_docs/python/tf/keras/activations . Custom configurations are beyond the scope of this tutorial, but documentation can be found here: https://keras.io/api/layers/activations/ \r\n",
        "\r\n"
      ]
    },
    {
      "cell_type": "markdown",
      "metadata": {
        "id": "KGDmn0PEt4Di"
      },
      "source": [
        "As you can see, the effect of using ReLU for the hidden layers is that the NN learns faster than that of the NN configured with a sigmoid in the activation function, taking advantage of the sparse activation discussed above, with similar overall performance.\r\n",
        "\r\n",
        "In a real physics use case on large datasets, the CPU/GPU processing time is a major overhead that one must consider when implementing a NN, so fewer epochs to converge = faster.\r\n",
        "\r\n",
        "However, there is no preferred choice of activation functions in a NN, so one must attempt with trial and error."
      ]
    },
    {
      "cell_type": "markdown",
      "metadata": {
        "id": "NcjUchL0bXXV"
      },
      "source": [
        "#### Training our model\r\n",
        "We create an instance of our model so that we can train and test it!"
      ]
    },
    {
      "cell_type": "code",
      "metadata": {
        "id": "pOWQfBRoVq3r",
        "colab": {
          "base_uri": "https://localhost:8080/",
          "height": 887
        },
        "outputId": "7cdd3a06-2c04-4d16-9450-10133028b3e6"
      },
      "source": [
        "model = model()\r\n",
        "print( model.summary() )\r\n",
        "plot_model( model )"
      ],
      "execution_count": 21,
      "outputs": [
        {
          "output_type": "stream",
          "text": [
            "Model: \"sequential\"\n",
            "_________________________________________________________________\n",
            "Layer (type)                 Output Shape              Param #   \n",
            "=================================================================\n",
            "layer_1 (Dense)              (None, 8)                 120       \n",
            "_________________________________________________________________\n",
            "dropout (Dropout)            (None, 8)                 0         \n",
            "_________________________________________________________________\n",
            "layer_2 (Dense)              (None, 10)                90        \n",
            "_________________________________________________________________\n",
            "layer_3 (Dense)              (None, 10)                110       \n",
            "_________________________________________________________________\n",
            "output_layer (Dense)         (None, 1)                 11        \n",
            "=================================================================\n",
            "Total params: 331\n",
            "Trainable params: 331\n",
            "Non-trainable params: 0\n",
            "_________________________________________________________________\n",
            "None\n"
          ],
          "name": "stdout"
        },
        {
          "output_type": "execute_result",
          "data": {
            "image/png": "[encoded data removed]",
            "text/plain": [
              "<IPython.core.display.Image object>"
            ]
          },
          "metadata": {
            "tags": []
          },
          "execution_count": 21
        }
      ]
    },
    {
      "cell_type": "markdown",
      "metadata": {
        "id": "8miA737RcMo0"
      },
      "source": [
        "When training our model, we wish to avoid overtraining - where we specialise our model too much on the training data, and thus lose any discrimination on unseen data. We use early stopping as one way of overcoming this. Early stopping halts the training once one of the training metrics stops improving, in this case the value of the loss function evaluated using the validation data. "
      ]
    },
    {
      "cell_type": "code",
      "metadata": {
        "id": "ru_RAuvoVxXH",
        "colab": {
          "base_uri": "https://localhost:8080/"
        },
        "outputId": "fe558057-95d0-4e7a-fa18-0082dbfdf0b6"
      },
      "source": [
        "early_stop = EarlyStopping(monitor='val_loss', patience=10)\r\n",
        "history = model.fit( X_train, y_train, epochs=200, batch_size=10, \r\n",
        "                    validation_data=(X_test, y_test), verbose=2, \r\n",
        "                    callbacks=[early_stop] )"
      ],
      "execution_count": 22,
      "outputs": [
        {
          "output_type": "stream",
          "text": [
            "Epoch 1/200\n",
            "1695/1695 - 3s - loss: 0.4057 - accuracy: 0.8508 - val_loss: 0.2879 - val_accuracy: 0.8824\n",
            "Epoch 2/200\n",
            "1695/1695 - 3s - loss: 0.3251 - accuracy: 0.8719 - val_loss: 0.2305 - val_accuracy: 0.9251\n",
            "Epoch 3/200\n",
            "1695/1695 - 3s - loss: 0.2925 - accuracy: 0.8738 - val_loss: 0.2165 - val_accuracy: 0.9258\n",
            "Epoch 4/200\n",
            "1695/1695 - 3s - loss: 0.2760 - accuracy: 0.8753 - val_loss: 0.2168 - val_accuracy: 0.9272\n",
            "Epoch 5/200\n",
            "1695/1695 - 3s - loss: 0.2720 - accuracy: 0.8767 - val_loss: 0.2179 - val_accuracy: 0.9279\n",
            "Epoch 6/200\n",
            "1695/1695 - 3s - loss: 0.2672 - accuracy: 0.8783 - val_loss: 0.2118 - val_accuracy: 0.9281\n",
            "Epoch 7/200\n",
            "1695/1695 - 3s - loss: 0.2593 - accuracy: 0.8926 - val_loss: 0.2138 - val_accuracy: 0.9270\n",
            "Epoch 8/200\n",
            "1695/1695 - 3s - loss: 0.2503 - accuracy: 0.8984 - val_loss: 0.2047 - val_accuracy: 0.9284\n",
            "Epoch 9/200\n",
            "1695/1695 - 3s - loss: 0.2462 - accuracy: 0.9011 - val_loss: 0.2108 - val_accuracy: 0.9244\n",
            "Epoch 10/200\n",
            "1695/1695 - 3s - loss: 0.2436 - accuracy: 0.9016 - val_loss: 0.2097 - val_accuracy: 0.9284\n",
            "Epoch 11/200\n",
            "1695/1695 - 3s - loss: 0.2411 - accuracy: 0.9029 - val_loss: 0.2168 - val_accuracy: 0.9285\n",
            "Epoch 12/200\n",
            "1695/1695 - 3s - loss: 0.2426 - accuracy: 0.9006 - val_loss: 0.2115 - val_accuracy: 0.9287\n",
            "Epoch 13/200\n",
            "1695/1695 - 3s - loss: 0.2400 - accuracy: 0.9006 - val_loss: 0.2050 - val_accuracy: 0.9292\n",
            "Epoch 14/200\n",
            "1695/1695 - 3s - loss: 0.2362 - accuracy: 0.9040 - val_loss: 0.2114 - val_accuracy: 0.9290\n",
            "Epoch 15/200\n",
            "1695/1695 - 3s - loss: 0.2395 - accuracy: 0.9006 - val_loss: 0.2188 - val_accuracy: 0.9284\n",
            "Epoch 16/200\n",
            "1695/1695 - 3s - loss: 0.2363 - accuracy: 0.9030 - val_loss: 0.2268 - val_accuracy: 0.9279\n",
            "Epoch 17/200\n",
            "1695/1695 - 3s - loss: 0.2334 - accuracy: 0.9003 - val_loss: 0.2249 - val_accuracy: 0.9290\n",
            "Epoch 18/200\n",
            "1695/1695 - 3s - loss: 0.2348 - accuracy: 0.9039 - val_loss: 0.2169 - val_accuracy: 0.9288\n"
          ],
          "name": "stdout"
        }
      ]
    },
    {
      "cell_type": "markdown",
      "metadata": {
        "id": "L5hXM3cLPqfv"
      },
      "source": [
        "We should take a look at some validation plots to ensure the model does not behave much differently for the training and validation sets - this could be a sign of overfitting!"
      ]
    },
    {
      "cell_type": "code",
      "metadata": {
        "id": "Ca0ZjID9Xbd7",
        "colab": {
          "base_uri": "https://localhost:8080/",
          "height": 299
        },
        "outputId": "bb4d0e4d-a7fc-4d94-f608-c4c6137349aa"
      },
      "source": [
        "doValidationPlots = True\r\n",
        "if doValidationPlots:\r\n",
        "\r\n",
        "  fig, axs = plt.subplots(1,2)\r\n",
        "  fig.set_figwidth(15)\r\n",
        "\r\n",
        "  axs[0].plot(history.history['loss'], label='Training sample')\r\n",
        "  axs[0].plot(history.history['val_loss'], label='Validation sample')\r\n",
        "  axs[0].set_xlabel('Training epoch')\r\n",
        "  axs[0].set_ylabel('Loss')\r\n",
        "  axs[0].legend(loc='best')\r\n",
        "\r\n",
        "  _, training_accuracy = model.evaluate(X_train, y_train)\r\n",
        "  _, validation_accuracy = model.evaluate(X_test, y_test)\r\n",
        "\r\n",
        "  axs[1].plot(history.history['accuracy'], label='Training sample ({}%)'.format(round(training_accuracy*100, 1)))\r\n",
        "  axs[1].plot(history.history['val_accuracy'], label='Validation sample ({}%)'.format(round(validation_accuracy*100, 1)))\r\n",
        "  axs[1].set_xlabel('Training epoch')\r\n",
        "  axs[1].set_ylabel('Accuracy')\r\n",
        "  axs[1].legend(loc='best')"
      ],
      "execution_count": 23,
      "outputs": [
        {
          "output_type": "stream",
          "text": [
            "530/530 [==============================] - 1s 1ms/step - loss: 0.2197 - accuracy: 0.9285\n",
            "227/227 [==============================] - 0s 1ms/step - loss: 0.2169 - accuracy: 0.9288\n"
          ],
          "name": "stdout"
        },
        {
          "output_type": "display_data",
          "data": {
            "image/png": "[encoded data removed]",
            "text/plain": [
              "<Figure size 1080x288 with 2 Axes>"
            ]
          },
          "metadata": {
            "tags": [],
            "needs_background": "light"
          }
        }
      ]
    },
    {
      "cell_type": "markdown",
      "metadata": {
        "id": "iP8gnMsyQnW8"
      },
      "source": [
        "### 4. Evaluating the performance of our model.\r\n",
        "At the end of the analysis chain, we want to test if our DNN gives us discriminatory power. We do this by using the model we trained to predict the class of every event in our samples:\r\n",
        "\r\n",
        "\r\n",
        "\r\n"
      ]
    },
    {
      "cell_type": "code",
      "metadata": {
        "id": "cbkWUA8Qn7D8",
        "colab": {
          "base_uri": "https://localhost:8080/"
        },
        "outputId": "e1a8add6-8edc-4def-bef4-978bd456f7a8"
      },
      "source": [
        "do_predictions = True\r\n",
        "if do_predictions:\r\n",
        "  bins = np.linspace(0,1,51)\r\n",
        "\r\n",
        "  sig_df = merge_df[merge_df['class'] == 1]\r\n",
        "  bkg_df = merge_df[merge_df['class'] == 0]\r\n",
        "  sig_weights = sig_df['weight']\r\n",
        "  bkg_weights = bkg_df['weight']\r\n",
        "\r\n",
        "  sig_true = scaler.transform(sig_df.drop(['class', 'weight'], axis=1))\r\n",
        "  bkg_true = scaler.transform(bkg_df.drop(['class', 'weight'], axis=1))\r\n",
        "\r\n",
        "  sig_preds = model.predict(sig_true)\r\n",
        "  bkg_preds = model.predict(bkg_true)\r\n",
        "\r\n",
        "  sig_df['preds'] = sig_preds\r\n",
        "  bkg_df['preds'] = bkg_preds"
      ],
      "execution_count": 24,
      "outputs": [
        {
          "output_type": "stream",
          "text": [
            "/usr/local/lib/python3.6/dist-packages/ipykernel_launcher.py:16: SettingWithCopyWarning: \n",
            "A value is trying to be set on a copy of a slice from a DataFrame.\n",
            "Try using .loc[row_indexer,col_indexer] = value instead\n",
            "\n",
            "See the caveats in the documentation: https://pandas.pydata.org/pandas-docs/stable/user_guide/indexing.html#returning-a-view-versus-a-copy\n",
            "  app.launch_new_instance()\n",
            "/usr/local/lib/python3.6/dist-packages/ipykernel_launcher.py:17: SettingWithCopyWarning: \n",
            "A value is trying to be set on a copy of a slice from a DataFrame.\n",
            "Try using .loc[row_indexer,col_indexer] = value instead\n",
            "\n",
            "See the caveats in the documentation: https://pandas.pydata.org/pandas-docs/stable/user_guide/indexing.html#returning-a-view-versus-a-copy\n"
          ],
          "name": "stderr"
        }
      ]
    },
    {
      "cell_type": "markdown",
      "metadata": {
        "id": "-bnjYtVXufLQ"
      },
      "source": [
        "We now make a plot of these predictions for each class!"
      ]
    },
    {
      "cell_type": "code",
      "metadata": {
        "id": "1McIrMKp-ysZ",
        "colab": {
          "base_uri": "https://localhost:8080/",
          "height": 296
        },
        "outputId": "0623c3a3-6590-4624-9385-2d5e40001c05"
      },
      "source": [
        "lumi = 139000\r\n",
        "\r\n",
        "plt.hist( sig_preds, bins=bins, alpha=0.5, label='Signal', weights=lumi*sig_weights )\r\n",
        "plt.hist( bkg_preds, bins=bins, alpha=0.5, label='Background', weights=lumi*bkg_weights )\r\n",
        "plt.yscale('log')\r\n",
        "plt.xlabel('NN output')\r\n",
        "plt.ylabel('Events / bin')"
      ],
      "execution_count": 25,
      "outputs": [
        {
          "output_type": "execute_result",
          "data": {
            "text/plain": [
              "Text(0, 0.5, 'Events / bin')"
            ]
          },
          "metadata": {
            "tags": []
          },
          "execution_count": 25
        },
        {
          "output_type": "display_data",
          "data": {
            "image/png": "[encoded data removed]",
            "text/plain": [
              "<Figure size 432x288 with 1 Axes>"
            ]
          },
          "metadata": {
            "tags": [],
            "needs_background": "light"
          }
        }
      ]
    },
    {
      "cell_type": "markdown",
      "metadata": {
        "id": "K7pw9029uj8y"
      },
      "source": [
        "As we **should** see, the model peaks at low NN output for the background class and at high NN output for the signal class, as we hoped! We can now make a crude estimate of the discriminatory power of our classifier by placing a cut on the output of the NN, and counting the number of signal and background events passing this cut (cut & count). "
      ]
    },
    {
      "cell_type": "code",
      "metadata": {
        "id": "GFzkpGNkAQAU",
        "colab": {
          "base_uri": "https://localhost:8080/"
        },
        "outputId": "4076f469-b56b-4942-d07a-e39e7c30d644"
      },
      "source": [
        "cut = 0.95\r\n",
        "\r\n",
        "signal_yield = lumi * sig_df[sig_df['preds'] > 0.95]['weight'].sum()\r\n",
        "background_yield = lumi * bkg_df[bkg_df['preds'] > 0.95]['weight'].sum()\r\n",
        "\r\n",
        "print('Signal events: {}'.format(signal_yield))\r\n",
        "print('Background events: {}'.format(background_yield))\r\n",
        "print('Significance: {}'.format(signal_yield/np.sqrt(background_yield)))"
      ],
      "execution_count": 26,
      "outputs": [
        {
          "output_type": "stream",
          "text": [
            "Signal events: 65.84135150097678\n",
            "Background events: 96.59763967797223\n",
            "Significance: 6.6990848648751395\n"
          ],
          "name": "stdout"
        }
      ]
    },
    {
      "cell_type": "markdown",
      "metadata": {
        "id": "OQAuh6GVvDf0"
      },
      "source": [
        "In principle, this is an example of an analysis chain using a DNN as the main discriminant. We can now play around with the structure of our DNN and alter the learning rate. In addition, we can change the loose selections applied at the start of the chain and re-run!"
      ]
    },
    {
      "cell_type": "markdown",
      "metadata": {
        "id": "a6SmUymdQSO_"
      },
      "source": [
        "## Exercise: Varying number of hidden layers\n",
        "Try adding and removing hidden layers to see if the *performance* of your network changes."
      ]
    },
    {
      "cell_type": "markdown",
      "metadata": {
        "id": "GO2Xk-me9DgA"
      },
      "source": [
        "## Exercise: Evaluating the impact of learning rate on the NN training\n",
        "\n",
        "Given the model above under \"NN learning rate\" section and the default model considered, please evaluate the impact of varying the learning rates on the training.\n",
        "\n",
        "Sample plotting code is added here for the respective plots."
      ]
    },
    {
      "cell_type": "code",
      "metadata": {
        "colab": {
          "base_uri": "https://localhost:8080/"
        },
        "id": "2bSTg8qb9l9R",
        "outputId": "94741b0a-e8e0-4d27-e381-abd2b45dc351"
      },
      "source": [
        "early_stop = EarlyStopping(monitor='val_loss', patience=10)\n",
        "# fit our model with the alternative learning rate\n",
        "NNmodel_altLR,learningrate=NNmodel_altLR(learningrate=0.02)\n",
        "history_altLR = NNmodel_altLR.fit( X_train, y_train, epochs=200, batch_size=10, validation_data=(X_test, y_test), verbose=2, callbacks=[early_stop] )\n",
        "#copy the default fit history from the default NN model\n",
        "history_reference=history\n"
      ],
      "execution_count": 27,
      "outputs": [
        {
          "output_type": "stream",
          "text": [
            "Epoch 1/200\n",
            "1695/1695 - 3s - loss: 0.2458 - accuracy: 0.9132 - val_loss: 0.2066 - val_accuracy: 0.9290\n",
            "Epoch 2/200\n",
            "1695/1695 - 3s - loss: 0.2194 - accuracy: 0.9249 - val_loss: 0.2157 - val_accuracy: 0.9276\n",
            "Epoch 3/200\n",
            "1695/1695 - 3s - loss: 0.2179 - accuracy: 0.9253 - val_loss: 0.2028 - val_accuracy: 0.9263\n",
            "Epoch 4/200\n",
            "1695/1695 - 3s - loss: 0.2179 - accuracy: 0.9252 - val_loss: 0.2132 - val_accuracy: 0.9254\n",
            "Epoch 5/200\n",
            "1695/1695 - 3s - loss: 0.2125 - accuracy: 0.9275 - val_loss: 0.2165 - val_accuracy: 0.9274\n",
            "Epoch 6/200\n",
            "1695/1695 - 3s - loss: 0.2113 - accuracy: 0.9281 - val_loss: 0.2295 - val_accuracy: 0.9225\n",
            "Epoch 7/200\n",
            "1695/1695 - 3s - loss: 0.2078 - accuracy: 0.9277 - val_loss: 0.2054 - val_accuracy: 0.9321\n",
            "Epoch 8/200\n",
            "1695/1695 - 3s - loss: 0.2094 - accuracy: 0.9294 - val_loss: 0.1954 - val_accuracy: 0.9306\n",
            "Epoch 9/200\n",
            "1695/1695 - 3s - loss: 0.2083 - accuracy: 0.9295 - val_loss: 0.2111 - val_accuracy: 0.9320\n",
            "Epoch 10/200\n",
            "1695/1695 - 3s - loss: 0.2051 - accuracy: 0.9304 - val_loss: 0.1947 - val_accuracy: 0.9281\n",
            "Epoch 11/200\n",
            "1695/1695 - 3s - loss: 0.2049 - accuracy: 0.9297 - val_loss: 0.1950 - val_accuracy: 0.9288\n",
            "Epoch 12/200\n",
            "1695/1695 - 3s - loss: 0.2048 - accuracy: 0.9289 - val_loss: 0.1906 - val_accuracy: 0.9321\n",
            "Epoch 13/200\n",
            "1695/1695 - 3s - loss: 0.2047 - accuracy: 0.9306 - val_loss: 0.2081 - val_accuracy: 0.9250\n",
            "Epoch 14/200\n",
            "1695/1695 - 3s - loss: 0.2050 - accuracy: 0.9308 - val_loss: 0.1950 - val_accuracy: 0.9318\n",
            "Epoch 15/200\n",
            "1695/1695 - 3s - loss: 0.2026 - accuracy: 0.9317 - val_loss: 0.2000 - val_accuracy: 0.9318\n",
            "Epoch 16/200\n",
            "1695/1695 - 3s - loss: 0.2050 - accuracy: 0.9312 - val_loss: 0.1948 - val_accuracy: 0.9312\n",
            "Epoch 17/200\n",
            "1695/1695 - 3s - loss: 0.2052 - accuracy: 0.9298 - val_loss: 0.1921 - val_accuracy: 0.9321\n",
            "Epoch 18/200\n",
            "1695/1695 - 3s - loss: 0.2049 - accuracy: 0.9301 - val_loss: 0.1953 - val_accuracy: 0.9269\n",
            "Epoch 19/200\n",
            "1695/1695 - 3s - loss: 0.2061 - accuracy: 0.9292 - val_loss: 0.2025 - val_accuracy: 0.9345\n",
            "Epoch 20/200\n",
            "1695/1695 - 3s - loss: 0.2030 - accuracy: 0.9302 - val_loss: 0.2222 - val_accuracy: 0.9309\n",
            "Epoch 21/200\n",
            "1695/1695 - 3s - loss: 0.2052 - accuracy: 0.9310 - val_loss: 0.1961 - val_accuracy: 0.9338\n",
            "Epoch 22/200\n",
            "1695/1695 - 3s - loss: 0.2041 - accuracy: 0.9296 - val_loss: 0.1953 - val_accuracy: 0.9299\n"
          ],
          "name": "stdout"
        }
      ]
    },
    {
      "cell_type": "code",
      "metadata": {
        "colab": {
          "base_uri": "https://localhost:8080/",
          "height": 296
        },
        "id": "S37lGDXK_39j",
        "outputId": "089ef80c-af42-4ed5-ee03-f6224759c5a9"
      },
      "source": [
        "plt.plot(history_reference.history['loss'],label='loss (nominal LR)',color='r')\n",
        "plt.plot(history_altLR.history['loss'],label='loss (LR={})'.format(learningrate))\n",
        "plt.xlabel('epoch')\n",
        "plt.ylabel('Training loss')\n",
        "plt.legend()"
      ],
      "execution_count": 28,
      "outputs": [
        {
          "output_type": "execute_result",
          "data": {
            "text/plain": [
              "<matplotlib.legend.Legend at 0x7f402d4b47f0>"
            ]
          },
          "metadata": {
            "tags": []
          },
          "execution_count": 28
        },
        {
          "output_type": "display_data",
          "data": {
            "image/png": "[encoded data removed]",
            "text/plain": [
              "<Figure size 432x288 with 1 Axes>"
            ]
          },
          "metadata": {
            "tags": [],
            "needs_background": "light"
          }
        }
      ]
    },
    {
      "cell_type": "code",
      "metadata": {
        "colab": {
          "base_uri": "https://localhost:8080/",
          "height": 296
        },
        "id": "KwGTuOAcuH0U",
        "outputId": "5588abda-c22b-4f2e-f63a-bf1f401ebf78"
      },
      "source": [
        "plt.plot(history_altLR.history[\"accuracy\"],label='accuracy (LR={})'.format(learningrate),color='b')\r\n",
        "plt.plot(history_reference.history['accuracy'],label='accuracy (nominal LR)',color='r')\r\n",
        "plt.xlabel('epoch')\r\n",
        "plt.ylabel('Accuracy')\r\n",
        "plt.legend()"
      ],
      "execution_count": 29,
      "outputs": [
        {
          "output_type": "execute_result",
          "data": {
            "text/plain": [
              "<matplotlib.legend.Legend at 0x7f402d1a7400>"
            ]
          },
          "metadata": {
            "tags": []
          },
          "execution_count": 29
        },
        {
          "output_type": "display_data",
          "data": {
            "image/png": "[encoded data removed]",
            "text/plain": [
              "<Figure size 432x288 with 1 Axes>"
            ]
          },
          "metadata": {
            "tags": [],
            "needs_background": "light"
          }
        }
      ]
    },
    {
      "cell_type": "markdown",
      "metadata": {
        "id": "upLXj5aJAB80"
      },
      "source": [
        "Similarly, try to see how this affects the output classification (if at all!)."
      ]
    },
    {
      "cell_type": "code",
      "metadata": {
        "id": "di-wiIBmQEwa"
      },
      "source": [
        ""
      ],
      "execution_count": null,
      "outputs": []
    },
    {
      "cell_type": "markdown",
      "metadata": {
        "id": "skQlh5wTBImw"
      },
      "source": [
        "##Exercise: Impact of activation functions on the NN training\n",
        "Change the activation functions in the hidden layer to `'sigmoid'` and compare your results to the default NN configuration.\n",
        "\n",
        "Some sample code to configure the hidden layers is provided below."
      ]
    },
    {
      "cell_type": "code",
      "metadata": {
        "colab": {
          "base_uri": "https://localhost:8080/"
        },
        "id": "xVHXG4bwbiS-",
        "outputId": "758b2b65-243b-47d0-a9a8-dd174ebf9fe5"
      },
      "source": [
        "def NNmodel_sigmoid(activation_function=\"relu\"):\r\n",
        "  NNmodel = Sequential()\r\n",
        "  NNmodel.add(Dense(8, input_dim=X_train.shape[1], activation='relu', name='layer_1')) # input layer\r\n",
        "  NNmodel.add(Dense(10, activation=activation_function, name='layer_2'))\r\n",
        "  NNmodel.add(Dense(10, activation=activation_function, name='layer_3'))\r\n",
        "  NNmodel.add(Dense(1, activation='sigmoid', name='output_layer')) # \r\n",
        "  NNmodel.compile(loss='binary_crossentropy', optimizer='adam',metrics=['accuracy'])\r\n",
        "  return NNmodel\r\n",
        "\r\n",
        "model_sigmoid=NNmodel_sigmoid()\r\n",
        "early_stop = EarlyStopping(monitor='val_loss', patience=10)\r\n",
        "history_sigmoid = model_sigmoid.fit( X_train, y_train, epochs=200, batch_size=10, \r\n",
        "                                    validation_data=(X_test, y_test), \r\n",
        "                                    verbose=2, callbacks=[early_stop] )\r\n",
        "#copy reference history again\r\n",
        "history_reference=history"
      ],
      "execution_count": 30,
      "outputs": [
        {
          "output_type": "stream",
          "text": [
            "Epoch 1/200\n",
            "1695/1695 - 3s - loss: 0.3234 - accuracy: 0.8721 - val_loss: 0.2205 - val_accuracy: 0.9237\n",
            "Epoch 2/200\n",
            "1695/1695 - 3s - loss: 0.2141 - accuracy: 0.9253 - val_loss: 0.2017 - val_accuracy: 0.9301\n",
            "Epoch 3/200\n",
            "1695/1695 - 3s - loss: 0.2069 - accuracy: 0.9274 - val_loss: 0.2068 - val_accuracy: 0.9255\n",
            "Epoch 4/200\n",
            "1695/1695 - 3s - loss: 0.2059 - accuracy: 0.9282 - val_loss: 0.2005 - val_accuracy: 0.9294\n",
            "Epoch 5/200\n",
            "1695/1695 - 3s - loss: 0.2052 - accuracy: 0.9278 - val_loss: 0.1983 - val_accuracy: 0.9285\n",
            "Epoch 6/200\n",
            "1695/1695 - 3s - loss: 0.2039 - accuracy: 0.9295 - val_loss: 0.1977 - val_accuracy: 0.9295\n",
            "Epoch 7/200\n",
            "1695/1695 - 3s - loss: 0.2035 - accuracy: 0.9282 - val_loss: 0.1968 - val_accuracy: 0.9284\n",
            "Epoch 8/200\n",
            "1695/1695 - 3s - loss: 0.2029 - accuracy: 0.9291 - val_loss: 0.1974 - val_accuracy: 0.9279\n",
            "Epoch 9/200\n",
            "1695/1695 - 3s - loss: 0.2023 - accuracy: 0.9296 - val_loss: 0.1959 - val_accuracy: 0.9302\n",
            "Epoch 10/200\n",
            "1695/1695 - 3s - loss: 0.2013 - accuracy: 0.9296 - val_loss: 0.1998 - val_accuracy: 0.9265\n",
            "Epoch 11/200\n",
            "1695/1695 - 3s - loss: 0.2015 - accuracy: 0.9289 - val_loss: 0.2001 - val_accuracy: 0.9276\n",
            "Epoch 12/200\n",
            "1695/1695 - 3s - loss: 0.2016 - accuracy: 0.9304 - val_loss: 0.1936 - val_accuracy: 0.9302\n",
            "Epoch 13/200\n",
            "1695/1695 - 3s - loss: 0.2003 - accuracy: 0.9302 - val_loss: 0.1956 - val_accuracy: 0.9307\n",
            "Epoch 14/200\n",
            "1695/1695 - 3s - loss: 0.1996 - accuracy: 0.9317 - val_loss: 0.1960 - val_accuracy: 0.9303\n",
            "Epoch 15/200\n",
            "1695/1695 - 3s - loss: 0.2002 - accuracy: 0.9302 - val_loss: 0.1928 - val_accuracy: 0.9317\n",
            "Epoch 16/200\n",
            "1695/1695 - 3s - loss: 0.1990 - accuracy: 0.9307 - val_loss: 0.1929 - val_accuracy: 0.9312\n",
            "Epoch 17/200\n",
            "1695/1695 - 3s - loss: 0.1988 - accuracy: 0.9310 - val_loss: 0.1916 - val_accuracy: 0.9316\n",
            "Epoch 18/200\n",
            "1695/1695 - 3s - loss: 0.1987 - accuracy: 0.9308 - val_loss: 0.1918 - val_accuracy: 0.9314\n",
            "Epoch 19/200\n",
            "1695/1695 - 3s - loss: 0.1986 - accuracy: 0.9311 - val_loss: 0.1934 - val_accuracy: 0.9320\n",
            "Epoch 20/200\n",
            "1695/1695 - 3s - loss: 0.1973 - accuracy: 0.9323 - val_loss: 0.1916 - val_accuracy: 0.9321\n",
            "Epoch 21/200\n",
            "1695/1695 - 3s - loss: 0.1983 - accuracy: 0.9317 - val_loss: 0.1932 - val_accuracy: 0.9318\n",
            "Epoch 22/200\n",
            "1695/1695 - 3s - loss: 0.1975 - accuracy: 0.9321 - val_loss: 0.1923 - val_accuracy: 0.9314\n",
            "Epoch 23/200\n",
            "1695/1695 - 3s - loss: 0.1974 - accuracy: 0.9325 - val_loss: 0.1915 - val_accuracy: 0.9325\n",
            "Epoch 24/200\n",
            "1695/1695 - 3s - loss: 0.1967 - accuracy: 0.9328 - val_loss: 0.1909 - val_accuracy: 0.9329\n",
            "Epoch 25/200\n",
            "1695/1695 - 3s - loss: 0.1967 - accuracy: 0.9316 - val_loss: 0.1925 - val_accuracy: 0.9336\n",
            "Epoch 26/200\n",
            "1695/1695 - 3s - loss: 0.1968 - accuracy: 0.9322 - val_loss: 0.1956 - val_accuracy: 0.9306\n",
            "Epoch 27/200\n",
            "1695/1695 - 3s - loss: 0.1958 - accuracy: 0.9330 - val_loss: 0.1913 - val_accuracy: 0.9320\n",
            "Epoch 28/200\n",
            "1695/1695 - 3s - loss: 0.1960 - accuracy: 0.9317 - val_loss: 0.1903 - val_accuracy: 0.9321\n",
            "Epoch 29/200\n",
            "1695/1695 - 3s - loss: 0.1954 - accuracy: 0.9327 - val_loss: 0.1908 - val_accuracy: 0.9340\n",
            "Epoch 30/200\n",
            "1695/1695 - 3s - loss: 0.1949 - accuracy: 0.9331 - val_loss: 0.1945 - val_accuracy: 0.9302\n",
            "Epoch 31/200\n",
            "1695/1695 - 3s - loss: 0.1954 - accuracy: 0.9328 - val_loss: 0.1926 - val_accuracy: 0.9335\n",
            "Epoch 32/200\n",
            "1695/1695 - 3s - loss: 0.1940 - accuracy: 0.9326 - val_loss: 0.1900 - val_accuracy: 0.9340\n",
            "Epoch 33/200\n",
            "1695/1695 - 3s - loss: 0.1941 - accuracy: 0.9330 - val_loss: 0.1971 - val_accuracy: 0.9321\n",
            "Epoch 34/200\n",
            "1695/1695 - 3s - loss: 0.1933 - accuracy: 0.9330 - val_loss: 0.1921 - val_accuracy: 0.9339\n",
            "Epoch 35/200\n",
            "1695/1695 - 3s - loss: 0.1936 - accuracy: 0.9341 - val_loss: 0.1882 - val_accuracy: 0.9335\n",
            "Epoch 36/200\n",
            "1695/1695 - 3s - loss: 0.1925 - accuracy: 0.9331 - val_loss: 0.1959 - val_accuracy: 0.9309\n",
            "Epoch 37/200\n",
            "1695/1695 - 3s - loss: 0.1925 - accuracy: 0.9345 - val_loss: 0.1883 - val_accuracy: 0.9342\n",
            "Epoch 38/200\n",
            "1695/1695 - 3s - loss: 0.1920 - accuracy: 0.9346 - val_loss: 0.1889 - val_accuracy: 0.9329\n",
            "Epoch 39/200\n",
            "1695/1695 - 3s - loss: 0.1918 - accuracy: 0.9343 - val_loss: 0.1894 - val_accuracy: 0.9346\n",
            "Epoch 40/200\n",
            "1695/1695 - 3s - loss: 0.1917 - accuracy: 0.9334 - val_loss: 0.1878 - val_accuracy: 0.9346\n",
            "Epoch 41/200\n",
            "1695/1695 - 3s - loss: 0.1918 - accuracy: 0.9340 - val_loss: 0.1864 - val_accuracy: 0.9346\n",
            "Epoch 42/200\n",
            "1695/1695 - 3s - loss: 0.1923 - accuracy: 0.9330 - val_loss: 0.1871 - val_accuracy: 0.9357\n",
            "Epoch 43/200\n",
            "1695/1695 - 3s - loss: 0.1912 - accuracy: 0.9339 - val_loss: 0.1925 - val_accuracy: 0.9334\n",
            "Epoch 44/200\n",
            "1695/1695 - 3s - loss: 0.1914 - accuracy: 0.9352 - val_loss: 0.1865 - val_accuracy: 0.9349\n",
            "Epoch 45/200\n",
            "1695/1695 - 3s - loss: 0.1906 - accuracy: 0.9341 - val_loss: 0.1879 - val_accuracy: 0.9354\n",
            "Epoch 46/200\n",
            "1695/1695 - 3s - loss: 0.1909 - accuracy: 0.9335 - val_loss: 0.1878 - val_accuracy: 0.9358\n",
            "Epoch 47/200\n",
            "1695/1695 - 3s - loss: 0.1906 - accuracy: 0.9341 - val_loss: 0.1870 - val_accuracy: 0.9352\n",
            "Epoch 48/200\n",
            "1695/1695 - 3s - loss: 0.1908 - accuracy: 0.9349 - val_loss: 0.1865 - val_accuracy: 0.9350\n",
            "Epoch 49/200\n",
            "1695/1695 - 3s - loss: 0.1903 - accuracy: 0.9347 - val_loss: 0.1855 - val_accuracy: 0.9345\n",
            "Epoch 50/200\n",
            "1695/1695 - 3s - loss: 0.1897 - accuracy: 0.9354 - val_loss: 0.1843 - val_accuracy: 0.9352\n",
            "Epoch 51/200\n",
            "1695/1695 - 3s - loss: 0.1900 - accuracy: 0.9336 - val_loss: 0.1881 - val_accuracy: 0.9335\n",
            "Epoch 52/200\n",
            "1695/1695 - 3s - loss: 0.1890 - accuracy: 0.9344 - val_loss: 0.1863 - val_accuracy: 0.9357\n",
            "Epoch 53/200\n",
            "1695/1695 - 3s - loss: 0.1893 - accuracy: 0.9356 - val_loss: 0.1837 - val_accuracy: 0.9365\n",
            "Epoch 54/200\n",
            "1695/1695 - 3s - loss: 0.1884 - accuracy: 0.9348 - val_loss: 0.1844 - val_accuracy: 0.9363\n",
            "Epoch 55/200\n",
            "1695/1695 - 3s - loss: 0.1892 - accuracy: 0.9355 - val_loss: 0.1843 - val_accuracy: 0.9375\n",
            "Epoch 56/200\n",
            "1695/1695 - 3s - loss: 0.1890 - accuracy: 0.9361 - val_loss: 0.1854 - val_accuracy: 0.9361\n",
            "Epoch 57/200\n",
            "1695/1695 - 3s - loss: 0.1882 - accuracy: 0.9351 - val_loss: 0.1862 - val_accuracy: 0.9364\n",
            "Epoch 58/200\n",
            "1695/1695 - 3s - loss: 0.1885 - accuracy: 0.9351 - val_loss: 0.1843 - val_accuracy: 0.9356\n",
            "Epoch 59/200\n",
            "1695/1695 - 3s - loss: 0.1879 - accuracy: 0.9363 - val_loss: 0.1852 - val_accuracy: 0.9363\n",
            "Epoch 60/200\n",
            "1695/1695 - 3s - loss: 0.1878 - accuracy: 0.9349 - val_loss: 0.1831 - val_accuracy: 0.9363\n",
            "Epoch 61/200\n",
            "1695/1695 - 3s - loss: 0.1870 - accuracy: 0.9364 - val_loss: 0.1857 - val_accuracy: 0.9354\n",
            "Epoch 62/200\n",
            "1695/1695 - 3s - loss: 0.1867 - accuracy: 0.9365 - val_loss: 0.1882 - val_accuracy: 0.9364\n",
            "Epoch 63/200\n",
            "1695/1695 - 3s - loss: 0.1877 - accuracy: 0.9363 - val_loss: 0.1862 - val_accuracy: 0.9356\n",
            "Epoch 64/200\n",
            "1695/1695 - 3s - loss: 0.1865 - accuracy: 0.9364 - val_loss: 0.1834 - val_accuracy: 0.9367\n",
            "Epoch 65/200\n",
            "1695/1695 - 3s - loss: 0.1872 - accuracy: 0.9360 - val_loss: 0.1868 - val_accuracy: 0.9353\n",
            "Epoch 66/200\n",
            "1695/1695 - 3s - loss: 0.1875 - accuracy: 0.9348 - val_loss: 0.1842 - val_accuracy: 0.9358\n",
            "Epoch 67/200\n",
            "1695/1695 - 3s - loss: 0.1860 - accuracy: 0.9359 - val_loss: 0.1846 - val_accuracy: 0.9358\n",
            "Epoch 68/200\n",
            "1695/1695 - 3s - loss: 0.1863 - accuracy: 0.9356 - val_loss: 0.1824 - val_accuracy: 0.9379\n",
            "Epoch 69/200\n",
            "1695/1695 - 3s - loss: 0.1863 - accuracy: 0.9369 - val_loss: 0.1817 - val_accuracy: 0.9371\n",
            "Epoch 70/200\n",
            "1695/1695 - 3s - loss: 0.1868 - accuracy: 0.9364 - val_loss: 0.1840 - val_accuracy: 0.9369\n",
            "Epoch 71/200\n",
            "1695/1695 - 3s - loss: 0.1868 - accuracy: 0.9366 - val_loss: 0.1831 - val_accuracy: 0.9368\n",
            "Epoch 72/200\n",
            "1695/1695 - 3s - loss: 0.1855 - accuracy: 0.9357 - val_loss: 0.1816 - val_accuracy: 0.9371\n",
            "Epoch 73/200\n",
            "1695/1695 - 3s - loss: 0.1862 - accuracy: 0.9370 - val_loss: 0.1836 - val_accuracy: 0.9375\n",
            "Epoch 74/200\n",
            "1695/1695 - 3s - loss: 0.1865 - accuracy: 0.9361 - val_loss: 0.1831 - val_accuracy: 0.9365\n",
            "Epoch 75/200\n",
            "1695/1695 - 3s - loss: 0.1855 - accuracy: 0.9366 - val_loss: 0.1821 - val_accuracy: 0.9371\n",
            "Epoch 76/200\n",
            "1695/1695 - 3s - loss: 0.1853 - accuracy: 0.9359 - val_loss: 0.1838 - val_accuracy: 0.9369\n",
            "Epoch 77/200\n",
            "1695/1695 - 3s - loss: 0.1857 - accuracy: 0.9368 - val_loss: 0.1823 - val_accuracy: 0.9360\n",
            "Epoch 78/200\n",
            "1695/1695 - 3s - loss: 0.1847 - accuracy: 0.9366 - val_loss: 0.1830 - val_accuracy: 0.9372\n",
            "Epoch 79/200\n",
            "1695/1695 - 3s - loss: 0.1857 - accuracy: 0.9369 - val_loss: 0.1839 - val_accuracy: 0.9354\n",
            "Epoch 80/200\n",
            "1695/1695 - 3s - loss: 0.1851 - accuracy: 0.9368 - val_loss: 0.1913 - val_accuracy: 0.9347\n",
            "Epoch 81/200\n",
            "1695/1695 - 3s - loss: 0.1849 - accuracy: 0.9359 - val_loss: 0.1814 - val_accuracy: 0.9371\n",
            "Epoch 82/200\n",
            "1695/1695 - 3s - loss: 0.1851 - accuracy: 0.9364 - val_loss: 0.1818 - val_accuracy: 0.9367\n",
            "Epoch 83/200\n",
            "1695/1695 - 3s - loss: 0.1855 - accuracy: 0.9362 - val_loss: 0.1824 - val_accuracy: 0.9354\n",
            "Epoch 84/200\n",
            "1695/1695 - 3s - loss: 0.1851 - accuracy: 0.9372 - val_loss: 0.1861 - val_accuracy: 0.9334\n",
            "Epoch 85/200\n",
            "1695/1695 - 3s - loss: 0.1845 - accuracy: 0.9373 - val_loss: 0.1818 - val_accuracy: 0.9364\n",
            "Epoch 86/200\n",
            "1695/1695 - 3s - loss: 0.1851 - accuracy: 0.9358 - val_loss: 0.1869 - val_accuracy: 0.9328\n",
            "Epoch 87/200\n",
            "1695/1695 - 3s - loss: 0.1848 - accuracy: 0.9375 - val_loss: 0.1857 - val_accuracy: 0.9361\n",
            "Epoch 88/200\n",
            "1695/1695 - 3s - loss: 0.1849 - accuracy: 0.9363 - val_loss: 0.1807 - val_accuracy: 0.9375\n",
            "Epoch 89/200\n",
            "1695/1695 - 3s - loss: 0.1847 - accuracy: 0.9369 - val_loss: 0.1826 - val_accuracy: 0.9372\n",
            "Epoch 90/200\n",
            "1695/1695 - 3s - loss: 0.1844 - accuracy: 0.9370 - val_loss: 0.1831 - val_accuracy: 0.9367\n",
            "Epoch 91/200\n",
            "1695/1695 - 3s - loss: 0.1844 - accuracy: 0.9377 - val_loss: 0.1819 - val_accuracy: 0.9374\n",
            "Epoch 92/200\n",
            "1695/1695 - 3s - loss: 0.1848 - accuracy: 0.9369 - val_loss: 0.1815 - val_accuracy: 0.9368\n",
            "Epoch 93/200\n",
            "1695/1695 - 3s - loss: 0.1846 - accuracy: 0.9374 - val_loss: 0.1805 - val_accuracy: 0.9379\n",
            "Epoch 94/200\n",
            "1695/1695 - 3s - loss: 0.1844 - accuracy: 0.9371 - val_loss: 0.1808 - val_accuracy: 0.9389\n",
            "Epoch 95/200\n",
            "1695/1695 - 3s - loss: 0.1845 - accuracy: 0.9370 - val_loss: 0.1808 - val_accuracy: 0.9369\n",
            "Epoch 96/200\n",
            "1695/1695 - 3s - loss: 0.1842 - accuracy: 0.9370 - val_loss: 0.1839 - val_accuracy: 0.9368\n",
            "Epoch 97/200\n",
            "1695/1695 - 3s - loss: 0.1842 - accuracy: 0.9369 - val_loss: 0.1823 - val_accuracy: 0.9368\n",
            "Epoch 98/200\n",
            "1695/1695 - 3s - loss: 0.1840 - accuracy: 0.9361 - val_loss: 0.1823 - val_accuracy: 0.9363\n",
            "Epoch 99/200\n",
            "1695/1695 - 3s - loss: 0.1839 - accuracy: 0.9364 - val_loss: 0.1836 - val_accuracy: 0.9349\n",
            "Epoch 100/200\n",
            "1695/1695 - 3s - loss: 0.1839 - accuracy: 0.9369 - val_loss: 0.1831 - val_accuracy: 0.9368\n",
            "Epoch 101/200\n",
            "1695/1695 - 3s - loss: 0.1840 - accuracy: 0.9367 - val_loss: 0.1805 - val_accuracy: 0.9374\n",
            "Epoch 102/200\n",
            "1695/1695 - 3s - loss: 0.1838 - accuracy: 0.9380 - val_loss: 0.1818 - val_accuracy: 0.9365\n",
            "Epoch 103/200\n",
            "1695/1695 - 3s - loss: 0.1837 - accuracy: 0.9371 - val_loss: 0.1862 - val_accuracy: 0.9358\n"
          ],
          "name": "stdout"
        }
      ]
    },
    {
      "cell_type": "code",
      "metadata": {
        "id": "k_3nCZTvtj98",
        "colab": {
          "base_uri": "https://localhost:8080/",
          "height": 296
        },
        "outputId": "c4b2c5ca-aeae-42ce-c3da-5bdaca541e88"
      },
      "source": [
        "plt.plot(history_sigmoid.history['loss'], label='train_loss_sigmoid',color=\"r\")\r\n",
        "plt.plot(history_reference.history['loss'], label='train_loss_nominal',color='b')\r\n",
        "plt.xlabel('epoch')\r\n",
        "plt.ylabel('Loss')\r\n",
        "plt.legend()"
      ],
      "execution_count": 36,
      "outputs": [
        {
          "output_type": "execute_result",
          "data": {
            "text/plain": [
              "<matplotlib.legend.Legend at 0x7f401ef24860>"
            ]
          },
          "metadata": {
            "tags": []
          },
          "execution_count": 36
        },
        {
          "output_type": "display_data",
          "data": {
            "image/png": "[encoded data removed]",
            "text/plain": [
              "<Figure size 432x288 with 1 Axes>"
            ]
          },
          "metadata": {
            "tags": [],
            "needs_background": "light"
          }
        }
      ]
    },
    {
      "cell_type": "code",
      "metadata": {
        "id": "kCRE2DkotuQb",
        "colab": {
          "base_uri": "https://localhost:8080/",
          "height": 296
        },
        "outputId": "fe14b248-bbd5-4cf2-97e5-87bad006b7e9"
      },
      "source": [
        "plt.plot(history_sigmoid.history[\"val_loss\"],label='test_sigmoid',color='r')\r\n",
        "plt.plot(history_reference.history[\"val_loss\"],label='test_nominal',color='b')\r\n",
        "plt.xlabel('epoch')\r\n",
        "plt.ylabel('Validation loss')\r\n",
        "plt.legend()"
      ],
      "execution_count": 35,
      "outputs": [
        {
          "output_type": "execute_result",
          "data": {
            "text/plain": [
              "<matplotlib.legend.Legend at 0x7f401ef874a8>"
            ]
          },
          "metadata": {
            "tags": []
          },
          "execution_count": 35
        },
        {
          "output_type": "display_data",
          "data": {
            "image/png": "[encoded data removed]",
            "text/plain": [
              "<Figure size 432x288 with 1 Axes>"
            ]
          },
          "metadata": {
            "tags": [],
            "needs_background": "light"
          }
        }
      ]
    },
    {
      "cell_type": "code",
      "metadata": {
        "id": "eXU14wZ-tyd7",
        "colab": {
          "base_uri": "https://localhost:8080/",
          "height": 296
        },
        "outputId": "93d86229-fe95-42f3-fec0-ac7f5b93123c"
      },
      "source": [
        "plt.plot(history_sigmoid.history['accuracy'],label='acc_sigmoid',color='r')\r\n",
        "plt.plot(history_reference.history['accuracy'],label='acc_nominal',color='b')\r\n",
        "plt.xlabel('epoch')\r\n",
        "plt.ylabel('accuracy')\r\n",
        "plt.legend()"
      ],
      "execution_count": 34,
      "outputs": [
        {
          "output_type": "execute_result",
          "data": {
            "text/plain": [
              "<matplotlib.legend.Legend at 0x7f401efe2160>"
            ]
          },
          "metadata": {
            "tags": []
          },
          "execution_count": 34
        },
        {
          "output_type": "display_data",
          "data": {
            "image/png": "[encoded data removed]",
            "text/plain": [
              "<Figure size 432x288 with 1 Axes>"
            ]
          },
          "metadata": {
            "tags": [],
            "needs_background": "light"
          }
        }
      ]
    },
    {
      "cell_type": "markdown",
      "metadata": {
        "id": "rQY2QnPEKsG5"
      },
      "source": [
        "Extension: Do the same exercise again, but with the sigmoid activation function replaced in the output layer with the $tanh$ activation function."
      ]
    },
    {
      "cell_type": "code",
      "metadata": {
        "id": "ABGt7YoqPkC2"
      },
      "source": [
        ""
      ],
      "execution_count": null,
      "outputs": []
    }
  ]
}