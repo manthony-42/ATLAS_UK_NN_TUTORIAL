{
  "nbformat": 4,
  "nbformat_minor": 0,
  "metadata": {
    "kernelspec": {
      "display_name": "Python 3",
      "language": "python",
      "name": "python3"
    },
    "language_info": {
      "codemirror_mode": {
        "name": "ipython",
        "version": 3
      },
      "file_extension": ".py",
      "mimetype": "text/x-python",
      "name": "python",
      "nbconvert_exporter": "python",
      "pygments_lexer": "ipython3",
      "version": "3.7.6"
    },
    "colab": {
      "name": "DNN.ipynb",
      "provenance": [],
      "collapsed_sections": [
        "Ps2xK8_3bfvr",
        "iX6XQouebRLQ"
      ]
    }
  },
  "cells": [
    {
      "cell_type": "markdown",
      "metadata": {
        "id": "uS5RSOR8Q3FP"
      },
      "source": [
        "# Welcome to the ATLAS UK (Jan. 2021) ML tutorial!    \r\n",
        "## This tutorial will attempt to guide you through a short analysis chain. The general outline of this tutorial is as follows:\r\n",
        "\r\n",
        "1. Setup the workbook environment and download some ATLAS Open Data samples. \r\n",
        "2. Implement some basic selections and make some plots of the kinematic variables.\r\n",
        "3. Train a deep neural network to discriminate between the signal process of interest and the major background sample.\r\n",
        "4. Test the significance of the discrimination using a cut on the output of the DNN.\r\n",
        "\r\n",
        "\r\n"
      ]
    },
    {
      "cell_type": "markdown",
      "metadata": {
        "id": "kaPvFvUGVHvg"
      },
      "source": [
        "### 1. Getting the workbook environment set up!\r\n",
        "This tutorial makes use of modern HEP software libraries, such as [Uproot4](https://uproot.readthedocs.io/en/latest/), while also leverging tools widely used in data science, such as Pandas, numpy and sklearn. Uproot4 enables us to use ROOT files as inputs to this tutorial, without needing an install of ROOT to hand!    \r\n",
        "To get started, set:\r\n",
        "\r\n",
        "```\r\n",
        "first_run = True\r\n",
        "```\r\n",
        "\r\n",
        "After doing this,*italicised text* run the first two cells. Every time you open this workbook on a new instance of Google Colab, you will need to run this step to install the required packages. "
      ]
    },
    {
      "cell_type": "code",
      "metadata": {
        "id": "JTKfrXbfhMCc"
      },
      "source": [
        "first_run = False"
      ],
      "execution_count": 1,
      "outputs": []
    },
    {
      "cell_type": "code",
      "metadata": {
        "colab": {
          "base_uri": "https://localhost:8080/"
        },
        "id": "P--kTtVvccp5",
        "outputId": "044ef989-3a72-4f8f-d044-11f892897b90"
      },
      "source": [
        "if first_run:\n",
        "  print('--- INSTALLING PACKAGES ---')\n",
        "  !python3 -m pip install --upgrade pip\n",
        "  !python3 -m pip install grpcio==1.32.0\n",
        "  !python3 -m pip install tensorflow==2.2.0\n",
        "  !python3 -m pip install keras\n",
        "  !python3 -m pip install sklearn\n",
        "  !python3 -m pip install pydot\n",
        "  !python3 -m pip install graphviz\n",
        "  !python3 -m pip install uproot4\n",
        "  !python3 -m pip install awkward1\n",
        "  !python3 -m pip install progressbar2\n",
        "else:\n",
        "  print('--- SKIPPING INSTALL ---')"
      ],
      "execution_count": 2,
      "outputs": [
        {
          "output_type": "stream",
          "text": [
            "--- SKIPPING INSTALL ---\n"
          ],
          "name": "stdout"
        }
      ]
    },
    {
      "cell_type": "markdown",
      "metadata": {
        "id": "LzyoXSPjXBa-"
      },
      "source": [
        "In addition, we should now download the ATLAS Open Data files that we will use for this tutorial. Again, we should do this when we first run the workbook on an instance of Google Colab. A lot of helpful info about the available ATLAS Open Data samples can be found here: [ATLAS Open Data portal](http://opendata.atlas.cern/release/2020/documentation/).    \r\n",
        "You may have noticed that the previous cell and this cell use shell commands. To use standard shell commands, start the line with an exclamation mark. "
      ]
    },
    {
      "cell_type": "code",
      "metadata": {
        "id": "8XMn8iYYXGJn"
      },
      "source": [
        "if first_run:\r\n",
        "  !rm *.root*\r\n",
        "  !wget http://opendata.cern.ch/eos/opendata/atlas/OutreachDatasets/2020-01-22/1largeRjet1lep/MC/mc_387163.TT_directTT_600_1.1largeRjet1lep.root\r\n",
        "  !wget http://opendata.cern.ch/eos/opendata/atlas/OutreachDatasets/2020-01-22/1largeRjet1lep/MC/mc_410000.ttbar_lep.1largeRjet1lep.root\r\n",
        "  !ls"
      ],
      "execution_count": 3,
      "outputs": []
    },
    {
      "cell_type": "markdown",
      "metadata": {
        "id": "kbnG2IDJWylG"
      },
      "source": [
        "Finally, we will import the relevant modules and functions. We will use Keras, a library which interfaces to TensorFlow, for our deep neural network. "
      ]
    },
    {
      "cell_type": "code",
      "metadata": {
        "id": "eynCzutzccqE"
      },
      "source": [
        "from keras.optimizers import Adam\n",
        "from keras.utils import plot_model, to_categorical\n",
        "from keras.callbacks import EarlyStopping, ModelCheckpoint\n",
        "from keras.models import Sequential\n",
        "from keras.layers import Dense, Activation, Dropout"
      ],
      "execution_count": 4,
      "outputs": []
    },
    {
      "cell_type": "markdown",
      "metadata": {
        "id": "o0iANR_Z6Kll"
      },
      "source": [
        "In addition, we will use some sklearn features when preparing our datasets for training and testing. We will make use of Pandas to store the information we extract from the ROOT files, and use matplotlib to make all plots in this notebook. "
      ]
    },
    {
      "cell_type": "code",
      "metadata": {
        "id": "kqN7g4rQccqF"
      },
      "source": [
        "from sklearn import datasets\n",
        "from sklearn.model_selection import train_test_split\n",
        "from sklearn.preprocessing import MinMaxScaler\n",
        "import pandas as pd\n",
        "import pydot\n",
        "import graphviz\n",
        "import matplotlib.pyplot as plt\n",
        "import uproot4\n",
        "import awkward1\n",
        "import numpy as np\n",
        "import progressbar"
      ],
      "execution_count": 5,
      "outputs": []
    },
    {
      "cell_type": "markdown",
      "metadata": {
        "id": "cl1nMyd7eL-U"
      },
      "source": [
        "### 2. Taking a look at some ROOT files\r\n",
        "As mentioned earlier, we will use ATLAS Open Data samples in this notebook. Using two simulated samples, we will look at discriminating a SUSY process from its largest background, top-pair production. \r\n",
        "\r\n",
        "![]()"
      ]
    },
    {
      "cell_type": "code",
      "metadata": {
        "id": "63qOZmxWeU5S"
      },
      "source": [
        "stop_file = uproot4.open(\"mc_387163.TT_directTT_600_1.1largeRjet1lep.root\")\r\n",
        "top_file = uproot4.open(\"mc_410000.ttbar_lep.1largeRjet1lep.root\")\r\n",
        "stop_tree = stop_file['mini']\r\n",
        "top_tree = top_file[\"mini\"]"
      ],
      "execution_count": 6,
      "outputs": []
    },
    {
      "cell_type": "markdown",
      "metadata": {
        "id": "qGidfzTwLgHT"
      },
      "source": [
        "If you would like to see the contents of the input ROOT files, set:\r\n",
        "```\r\n",
        "print_tree = True\r\n",
        "```\r\n",
        "\r\n"
      ]
    },
    {
      "cell_type": "code",
      "metadata": {
        "id": "uCNaq1ixgTmq"
      },
      "source": [
        "print_tree = False\r\n",
        "if print_tree:\r\n",
        "  stop_tree.show()"
      ],
      "execution_count": 7,
      "outputs": []
    },
    {
      "cell_type": "markdown",
      "metadata": {
        "id": "6llbL0MKLvue"
      },
      "source": [
        "To get started, we will apply a loose selection to events, requiring that each event has at least two jets (R=0.4), has exactly one lepton and passes one of the single lepton triggers, and also has exactly one large-R jet.    \r\n",
        "To save time, we will use only 20000 events from the top-pair sample. "
      ]
    },
    {
      "cell_type": "code",
      "metadata": {
        "id": "ypSjX-OGNuVN"
      },
      "source": [
        "cuts = '(jet_n >= 2) * (lep_n == 1) * (trigE + trigM == 1) * (largeRjet_n == 1)' \r\n",
        "events_limit = 20000 "
      ],
      "execution_count": 8,
      "outputs": []
    },
    {
      "cell_type": "code",
      "metadata": {
        "id": "cyiimkKfksHg"
      },
      "source": [
        "def prepare_dataset( tree ):\r\n",
        "\r\n",
        "  # Retrieve branches from trees in awkward array\r\n",
        "  vars = ['met_et','met_phi','jet_pt',\r\n",
        "          'jet_phi','jet_eta','lep_pt',\r\n",
        "          'lep_eta','lep_phi','largeRjet_n','largeRjet_pt',\r\n",
        "          'largeRjet_eta','largeRjet_phi']\r\n",
        "  weights = ['mcWeight', 'XSection', 'scaleFactor_PILEUP', 'scaleFactor_ELE',\r\n",
        "             'scaleFactor_MUON', 'scaleFactor_PHOTON', 'scaleFactor_TAU', \r\n",
        "             'scaleFactor_BTAG', 'scaleFactor_LepTRIGGER', 'SumWeights']\r\n",
        "  all_vars = vars + weights\r\n",
        "  temp_tree = tree.arrays(all_vars, cuts)\r\n",
        "\r\n",
        "  # Define branches of variable length to be flattened\r\n",
        "  expand_vars = {'jet_pt': 0, \r\n",
        "                 'jet_phi': 0, \r\n",
        "                 'jet_eta': 0, \r\n",
        "                 'largeRjet_pt': 0, \r\n",
        "                 'largeRjet_phi': 0, \r\n",
        "                 'largeRjet_eta': 0,\r\n",
        "                 'lep_pt': 0,\r\n",
        "                 'lep_phi': 0,\r\n",
        "                 'lep_eta': 0 \r\n",
        "                 }\r\n",
        "\r\n",
        "  # Prepare dataframe columns\r\n",
        "  columns = []\r\n",
        "  temp_df = pd.DataFrame(columns=vars)\r\n",
        "\r\n",
        "  # Fill dataframe\r\n",
        "  for index, entry in progressbar.progressbar(enumerate(temp_tree)):\r\n",
        "    for var in vars:\r\n",
        "      if var in expand_vars:\r\n",
        "        temp_df.at[index, var] = float(entry[var][expand_vars[var]])\r\n",
        "      else:\r\n",
        "        temp_df.at[index, var] = float(entry[var])\r\n",
        "    temp_weight = 1.0\r\n",
        "    for weight in weights:\r\n",
        "      if weight != 'SumWeights':\r\n",
        "        temp_weight *= entry[weight]\r\n",
        "      else:\r\n",
        "        temp_weight /= entry[weight]\r\n",
        "    if len(temp_tree) > events_limit:\r\n",
        "      temp_weight *= (len(temp_tree)/events_limit)\r\n",
        "    temp_df.at[index, 'weight'] = temp_weight\r\n",
        "    if index == events_limit:\r\n",
        "      break\r\n",
        "\r\n",
        "  for column in temp_df.columns:\r\n",
        "    temp_df[column] = pd.to_numeric(temp_df[column])\r\n",
        "\r\n",
        "  return temp_df"
      ],
      "execution_count": 9,
      "outputs": []
    },
    {
      "cell_type": "code",
      "metadata": {
        "id": "tuD5-gO_kt11"
      },
      "source": [
        "def make_plot( sig, bkg, variable, xlow=0, xhigh=1E6, bins=50, norm=True, log=False ):\r\n",
        "\r\n",
        "  np_bins = np.linspace(xlow, xhigh, bins+1)\r\n",
        "  plt.gcf().clear()\r\n",
        "\r\n",
        "  plt.hist( sig[variable], bins=np_bins, density=norm, label='Sig', histtype='step' )\r\n",
        "  plt.hist( bkg[variable], bins=np_bins, density=norm, label='Bkg', histtype='step' )\r\n",
        "  plt.xlabel(variable)\r\n",
        "  if log:\r\n",
        "    plt.yscale('log')\r\n",
        "  plt.grid(False)\r\n",
        "  plt.legend(loc='best')\r\n",
        "  plt.show()"
      ],
      "execution_count": 10,
      "outputs": []
    },
    {
      "cell_type": "code",
      "metadata": {
        "id": "9UvGCP_FLCls"
      },
      "source": [
        "def calculate_mt(df):\r\n",
        "\r\n",
        "  df['dphi_l1_met'] = np.abs(df['lep_phi'] - df['met_phi'])\r\n",
        "  df['mt'] = np.sqrt(2 * df['lep_pt'] * df['met_et'] * (1-np.cos(df['dphi_l1_met'])))\r\n",
        "  return df"
      ],
      "execution_count": 11,
      "outputs": []
    },
    {
      "cell_type": "markdown",
      "metadata": {
        "id": "o7oOLrd2NzBo"
      },
      "source": [
        "The input ROOT files have a mixture of data-types inside them, namely floats and vectors of mixed length. However, our DNN requires a 'flat' input, so we must flatten these vectors. The function prepare_dataset performs this iteratively. "
      ]
    },
    {
      "cell_type": "code",
      "metadata": {
        "colab": {
          "base_uri": "https://localhost:8080/"
        },
        "id": "3cLkIXHVoXgC",
        "outputId": "6baa7e81-7824-45b7-fb55-2e2e6678dd34"
      },
      "source": [
        "stop_df = prepare_dataset(stop_tree)\r\n",
        "top_df = prepare_dataset(top_tree)"
      ],
      "execution_count": 12,
      "outputs": [
        {
          "output_type": "stream",
          "text": [
            "| |                  #                             | 4206 Elapsed Time: 0:00:11\n",
            "| |                  #                            | 19995 Elapsed Time: 0:01:35"
          ],
          "name": "stderr"
        }
      ]
    },
    {
      "cell_type": "markdown",
      "metadata": {
        "id": "nMPKzUtKOFm5"
      },
      "source": [
        "In addition to the low-level inputs from the ROOT files, we can construct complex variables, such as the transverse mass. The function calculate_mt adds the transverse mass (mt) variable to the dataframes for both signal and background."
      ]
    },
    {
      "cell_type": "code",
      "metadata": {
        "id": "P9nH7ukmNfYB"
      },
      "source": [
        "stop_df = calculate_mt(stop_df)\r\n",
        "top_df = calculate_mt(top_df)"
      ],
      "execution_count": 13,
      "outputs": []
    },
    {
      "cell_type": "markdown",
      "metadata": {
        "id": "eVNQg9iHOYUe"
      },
      "source": [
        "It would be nice to see some plots of these variables! The function make_plot enables this using matplotlib. "
      ]
    },
    {
      "cell_type": "code",
      "metadata": {
        "colab": {
          "base_uri": "https://localhost:8080/",
          "height": 1000
        },
        "id": "cnYmSlyFkjX6",
        "outputId": "10666819-64fb-4cee-bd9e-d328b20b2fb1"
      },
      "source": [
        "make_plot(stop_df, top_df, 'met_et')\r\n",
        "make_plot(stop_df, top_df, 'met_phi', xlow=-4, xhigh=4, bins=8)\r\n",
        "\r\n",
        "make_plot(stop_df, top_df, 'jet_pt')\r\n",
        "make_plot(stop_df, top_df, 'jet_phi', xlow=-4, xhigh=4, bins=8)\r\n",
        "make_plot(stop_df, top_df, 'jet_eta', xlow=0, xhigh=4, bins=8)\r\n",
        "make_plot(stop_df, top_df, 'lep_pt')\r\n",
        "make_plot(stop_df, top_df, 'lep_phi', xlow=-4, xhigh=4, bins=8)\r\n",
        "make_plot(stop_df, top_df, 'lep_eta', xlow=0, xhigh=4, bins=8)\r\n",
        "\r\n",
        "make_plot(stop_df, top_df, 'largeRjet_pt')\r\n",
        "make_plot(stop_df, top_df, 'largeRjet_phi', xlow=-4, xhigh=4, bins=8)\r\n",
        "make_plot(stop_df, top_df, 'largeRjet_eta', xlow=0, xhigh=4, bins=8)\r\n",
        "\r\n",
        "make_plot(stop_df, top_df, 'dphi_l1_met', xlow=0, xhigh=4, bins=8)\r\n",
        "make_plot(stop_df, top_df, 'mt')"
      ],
      "execution_count": 14,
      "outputs": [
        {
          "output_type": "display_data",
          "data": {
            "image/png": "[encoded data removed]",
            "text/plain": [
              "<Figure size 432x288 with 1 Axes>"
            ]
          },
          "metadata": {
            "tags": [],
            "needs_background": "light"
          }
        },
        {
          "output_type": "display_data",
          "data": {
            "image/png": "[encoded data removed]",
            "text/plain": [
              "<Figure size 432x288 with 1 Axes>"
            ]
          },
          "metadata": {
            "tags": [],
            "needs_background": "light"
          }
        },
        {
          "output_type": "display_data",
          "data": {
            "image/png": "[encoded data removed]",
            "text/plain": [
              "<Figure size 432x288 with 1 Axes>"
            ]
          },
          "metadata": {
            "tags": [],
            "needs_background": "light"
          }
        },
        {
          "output_type": "display_data",
          "data": {
            "image/png": "[encoded data removed]",
            "text/plain": [
              "<Figure size 432x288 with 1 Axes>"
            ]
          },
          "metadata": {
            "tags": [],
            "needs_background": "light"
          }
        },
        {
          "output_type": "display_data",
          "data": {
            "image/png": "[encoded data removed]",
            "text/plain": [
              "<Figure size 432x288 with 1 Axes>"
            ]
          },
          "metadata": {
            "tags": [],
            "needs_background": "light"
          }
        },
        {
          "output_type": "display_data",
          "data": {
            "image/png": "[encoded data removed]",
            "text/plain": [
              "<Figure size 432x288 with 1 Axes>"
            ]
          },
          "metadata": {
            "tags": [],
            "needs_background": "light"
          }
        },
        {
          "output_type": "display_data",
          "data": {
            "image/png": "[encoded data removed]",
            "text/plain": [
              "<Figure size 432x288 with 1 Axes>"
            ]
          },
          "metadata": {
            "tags": [],
            "needs_background": "light"
          }
        },
        {
          "output_type": "display_data",
          "data": {
            "image/png": "[encoded data removed]",
            "text/plain": [
              "<Figure size 432x288 with 1 Axes>"
            ]
          },
          "metadata": {
            "tags": [],
            "needs_background": "light"
          }
        },
        {
          "output_type": "display_data",
          "data": {
            "image/png": "[encoded data removed]",
            "text/plain": [
              "<Figure size 432x288 with 1 Axes>"
            ]
          },
          "metadata": {
            "tags": [],
            "needs_background": "light"
          }
        },
        {
          "output_type": "display_data",
          "data": {
            "image/png": "[encoded data removed]",
            "text/plain": [
              "<Figure size 432x288 with 1 Axes>"
            ]
          },
          "metadata": {
            "tags": [],
            "needs_background": "light"
          }
        },
        {
          "output_type": "display_data",
          "data": {
            "image/png": "[encoded data removed]",
            "text/plain": [
              "<Figure size 432x288 with 1 Axes>"
            ]
          },
          "metadata": {
            "tags": [],
            "needs_background": "light"
          }
        },
        {
          "output_type": "display_data",
          "data": {
            "image/png": "[encoded data removed]",
            "text/plain": [
              "<Figure size 432x288 with 1 Axes>"
            ]
          },
          "metadata": {
            "tags": [],
            "needs_background": "light"
          }
        },
        {
          "output_type": "display_data",
          "data": {
            "image/png": "[encoded data removed]",
            "text/plain": [
              "<Figure size 432x288 with 1 Axes>"
            ]
          },
          "metadata": {
            "tags": [],
            "needs_background": "light"
          }
        }
      ]
    },
    {
      "cell_type": "markdown",
      "metadata": {
        "id": "L_7JvcWwOnIV"
      },
      "source": [
        "### 3. Steps toward training a DNN.\r\n",
        "To perform fully-supervised training, we need to give each of our input classes a label. As we're doing a binary classification, i.e. a this vs that classification, we will give the background the label 0 and the signal the label 1.  \r\n"
      ]
    },
    {
      "cell_type": "code",
      "metadata": {
        "id": "e09ym5OjV8h2"
      },
      "source": [
        "# Set labels for each class\r\n",
        "stop_df['class'] = 1\r\n",
        "top_df['class'] = 0\r\n",
        "# Merge inputs into one dataframe\r\n",
        "merge_df = pd.concat([stop_df, top_df])\r\n",
        "# Separate the dataframe into one containing the kinematics, and one containing the truth labels. \r\n",
        "X = merge_df.drop(['class', 'weight'], axis=1)\r\n",
        "y = merge_df[['class']]"
      ],
      "execution_count": 15,
      "outputs": []
    },
    {
      "cell_type": "markdown",
      "metadata": {
        "id": "PL6OPm6FPaUb"
      },
      "source": [
        "We now use train_test_split to produce independent, randomised samples of events for training and validation. "
      ]
    },
    {
      "cell_type": "code",
      "metadata": {
        "id": "08mR7a-BNhWK"
      },
      "source": [
        "X_train, X_test, y_train, y_test = train_test_split( X, y, test_size=0.3, random_state=42 )"
      ],
      "execution_count": 16,
      "outputs": []
    },
    {
      "cell_type": "markdown",
      "metadata": {
        "id": "-3VWMfryPqIg"
      },
      "source": [
        "The last preparatory step is to scale our features. We need our inputs to be of roughly the same size (order of magnitude), and thus we use a min-max scaler, such that all features are within 0 to 1. "
      ]
    },
    {
      "cell_type": "code",
      "metadata": {
        "id": "hhtxSqoBViMo"
      },
      "source": [
        "scaler = MinMaxScaler(feature_range=(0,1))\r\n",
        "X_train = scaler.fit_transform(X_train)\r\n",
        "X_test = scaler.transform(X_test)"
      ],
      "execution_count": 17,
      "outputs": []
    },
    {
      "cell_type": "markdown",
      "metadata": {
        "id": "XzpaPYeIQHLT"
      },
      "source": [
        "### Neural networks!\r\n",
        "\r\n",
        "Finally we are getting around to defining our model, which is a neural network. We will use a fully-connected, feed-forward NN. This means that every node in a given layer is connected to all of the nodes in the previous and subsequent layer. "
      ]
    },
    {
      "cell_type": "code",
      "metadata": {
        "id": "hpxdWEJmVoxq"
      },
      "source": [
        "def model():\r\n",
        "    \r\n",
        "    model = Sequential()\r\n",
        "    model.add(Dense(8, input_dim=X_train.shape[1], activation='relu', name='layer_1'))\r\n",
        "    model.add(Dropout(0.5))\r\n",
        "    model.add(Dense(10, activation='relu', name='layer_2'))\r\n",
        "    model.add(Dense(10, activation='relu', name='layer_3'))\r\n",
        "    model.add(Dense(1, activation='sigmoid', name='output_layer'))\r\n",
        "    model.compile(loss='binary_crossentropy', optimizer='adam',metrics=['accuracy'])\r\n",
        "    return model"
      ],
      "execution_count": 25,
      "outputs": []
    },
    {
      "cell_type": "markdown",
      "metadata": {
        "id": "Ff6jKCxYowVI"
      },
      "source": [
        "Our model is defined as having an input layer which has the same number of nodes as we do input features. Our output layer has a single output, which will be a number between 0 and 1, corresponding to the prediction of the model for the event. There are 3 hidden layers, which are layers between the input and output layers, and make the neural network a 'deep' neural network.    \r\n",
        "**Exercise: Try adding and removing hidden layers to see if the performance of your network changes.**"
      ]
    },
    {
      "cell_type": "markdown",
      "metadata": {
        "id": "Ps2xK8_3bfvr"
      },
      "source": [
        "#### NN learning rate"
      ]
    },
    {
      "cell_type": "markdown",
      "metadata": {
        "id": "Ketm_EGAuBBr"
      },
      "source": [
        "Useful parameters to configure: Learning rate\r\n",
        "NNs involve configuration of the learning rate (extent to which weights are updated after each back-propagation step/epoch), which is typically taken to be in the range  (0.0,1.0) . The learning rate determines the speed at which the model \"learns\", such that the larger the learning rate, the faster the model learns at the cost of a somewhat sub-optimal set of parameters and the converse case for the small learning rate.\r\n",
        "\r\n",
        "However, if the learning rates are too large, the weight updates will be too large and will oscillate over training epochs. Conversely if the learning rates are too small, a model may converge to a sub-optimal set of weights.\r\n",
        "\r\n",
        "The Tensorflow default for this parameter is LR=0.01, and we will vary this parameter to LR=0.02 to demonstrate the impact of this parameter.\r\n",
        "\r\n",
        "The exact choice for your use case must be determined by trial and error."
      ]
    },
    {
      "cell_type": "code",
      "metadata": {
        "colab": {
          "base_uri": "https://localhost:8080/",
          "height": 404
        },
        "id": "XyEMttd1bh8r",
        "outputId": "abb804d3-11fc-4491-e078-c8f59cdee378"
      },
      "source": [
        "def NNmodel_altLR(activation_function=\"relu\"):\r\n",
        "  model = Sequential()\r\n",
        "  model.add(Dense(8, input_dim=X_train.shape[1], activation='relu', name='layer_1')) # input layer\r\n",
        "  model.add(Dense(10, activation=activation_function, name='layer_2'))\r\n",
        "  model.add(Dense(10, activation=activation_function, name='layer_3'))\r\n",
        "  model.add(Dense(1, activation='sigmoid', name='output_layer')) \r\n",
        "  #configure the optimiser. This is where the learning rate is configured\r\n",
        "  learningrate=0.02\r\n",
        "  opt=Adam(learning_rate=learningrate)\r\n",
        "  # can now pass the optimizer we just defined into the model\r\n",
        "  model.compile(loss='binary_crossentropy', optimizer=opt,metrics=['accuracy'])\r\n",
        "  return model,learningrate\r\n",
        "\r\n",
        "NNmodel_altLR,learningrate=NNmodel_altLR()\r\n",
        "\r\n",
        "early_stop = EarlyStopping(monitor='val_loss', patience=10)\r\n",
        "history_altLR = NNmodel_altLR.fit( X_train, y_train, epochs=200, batch_size=10, validation_data=(X_test, y_test), verbose=2, callbacks=[early_stop] )\r\n"
      ],
      "execution_count": 28,
      "outputs": [
        {
          "output_type": "stream",
          "text": [
            "Epoch 1/200\n"
          ],
          "name": "stdout"
        },
        {
          "output_type": "error",
          "ename": "KeyboardInterrupt",
          "evalue": "ignored",
          "traceback": [
            "\u001b[0;31m---------------------------------------------------------------------------\u001b[0m",
            "\u001b[0;31mKeyboardInterrupt\u001b[0m                         Traceback (most recent call last)",
            "\u001b[0;32m<ipython-input-28-8e3b957cc213>\u001b[0m in \u001b[0;36m<module>\u001b[0;34m()\u001b[0m\n\u001b[1;32m     15\u001b[0m \u001b[0;34m\u001b[0m\u001b[0m\n\u001b[1;32m     16\u001b[0m \u001b[0mearly_stop\u001b[0m \u001b[0;34m=\u001b[0m \u001b[0mEarlyStopping\u001b[0m\u001b[0;34m(\u001b[0m\u001b[0mmonitor\u001b[0m\u001b[0;34m=\u001b[0m\u001b[0;34m'val_loss'\u001b[0m\u001b[0;34m,\u001b[0m \u001b[0mpatience\u001b[0m\u001b[0;34m=\u001b[0m\u001b[0;36m10\u001b[0m\u001b[0;34m)\u001b[0m\u001b[0;34m\u001b[0m\u001b[0;34m\u001b[0m\u001b[0m\n\u001b[0;32m---> 17\u001b[0;31m \u001b[0mhistory_altLR\u001b[0m \u001b[0;34m=\u001b[0m \u001b[0mNNmodel_altLR\u001b[0m\u001b[0;34m.\u001b[0m\u001b[0mfit\u001b[0m\u001b[0;34m(\u001b[0m \u001b[0mX_train\u001b[0m\u001b[0;34m,\u001b[0m \u001b[0my_train\u001b[0m\u001b[0;34m,\u001b[0m \u001b[0mepochs\u001b[0m\u001b[0;34m=\u001b[0m\u001b[0;36m200\u001b[0m\u001b[0;34m,\u001b[0m \u001b[0mbatch_size\u001b[0m\u001b[0;34m=\u001b[0m\u001b[0;36m10\u001b[0m\u001b[0;34m,\u001b[0m \u001b[0mvalidation_data\u001b[0m\u001b[0;34m=\u001b[0m\u001b[0;34m(\u001b[0m\u001b[0mX_test\u001b[0m\u001b[0;34m,\u001b[0m \u001b[0my_test\u001b[0m\u001b[0;34m)\u001b[0m\u001b[0;34m,\u001b[0m \u001b[0mverbose\u001b[0m\u001b[0;34m=\u001b[0m\u001b[0;36m2\u001b[0m\u001b[0;34m,\u001b[0m \u001b[0mcallbacks\u001b[0m\u001b[0;34m=\u001b[0m\u001b[0;34m[\u001b[0m\u001b[0mearly_stop\u001b[0m\u001b[0;34m]\u001b[0m \u001b[0;34m)\u001b[0m\u001b[0;34m\u001b[0m\u001b[0;34m\u001b[0m\u001b[0m\n\u001b[0m",
            "\u001b[0;32m/usr/local/lib/python3.6/dist-packages/tensorflow/python/keras/engine/training.py\u001b[0m in \u001b[0;36m_method_wrapper\u001b[0;34m(self, *args, **kwargs)\u001b[0m\n\u001b[1;32m     64\u001b[0m   \u001b[0;32mdef\u001b[0m \u001b[0m_method_wrapper\u001b[0m\u001b[0;34m(\u001b[0m\u001b[0mself\u001b[0m\u001b[0;34m,\u001b[0m \u001b[0;34m*\u001b[0m\u001b[0margs\u001b[0m\u001b[0;34m,\u001b[0m \u001b[0;34m**\u001b[0m\u001b[0mkwargs\u001b[0m\u001b[0;34m)\u001b[0m\u001b[0;34m:\u001b[0m\u001b[0;34m\u001b[0m\u001b[0;34m\u001b[0m\u001b[0m\n\u001b[1;32m     65\u001b[0m     \u001b[0;32mif\u001b[0m \u001b[0;32mnot\u001b[0m \u001b[0mself\u001b[0m\u001b[0;34m.\u001b[0m\u001b[0m_in_multi_worker_mode\u001b[0m\u001b[0;34m(\u001b[0m\u001b[0;34m)\u001b[0m\u001b[0;34m:\u001b[0m  \u001b[0;31m# pylint: disable=protected-access\u001b[0m\u001b[0;34m\u001b[0m\u001b[0;34m\u001b[0m\u001b[0m\n\u001b[0;32m---> 66\u001b[0;31m       \u001b[0;32mreturn\u001b[0m \u001b[0mmethod\u001b[0m\u001b[0;34m(\u001b[0m\u001b[0mself\u001b[0m\u001b[0;34m,\u001b[0m \u001b[0;34m*\u001b[0m\u001b[0margs\u001b[0m\u001b[0;34m,\u001b[0m \u001b[0;34m**\u001b[0m\u001b[0mkwargs\u001b[0m\u001b[0;34m)\u001b[0m\u001b[0;34m\u001b[0m\u001b[0;34m\u001b[0m\u001b[0m\n\u001b[0m\u001b[1;32m     67\u001b[0m \u001b[0;34m\u001b[0m\u001b[0m\n\u001b[1;32m     68\u001b[0m     \u001b[0;31m# Running inside `run_distribute_coordinator` already.\u001b[0m\u001b[0;34m\u001b[0m\u001b[0;34m\u001b[0m\u001b[0;34m\u001b[0m\u001b[0m\n",
            "\u001b[0;32m/usr/local/lib/python3.6/dist-packages/tensorflow/python/keras/engine/training.py\u001b[0m in \u001b[0;36mfit\u001b[0;34m(self, x, y, batch_size, epochs, verbose, callbacks, validation_split, validation_data, shuffle, class_weight, sample_weight, initial_epoch, steps_per_epoch, validation_steps, validation_batch_size, validation_freq, max_queue_size, workers, use_multiprocessing)\u001b[0m\n\u001b[1;32m    846\u001b[0m                 batch_size=batch_size):\n\u001b[1;32m    847\u001b[0m               \u001b[0mcallbacks\u001b[0m\u001b[0;34m.\u001b[0m\u001b[0mon_train_batch_begin\u001b[0m\u001b[0;34m(\u001b[0m\u001b[0mstep\u001b[0m\u001b[0;34m)\u001b[0m\u001b[0;34m\u001b[0m\u001b[0;34m\u001b[0m\u001b[0m\n\u001b[0;32m--> 848\u001b[0;31m               \u001b[0mtmp_logs\u001b[0m \u001b[0;34m=\u001b[0m \u001b[0mtrain_function\u001b[0m\u001b[0;34m(\u001b[0m\u001b[0miterator\u001b[0m\u001b[0;34m)\u001b[0m\u001b[0;34m\u001b[0m\u001b[0;34m\u001b[0m\u001b[0m\n\u001b[0m\u001b[1;32m    849\u001b[0m               \u001b[0;31m# Catch OutOfRangeError for Datasets of unknown size.\u001b[0m\u001b[0;34m\u001b[0m\u001b[0;34m\u001b[0m\u001b[0;34m\u001b[0m\u001b[0m\n\u001b[1;32m    850\u001b[0m               \u001b[0;31m# This blocks until the batch has finished executing.\u001b[0m\u001b[0;34m\u001b[0m\u001b[0;34m\u001b[0m\u001b[0;34m\u001b[0m\u001b[0m\n",
            "\u001b[0;32m/usr/local/lib/python3.6/dist-packages/tensorflow/python/eager/def_function.py\u001b[0m in \u001b[0;36m__call__\u001b[0;34m(self, *args, **kwds)\u001b[0m\n\u001b[1;32m    578\u001b[0m         \u001b[0mxla_context\u001b[0m\u001b[0;34m.\u001b[0m\u001b[0mExit\u001b[0m\u001b[0;34m(\u001b[0m\u001b[0;34m)\u001b[0m\u001b[0;34m\u001b[0m\u001b[0;34m\u001b[0m\u001b[0m\n\u001b[1;32m    579\u001b[0m     \u001b[0;32melse\u001b[0m\u001b[0;34m:\u001b[0m\u001b[0;34m\u001b[0m\u001b[0;34m\u001b[0m\u001b[0m\n\u001b[0;32m--> 580\u001b[0;31m       \u001b[0mresult\u001b[0m \u001b[0;34m=\u001b[0m \u001b[0mself\u001b[0m\u001b[0;34m.\u001b[0m\u001b[0m_call\u001b[0m\u001b[0;34m(\u001b[0m\u001b[0;34m*\u001b[0m\u001b[0margs\u001b[0m\u001b[0;34m,\u001b[0m \u001b[0;34m**\u001b[0m\u001b[0mkwds\u001b[0m\u001b[0;34m)\u001b[0m\u001b[0;34m\u001b[0m\u001b[0;34m\u001b[0m\u001b[0m\n\u001b[0m\u001b[1;32m    581\u001b[0m \u001b[0;34m\u001b[0m\u001b[0m\n\u001b[1;32m    582\u001b[0m     \u001b[0;32mif\u001b[0m \u001b[0mtracing_count\u001b[0m \u001b[0;34m==\u001b[0m \u001b[0mself\u001b[0m\u001b[0;34m.\u001b[0m\u001b[0m_get_tracing_count\u001b[0m\u001b[0;34m(\u001b[0m\u001b[0;34m)\u001b[0m\u001b[0;34m:\u001b[0m\u001b[0;34m\u001b[0m\u001b[0;34m\u001b[0m\u001b[0m\n",
            "\u001b[0;32m/usr/local/lib/python3.6/dist-packages/tensorflow/python/eager/def_function.py\u001b[0m in \u001b[0;36m_call\u001b[0;34m(self, *args, **kwds)\u001b[0m\n\u001b[1;32m    609\u001b[0m       \u001b[0;31m# In this case we have created variables on the first call, so we run the\u001b[0m\u001b[0;34m\u001b[0m\u001b[0;34m\u001b[0m\u001b[0;34m\u001b[0m\u001b[0m\n\u001b[1;32m    610\u001b[0m       \u001b[0;31m# defunned version which is guaranteed to never create variables.\u001b[0m\u001b[0;34m\u001b[0m\u001b[0;34m\u001b[0m\u001b[0;34m\u001b[0m\u001b[0m\n\u001b[0;32m--> 611\u001b[0;31m       \u001b[0;32mreturn\u001b[0m \u001b[0mself\u001b[0m\u001b[0;34m.\u001b[0m\u001b[0m_stateless_fn\u001b[0m\u001b[0;34m(\u001b[0m\u001b[0;34m*\u001b[0m\u001b[0margs\u001b[0m\u001b[0;34m,\u001b[0m \u001b[0;34m**\u001b[0m\u001b[0mkwds\u001b[0m\u001b[0;34m)\u001b[0m  \u001b[0;31m# pylint: disable=not-callable\u001b[0m\u001b[0;34m\u001b[0m\u001b[0;34m\u001b[0m\u001b[0m\n\u001b[0m\u001b[1;32m    612\u001b[0m     \u001b[0;32melif\u001b[0m \u001b[0mself\u001b[0m\u001b[0;34m.\u001b[0m\u001b[0m_stateful_fn\u001b[0m \u001b[0;32mis\u001b[0m \u001b[0;32mnot\u001b[0m \u001b[0;32mNone\u001b[0m\u001b[0;34m:\u001b[0m\u001b[0;34m\u001b[0m\u001b[0;34m\u001b[0m\u001b[0m\n\u001b[1;32m    613\u001b[0m       \u001b[0;31m# Release the lock early so that multiple threads can perform the call\u001b[0m\u001b[0;34m\u001b[0m\u001b[0;34m\u001b[0m\u001b[0;34m\u001b[0m\u001b[0m\n",
            "\u001b[0;32m/usr/local/lib/python3.6/dist-packages/tensorflow/python/eager/function.py\u001b[0m in \u001b[0;36m__call__\u001b[0;34m(self, *args, **kwargs)\u001b[0m\n\u001b[1;32m   2418\u001b[0m     \u001b[0;32mwith\u001b[0m \u001b[0mself\u001b[0m\u001b[0;34m.\u001b[0m\u001b[0m_lock\u001b[0m\u001b[0;34m:\u001b[0m\u001b[0;34m\u001b[0m\u001b[0;34m\u001b[0m\u001b[0m\n\u001b[1;32m   2419\u001b[0m       \u001b[0mgraph_function\u001b[0m\u001b[0;34m,\u001b[0m \u001b[0margs\u001b[0m\u001b[0;34m,\u001b[0m \u001b[0mkwargs\u001b[0m \u001b[0;34m=\u001b[0m \u001b[0mself\u001b[0m\u001b[0;34m.\u001b[0m\u001b[0m_maybe_define_function\u001b[0m\u001b[0;34m(\u001b[0m\u001b[0margs\u001b[0m\u001b[0;34m,\u001b[0m \u001b[0mkwargs\u001b[0m\u001b[0;34m)\u001b[0m\u001b[0;34m\u001b[0m\u001b[0;34m\u001b[0m\u001b[0m\n\u001b[0;32m-> 2420\u001b[0;31m     \u001b[0;32mreturn\u001b[0m \u001b[0mgraph_function\u001b[0m\u001b[0;34m.\u001b[0m\u001b[0m_filtered_call\u001b[0m\u001b[0;34m(\u001b[0m\u001b[0margs\u001b[0m\u001b[0;34m,\u001b[0m \u001b[0mkwargs\u001b[0m\u001b[0;34m)\u001b[0m  \u001b[0;31m# pylint: disable=protected-access\u001b[0m\u001b[0;34m\u001b[0m\u001b[0;34m\u001b[0m\u001b[0m\n\u001b[0m\u001b[1;32m   2421\u001b[0m \u001b[0;34m\u001b[0m\u001b[0m\n\u001b[1;32m   2422\u001b[0m   \u001b[0;34m@\u001b[0m\u001b[0mproperty\u001b[0m\u001b[0;34m\u001b[0m\u001b[0;34m\u001b[0m\u001b[0m\n",
            "\u001b[0;32m/usr/local/lib/python3.6/dist-packages/tensorflow/python/eager/function.py\u001b[0m in \u001b[0;36m_filtered_call\u001b[0;34m(self, args, kwargs)\u001b[0m\n\u001b[1;32m   1663\u001b[0m          if isinstance(t, (ops.Tensor,\n\u001b[1;32m   1664\u001b[0m                            resource_variable_ops.BaseResourceVariable))),\n\u001b[0;32m-> 1665\u001b[0;31m         self.captured_inputs)\n\u001b[0m\u001b[1;32m   1666\u001b[0m \u001b[0;34m\u001b[0m\u001b[0m\n\u001b[1;32m   1667\u001b[0m   \u001b[0;32mdef\u001b[0m \u001b[0m_call_flat\u001b[0m\u001b[0;34m(\u001b[0m\u001b[0mself\u001b[0m\u001b[0;34m,\u001b[0m \u001b[0margs\u001b[0m\u001b[0;34m,\u001b[0m \u001b[0mcaptured_inputs\u001b[0m\u001b[0;34m,\u001b[0m \u001b[0mcancellation_manager\u001b[0m\u001b[0;34m=\u001b[0m\u001b[0;32mNone\u001b[0m\u001b[0;34m)\u001b[0m\u001b[0;34m:\u001b[0m\u001b[0;34m\u001b[0m\u001b[0;34m\u001b[0m\u001b[0m\n",
            "\u001b[0;32m/usr/local/lib/python3.6/dist-packages/tensorflow/python/eager/function.py\u001b[0m in \u001b[0;36m_call_flat\u001b[0;34m(self, args, captured_inputs, cancellation_manager)\u001b[0m\n\u001b[1;32m   1744\u001b[0m       \u001b[0;31m# No tape is watching; skip to running the function.\u001b[0m\u001b[0;34m\u001b[0m\u001b[0;34m\u001b[0m\u001b[0;34m\u001b[0m\u001b[0m\n\u001b[1;32m   1745\u001b[0m       return self._build_call_outputs(self._inference_function.call(\n\u001b[0;32m-> 1746\u001b[0;31m           ctx, args, cancellation_manager=cancellation_manager))\n\u001b[0m\u001b[1;32m   1747\u001b[0m     forward_backward = self._select_forward_and_backward_functions(\n\u001b[1;32m   1748\u001b[0m         \u001b[0margs\u001b[0m\u001b[0;34m,\u001b[0m\u001b[0;34m\u001b[0m\u001b[0;34m\u001b[0m\u001b[0m\n",
            "\u001b[0;32m/usr/local/lib/python3.6/dist-packages/tensorflow/python/eager/function.py\u001b[0m in \u001b[0;36mcall\u001b[0;34m(self, ctx, args, cancellation_manager)\u001b[0m\n\u001b[1;32m    596\u001b[0m               \u001b[0minputs\u001b[0m\u001b[0;34m=\u001b[0m\u001b[0margs\u001b[0m\u001b[0;34m,\u001b[0m\u001b[0;34m\u001b[0m\u001b[0;34m\u001b[0m\u001b[0m\n\u001b[1;32m    597\u001b[0m               \u001b[0mattrs\u001b[0m\u001b[0;34m=\u001b[0m\u001b[0mattrs\u001b[0m\u001b[0;34m,\u001b[0m\u001b[0;34m\u001b[0m\u001b[0;34m\u001b[0m\u001b[0m\n\u001b[0;32m--> 598\u001b[0;31m               ctx=ctx)\n\u001b[0m\u001b[1;32m    599\u001b[0m         \u001b[0;32melse\u001b[0m\u001b[0;34m:\u001b[0m\u001b[0;34m\u001b[0m\u001b[0;34m\u001b[0m\u001b[0m\n\u001b[1;32m    600\u001b[0m           outputs = execute.execute_with_cancellation(\n",
            "\u001b[0;32m/usr/local/lib/python3.6/dist-packages/tensorflow/python/eager/execute.py\u001b[0m in \u001b[0;36mquick_execute\u001b[0;34m(op_name, num_outputs, inputs, attrs, ctx, name)\u001b[0m\n\u001b[1;32m     58\u001b[0m     \u001b[0mctx\u001b[0m\u001b[0;34m.\u001b[0m\u001b[0mensure_initialized\u001b[0m\u001b[0;34m(\u001b[0m\u001b[0;34m)\u001b[0m\u001b[0;34m\u001b[0m\u001b[0;34m\u001b[0m\u001b[0m\n\u001b[1;32m     59\u001b[0m     tensors = pywrap_tfe.TFE_Py_Execute(ctx._handle, device_name, op_name,\n\u001b[0;32m---> 60\u001b[0;31m                                         inputs, attrs, num_outputs)\n\u001b[0m\u001b[1;32m     61\u001b[0m   \u001b[0;32mexcept\u001b[0m \u001b[0mcore\u001b[0m\u001b[0;34m.\u001b[0m\u001b[0m_NotOkStatusException\u001b[0m \u001b[0;32mas\u001b[0m \u001b[0me\u001b[0m\u001b[0;34m:\u001b[0m\u001b[0;34m\u001b[0m\u001b[0;34m\u001b[0m\u001b[0m\n\u001b[1;32m     62\u001b[0m     \u001b[0;32mif\u001b[0m \u001b[0mname\u001b[0m \u001b[0;32mis\u001b[0m \u001b[0;32mnot\u001b[0m \u001b[0;32mNone\u001b[0m\u001b[0;34m:\u001b[0m\u001b[0;34m\u001b[0m\u001b[0;34m\u001b[0m\u001b[0m\n",
            "\u001b[0;31mKeyboardInterrupt\u001b[0m: "
          ]
        }
      ]
    },
    {
      "cell_type": "code",
      "metadata": {
        "colab": {
          "base_uri": "https://localhost:8080/",
          "height": 494
        },
        "id": "9nyCSdqJuF2B",
        "outputId": "746f762e-52cb-4d2a-9e43-0ad67dd67d01"
      },
      "source": [
        "plt.plot(history.history['loss'],label='loss (nominal LR)',color='r')\r\n",
        "plt.plot(history_altLR.history['loss'],label='loss (LR={})'.format(learningrate))\r\n",
        "plt.xlabel('epoch')\r\n",
        "plt.ylabel('Training loss')\r\n",
        "plt.legend()"
      ],
      "execution_count": 29,
      "outputs": [
        {
          "output_type": "error",
          "ename": "NameError",
          "evalue": "ignored",
          "traceback": [
            "\u001b[0;31m---------------------------------------------------------------------------\u001b[0m",
            "\u001b[0;31mNameError\u001b[0m                                 Traceback (most recent call last)",
            "\u001b[0;32m<ipython-input-29-2014eb688233>\u001b[0m in \u001b[0;36m<module>\u001b[0;34m()\u001b[0m\n\u001b[1;32m      1\u001b[0m \u001b[0mplt\u001b[0m\u001b[0;34m.\u001b[0m\u001b[0mplot\u001b[0m\u001b[0;34m(\u001b[0m\u001b[0mhistory\u001b[0m\u001b[0;34m.\u001b[0m\u001b[0mhistory\u001b[0m\u001b[0;34m[\u001b[0m\u001b[0;34m'loss'\u001b[0m\u001b[0;34m]\u001b[0m\u001b[0;34m,\u001b[0m\u001b[0mlabel\u001b[0m\u001b[0;34m=\u001b[0m\u001b[0;34m'loss (nominal LR)'\u001b[0m\u001b[0;34m,\u001b[0m\u001b[0mcolor\u001b[0m\u001b[0;34m=\u001b[0m\u001b[0;34m'r'\u001b[0m\u001b[0;34m)\u001b[0m\u001b[0;34m\u001b[0m\u001b[0;34m\u001b[0m\u001b[0m\n\u001b[0;32m----> 2\u001b[0;31m \u001b[0mplt\u001b[0m\u001b[0;34m.\u001b[0m\u001b[0mplot\u001b[0m\u001b[0;34m(\u001b[0m\u001b[0mhistory_altLR\u001b[0m\u001b[0;34m.\u001b[0m\u001b[0mhistory\u001b[0m\u001b[0;34m[\u001b[0m\u001b[0;34m'loss'\u001b[0m\u001b[0;34m]\u001b[0m\u001b[0;34m,\u001b[0m\u001b[0mlabel\u001b[0m\u001b[0;34m=\u001b[0m\u001b[0;34m'loss (LR={})'\u001b[0m\u001b[0;34m.\u001b[0m\u001b[0mformat\u001b[0m\u001b[0;34m(\u001b[0m\u001b[0mlearningrate\u001b[0m\u001b[0;34m)\u001b[0m\u001b[0;34m)\u001b[0m\u001b[0;34m\u001b[0m\u001b[0;34m\u001b[0m\u001b[0m\n\u001b[0m\u001b[1;32m      3\u001b[0m \u001b[0mplt\u001b[0m\u001b[0;34m.\u001b[0m\u001b[0mxlabel\u001b[0m\u001b[0;34m(\u001b[0m\u001b[0;34m'epoch'\u001b[0m\u001b[0;34m)\u001b[0m\u001b[0;34m\u001b[0m\u001b[0;34m\u001b[0m\u001b[0m\n\u001b[1;32m      4\u001b[0m \u001b[0mplt\u001b[0m\u001b[0;34m.\u001b[0m\u001b[0mylabel\u001b[0m\u001b[0;34m(\u001b[0m\u001b[0;34m'Training loss'\u001b[0m\u001b[0;34m)\u001b[0m\u001b[0;34m\u001b[0m\u001b[0;34m\u001b[0m\u001b[0m\n\u001b[1;32m      5\u001b[0m \u001b[0mplt\u001b[0m\u001b[0;34m.\u001b[0m\u001b[0mlegend\u001b[0m\u001b[0;34m(\u001b[0m\u001b[0;34m)\u001b[0m\u001b[0;34m\u001b[0m\u001b[0;34m\u001b[0m\u001b[0m\n",
            "\u001b[0;31mNameError\u001b[0m: name 'history_altLR' is not defined"
          ]
        },
        {
          "output_type": "display_data",
          "data": {
            "image/png": "[encoded data removed]",
            "text/plain": [
              "<Figure size 432x288 with 1 Axes>"
            ]
          },
          "metadata": {
            "tags": [],
            "needs_background": "light"
          }
        }
      ]
    },
    {
      "cell_type": "code",
      "metadata": {
        "colab": {
          "base_uri": "https://localhost:8080/",
          "height": 262
        },
        "id": "KwGTuOAcuH0U",
        "outputId": "13c437c8-0171-4dce-e1dc-12f83dda8baf"
      },
      "source": [
        "plt.plot(history_altLR.history[\"accuracy\"],label='accuracy (LR={})'.format(learningrate),color='b')\r\n",
        "plt.plot(history.history['accuracy'],label='accuracy (nominal LR)',color='r')\r\n",
        "plt.xlabel('epoch')\r\n",
        "plt.ylabel('Accuracy')\r\n",
        "plt.legend()"
      ],
      "execution_count": 30,
      "outputs": [
        {
          "output_type": "error",
          "ename": "NameError",
          "evalue": "ignored",
          "traceback": [
            "\u001b[0;31m---------------------------------------------------------------------------\u001b[0m",
            "\u001b[0;31mNameError\u001b[0m                                 Traceback (most recent call last)",
            "\u001b[0;32m<ipython-input-30-3cc4bdc46923>\u001b[0m in \u001b[0;36m<module>\u001b[0;34m()\u001b[0m\n\u001b[0;32m----> 1\u001b[0;31m \u001b[0mplt\u001b[0m\u001b[0;34m.\u001b[0m\u001b[0mplot\u001b[0m\u001b[0;34m(\u001b[0m\u001b[0mhistory_altLR\u001b[0m\u001b[0;34m.\u001b[0m\u001b[0mhistory\u001b[0m\u001b[0;34m[\u001b[0m\u001b[0;34m\"accuracy\"\u001b[0m\u001b[0;34m]\u001b[0m\u001b[0;34m,\u001b[0m\u001b[0mlabel\u001b[0m\u001b[0;34m=\u001b[0m\u001b[0;34m'accuracy (LR={})'\u001b[0m\u001b[0;34m.\u001b[0m\u001b[0mformat\u001b[0m\u001b[0;34m(\u001b[0m\u001b[0mlearningrate\u001b[0m\u001b[0;34m)\u001b[0m\u001b[0;34m,\u001b[0m\u001b[0mcolor\u001b[0m\u001b[0;34m=\u001b[0m\u001b[0;34m'b'\u001b[0m\u001b[0;34m)\u001b[0m\u001b[0;34m\u001b[0m\u001b[0;34m\u001b[0m\u001b[0m\n\u001b[0m\u001b[1;32m      2\u001b[0m \u001b[0mplt\u001b[0m\u001b[0;34m.\u001b[0m\u001b[0mplot\u001b[0m\u001b[0;34m(\u001b[0m\u001b[0mhistory\u001b[0m\u001b[0;34m.\u001b[0m\u001b[0mhistory\u001b[0m\u001b[0;34m[\u001b[0m\u001b[0;34m'accuracy'\u001b[0m\u001b[0;34m]\u001b[0m\u001b[0;34m,\u001b[0m\u001b[0mlabel\u001b[0m\u001b[0;34m=\u001b[0m\u001b[0;34m'accuracy (nominal LR)'\u001b[0m\u001b[0;34m,\u001b[0m\u001b[0mcolor\u001b[0m\u001b[0;34m=\u001b[0m\u001b[0;34m'r'\u001b[0m\u001b[0;34m)\u001b[0m\u001b[0;34m\u001b[0m\u001b[0;34m\u001b[0m\u001b[0m\n\u001b[1;32m      3\u001b[0m \u001b[0mplt\u001b[0m\u001b[0;34m.\u001b[0m\u001b[0mxlabel\u001b[0m\u001b[0;34m(\u001b[0m\u001b[0;34m'epoch'\u001b[0m\u001b[0;34m)\u001b[0m\u001b[0;34m\u001b[0m\u001b[0;34m\u001b[0m\u001b[0m\n\u001b[1;32m      4\u001b[0m \u001b[0mplt\u001b[0m\u001b[0;34m.\u001b[0m\u001b[0mylabel\u001b[0m\u001b[0;34m(\u001b[0m\u001b[0;34m'Accuracy'\u001b[0m\u001b[0;34m)\u001b[0m\u001b[0;34m\u001b[0m\u001b[0;34m\u001b[0m\u001b[0m\n\u001b[1;32m      5\u001b[0m \u001b[0mplt\u001b[0m\u001b[0;34m.\u001b[0m\u001b[0mlegend\u001b[0m\u001b[0;34m(\u001b[0m\u001b[0;34m)\u001b[0m\u001b[0;34m\u001b[0m\u001b[0;34m\u001b[0m\u001b[0m\n",
            "\u001b[0;31mNameError\u001b[0m: name 'history_altLR' is not defined"
          ]
        }
      ]
    },
    {
      "cell_type": "markdown",
      "metadata": {
        "id": "iX6XQouebRLQ"
      },
      "source": [
        "#### Details of the activation function"
      ]
    },
    {
      "cell_type": "markdown",
      "metadata": {
        "id": "CNfE6b5QtUFK"
      },
      "source": [
        "Activation functions\r\n",
        "For each neuron, the output it makes will be of the form Sum(Weight * x) + bias. But, how does one convert this into a more \"binary\" yes or no statement? So in essence this becomes a function\r\n",
        "Y=f(∑wi∗xi+b). \r\n",
        "An initial guess would be a step function (where a neuron was either on/off only). But, this becomes problematic when you have several nodes in a network making decisions. A continuum solution is better, so that \"on/off\" is replaced with \"90% on\" etc. This is the role of the activation function, and there are several available. Generally the behaviour that is desired is that it is continuous (or at least piecewise continuous) and piecewise differentiable.\r\n",
        "\r\n",
        "Typically activation functions are plotted on the range [-1,1], and we will discuss a few of these.\r\n",
        "\r\n",
        "One of the simplest classes of activation function is the linear function  Y=cx  (c non-zero, real), but in such a case, a network consisting of N layers with such a function can be compressed into a single layer with a different constant defined in the activation function. In order to investigate a network with a non-reducible structure, a\r\n",
        "\r\n",
        "A more useful case to binary classification (which has a similar behaviour to the step function) is the sigmoid, defined as:\r\n",
        "\r\n",
        "Y=sigmoid(x)=11+exp(−x) \r\n",
        "However, the primary issue of the sigmoid function is that for large values of x, the gradient of the activation function is small, which means that the neurons will learn slowly (since the learning process involves minimisation) for large values of x, which is not ideal.\r\n",
        "\r\n",
        "An alternative to the sigmoid is the tanh(x) function defined on range [-1,1].\r\n",
        "\r\n",
        "Y=tanh(x) \r\n",
        "\r\n",
        "which is purely a re-scaled sigmoid, when one considers the hyperbolic identity\r\n",
        "tanh(u)=2 sigmoid(2u)−1 \r\n",
        "This function is steeper than the sigmoid across its range of definition, which may improve the speed of learning.\r\n",
        "\r\n",
        "Instead of using the linear activation function, another popular choice of activation function is what is known as \"Rectified Linear Units\" (ReLU), namely the function:\r\n",
        "Y=max(0,x). \r\n",
        "Since for nodes with  x<0 , the neuron is not activated (and is effectively discarded), it can greatly reduce computational time by only activating a small subset of nodes (this behaviour is known as sparse activation).\r\n",
        "\r\n",
        "However, for nodes with  x<0 , these nodes are effectively \"dead\" and weights associated to these nodes cannot be updated/cannot \"learn\".\r\n",
        "\r\n",
        "Some attempts to rectify this include leaky ReLU(RelU), typically defined as:\r\n",
        "Y=max(ax,x),a=0.01 \r\n",
        "and exponential linear units (see https://arxiv.org/pdf/1511.07289.pdf)\r\n",
        "\r\n",
        "We will now plot some of these activation functions."
      ]
    },
    {
      "cell_type": "code",
      "metadata": {
        "colab": {
          "base_uri": "https://localhost:8080/",
          "height": 279
        },
        "id": "SW99LwAktToy",
        "outputId": "163468dc-e02f-4900-e1a2-70a24ce0e290"
      },
      "source": [
        "# typically these will be in tensorflow libraries by default\r\n",
        "import numpy as np\r\n",
        "def sigmoid(x):\r\n",
        "  sigmoid=1/(1+np.exp(-x))\r\n",
        "  return sigmoid\r\n",
        "\r\n",
        "def ReLU(x):\r\n",
        "  if(x>0):\r\n",
        "    return x\r\n",
        "  else:\r\n",
        "    return 0\r\n",
        "\r\n",
        "\r\n",
        "def LeakyReLU(x):\r\n",
        "  if(x>0):\r\n",
        "    return x\r\n",
        "  else:\r\n",
        "    return 0.05*x # effect exaggerated for plot\r\n",
        "\r\n",
        "def PlotActivations():\r\n",
        "  #function to show the activation functions discussed above\r\n",
        "  \r\n",
        "  import matplotlib.pyplot as plt\r\n",
        "  range_array=np.arange(-10.0,10.0,0.01)\r\n",
        "  y_sigmoid=[]\r\n",
        "  y_tanh=[]\r\n",
        "  y_RelU=[]\r\n",
        "  y_LRelU=[]\r\n",
        "  for x in range_array:\r\n",
        "    y_sigmoid.append(sigmoid(x))\r\n",
        "    y_tanh.append(np.tanh(x))\r\n",
        "    y_RelU.append(ReLU(x))\r\n",
        "    y_LRelU.append(LeakyReLU(x))\r\n",
        "\r\n",
        "  plt.plot(range_array,y_sigmoid,color='r',label=\"sigmoid\")\r\n",
        "  plt.plot(range_array,y_tanh,color='b',label='tanh')\r\n",
        "  plt.plot(range_array,y_RelU,color='k',label='relu')\r\n",
        "  plt.plot(range_array,y_LRelU,color='g',label=\"leaky relu\")\r\n",
        "  plt.xlabel('x')\r\n",
        "  plt.ylabel('Y')\r\n",
        "  plt.legend()\r\n",
        "  return\r\n",
        "PlotActivations()"
      ],
      "execution_count": 26,
      "outputs": [
        {
          "output_type": "display_data",
          "data": {
            "image/png": "[encoded data removed]",
            "text/plain": [
              "<Figure size 432x288 with 1 Axes>"
            ]
          },
          "metadata": {
            "tags": [],
            "needs_background": "light"
          }
        }
      ]
    },
    {
      "cell_type": "markdown",
      "metadata": {
        "id": "nX-jDAtQtcDE"
      },
      "source": [
        "Now, we try a different NN configuration to the one we chose before: Replace the activation function for each node in the hidden layers with a sigmoid.\r\n",
        "\r\n",
        "Tensorflow (Keras) has several of these activation functions as built-in modules configured by string. The list of available pre-made functions can be found here https://www.tensorflow.org/api_docs/python/tf/keras/activations\r\n",
        "\r\n"
      ]
    },
    {
      "cell_type": "code",
      "metadata": {
        "colab": {
          "base_uri": "https://localhost:8080/",
          "height": 458
        },
        "id": "xVHXG4bwbiS-",
        "outputId": "1731489e-f4f6-4ca1-9089-6513b60aa203"
      },
      "source": [
        "def NNmodel_sigmoid(activation_function=\"sigmoid\"):\r\n",
        "  model = Sequential()\r\n",
        "  model.add(Dense(8, input_dim=X_train.shape[1], activation='relu', name='layer_1')) # input layer\r\n",
        "  model.add(Dense(10, activation=activation_function, name='layer_2'))\r\n",
        "  model.add(Dense(10, activation=activation_function, name='layer_3'))\r\n",
        "  model.add(Dense(1, activation='sigmoid', name='output_layer')) # \r\n",
        "  model.compile(loss='binary_crossentropy', optimizer='adam',metrics=['accuracy'])\r\n",
        "  return model\r\n",
        "\r\n",
        "model_sigmoid=NNmodel_sigmoid()\r\n",
        "early_stop = EarlyStopping(monitor='val_loss', patience=10)\r\n",
        "history_sigmoid = model_sigmoid.fit( X_train, y_train, epochs=200, batch_size=10, validation_data=(X_test, y_test), verbose=2, callbacks=[early_stop] )"
      ],
      "execution_count": 27,
      "outputs": [
        {
          "output_type": "stream",
          "text": [
            "Epoch 1/200\n",
            "1695/1695 - 3s - loss: 0.3900 - accuracy: 0.8421 - val_loss: 0.2562 - val_accuracy: 0.9084\n",
            "Epoch 2/200\n"
          ],
          "name": "stdout"
        },
        {
          "output_type": "error",
          "ename": "KeyboardInterrupt",
          "evalue": "ignored",
          "traceback": [
            "\u001b[0;31m---------------------------------------------------------------------------\u001b[0m",
            "\u001b[0;31mKeyboardInterrupt\u001b[0m                         Traceback (most recent call last)",
            "\u001b[0;32m<ipython-input-27-85fdd23a79de>\u001b[0m in \u001b[0;36m<module>\u001b[0;34m()\u001b[0m\n\u001b[1;32m     10\u001b[0m \u001b[0mmodel_sigmoid\u001b[0m\u001b[0;34m=\u001b[0m\u001b[0mNNmodel_sigmoid\u001b[0m\u001b[0;34m(\u001b[0m\u001b[0;34m)\u001b[0m\u001b[0;34m\u001b[0m\u001b[0;34m\u001b[0m\u001b[0m\n\u001b[1;32m     11\u001b[0m \u001b[0mearly_stop\u001b[0m \u001b[0;34m=\u001b[0m \u001b[0mEarlyStopping\u001b[0m\u001b[0;34m(\u001b[0m\u001b[0mmonitor\u001b[0m\u001b[0;34m=\u001b[0m\u001b[0;34m'val_loss'\u001b[0m\u001b[0;34m,\u001b[0m \u001b[0mpatience\u001b[0m\u001b[0;34m=\u001b[0m\u001b[0;36m10\u001b[0m\u001b[0;34m)\u001b[0m\u001b[0;34m\u001b[0m\u001b[0;34m\u001b[0m\u001b[0m\n\u001b[0;32m---> 12\u001b[0;31m \u001b[0mhistory_sigmoid\u001b[0m \u001b[0;34m=\u001b[0m \u001b[0mmodel_sigmoid\u001b[0m\u001b[0;34m.\u001b[0m\u001b[0mfit\u001b[0m\u001b[0;34m(\u001b[0m \u001b[0mX_train\u001b[0m\u001b[0;34m,\u001b[0m \u001b[0my_train\u001b[0m\u001b[0;34m,\u001b[0m \u001b[0mepochs\u001b[0m\u001b[0;34m=\u001b[0m\u001b[0;36m200\u001b[0m\u001b[0;34m,\u001b[0m \u001b[0mbatch_size\u001b[0m\u001b[0;34m=\u001b[0m\u001b[0;36m10\u001b[0m\u001b[0;34m,\u001b[0m \u001b[0mvalidation_data\u001b[0m\u001b[0;34m=\u001b[0m\u001b[0;34m(\u001b[0m\u001b[0mX_test\u001b[0m\u001b[0;34m,\u001b[0m \u001b[0my_test\u001b[0m\u001b[0;34m)\u001b[0m\u001b[0;34m,\u001b[0m \u001b[0mverbose\u001b[0m\u001b[0;34m=\u001b[0m\u001b[0;36m2\u001b[0m\u001b[0;34m,\u001b[0m \u001b[0mcallbacks\u001b[0m\u001b[0;34m=\u001b[0m\u001b[0;34m[\u001b[0m\u001b[0mearly_stop\u001b[0m\u001b[0;34m]\u001b[0m \u001b[0;34m)\u001b[0m\u001b[0;34m\u001b[0m\u001b[0;34m\u001b[0m\u001b[0m\n\u001b[0m",
            "\u001b[0;32m/usr/local/lib/python3.6/dist-packages/tensorflow/python/keras/engine/training.py\u001b[0m in \u001b[0;36m_method_wrapper\u001b[0;34m(self, *args, **kwargs)\u001b[0m\n\u001b[1;32m     64\u001b[0m   \u001b[0;32mdef\u001b[0m \u001b[0m_method_wrapper\u001b[0m\u001b[0;34m(\u001b[0m\u001b[0mself\u001b[0m\u001b[0;34m,\u001b[0m \u001b[0;34m*\u001b[0m\u001b[0margs\u001b[0m\u001b[0;34m,\u001b[0m \u001b[0;34m**\u001b[0m\u001b[0mkwargs\u001b[0m\u001b[0;34m)\u001b[0m\u001b[0;34m:\u001b[0m\u001b[0;34m\u001b[0m\u001b[0;34m\u001b[0m\u001b[0m\n\u001b[1;32m     65\u001b[0m     \u001b[0;32mif\u001b[0m \u001b[0;32mnot\u001b[0m \u001b[0mself\u001b[0m\u001b[0;34m.\u001b[0m\u001b[0m_in_multi_worker_mode\u001b[0m\u001b[0;34m(\u001b[0m\u001b[0;34m)\u001b[0m\u001b[0;34m:\u001b[0m  \u001b[0;31m# pylint: disable=protected-access\u001b[0m\u001b[0;34m\u001b[0m\u001b[0;34m\u001b[0m\u001b[0m\n\u001b[0;32m---> 66\u001b[0;31m       \u001b[0;32mreturn\u001b[0m \u001b[0mmethod\u001b[0m\u001b[0;34m(\u001b[0m\u001b[0mself\u001b[0m\u001b[0;34m,\u001b[0m \u001b[0;34m*\u001b[0m\u001b[0margs\u001b[0m\u001b[0;34m,\u001b[0m \u001b[0;34m**\u001b[0m\u001b[0mkwargs\u001b[0m\u001b[0;34m)\u001b[0m\u001b[0;34m\u001b[0m\u001b[0;34m\u001b[0m\u001b[0m\n\u001b[0m\u001b[1;32m     67\u001b[0m \u001b[0;34m\u001b[0m\u001b[0m\n\u001b[1;32m     68\u001b[0m     \u001b[0;31m# Running inside `run_distribute_coordinator` already.\u001b[0m\u001b[0;34m\u001b[0m\u001b[0;34m\u001b[0m\u001b[0;34m\u001b[0m\u001b[0m\n",
            "\u001b[0;32m/usr/local/lib/python3.6/dist-packages/tensorflow/python/keras/engine/training.py\u001b[0m in \u001b[0;36mfit\u001b[0;34m(self, x, y, batch_size, epochs, verbose, callbacks, validation_split, validation_data, shuffle, class_weight, sample_weight, initial_epoch, steps_per_epoch, validation_steps, validation_batch_size, validation_freq, max_queue_size, workers, use_multiprocessing)\u001b[0m\n\u001b[1;32m    853\u001b[0m                 \u001b[0mcontext\u001b[0m\u001b[0;34m.\u001b[0m\u001b[0masync_wait\u001b[0m\u001b[0;34m(\u001b[0m\u001b[0;34m)\u001b[0m\u001b[0;34m\u001b[0m\u001b[0;34m\u001b[0m\u001b[0m\n\u001b[1;32m    854\u001b[0m               \u001b[0mlogs\u001b[0m \u001b[0;34m=\u001b[0m \u001b[0mtmp_logs\u001b[0m  \u001b[0;31m# No error, now safe to assign to logs.\u001b[0m\u001b[0;34m\u001b[0m\u001b[0;34m\u001b[0m\u001b[0m\n\u001b[0;32m--> 855\u001b[0;31m               \u001b[0mcallbacks\u001b[0m\u001b[0;34m.\u001b[0m\u001b[0mon_train_batch_end\u001b[0m\u001b[0;34m(\u001b[0m\u001b[0mstep\u001b[0m\u001b[0;34m,\u001b[0m \u001b[0mlogs\u001b[0m\u001b[0;34m)\u001b[0m\u001b[0;34m\u001b[0m\u001b[0;34m\u001b[0m\u001b[0m\n\u001b[0m\u001b[1;32m    856\u001b[0m         \u001b[0mepoch_logs\u001b[0m \u001b[0;34m=\u001b[0m \u001b[0mcopy\u001b[0m\u001b[0;34m.\u001b[0m\u001b[0mcopy\u001b[0m\u001b[0;34m(\u001b[0m\u001b[0mlogs\u001b[0m\u001b[0;34m)\u001b[0m\u001b[0;34m\u001b[0m\u001b[0;34m\u001b[0m\u001b[0m\n\u001b[1;32m    857\u001b[0m \u001b[0;34m\u001b[0m\u001b[0m\n",
            "\u001b[0;32m/usr/local/lib/python3.6/dist-packages/tensorflow/python/keras/callbacks.py\u001b[0m in \u001b[0;36mon_train_batch_end\u001b[0;34m(self, batch, logs)\u001b[0m\n\u001b[1;32m    387\u001b[0m     \"\"\"\n\u001b[1;32m    388\u001b[0m     \u001b[0;32mif\u001b[0m \u001b[0mself\u001b[0m\u001b[0;34m.\u001b[0m\u001b[0m_should_call_train_batch_hooks\u001b[0m\u001b[0;34m:\u001b[0m\u001b[0;34m\u001b[0m\u001b[0;34m\u001b[0m\u001b[0m\n\u001b[0;32m--> 389\u001b[0;31m       \u001b[0mlogs\u001b[0m \u001b[0;34m=\u001b[0m \u001b[0mself\u001b[0m\u001b[0;34m.\u001b[0m\u001b[0m_process_logs\u001b[0m\u001b[0;34m(\u001b[0m\u001b[0mlogs\u001b[0m\u001b[0;34m)\u001b[0m\u001b[0;34m\u001b[0m\u001b[0;34m\u001b[0m\u001b[0m\n\u001b[0m\u001b[1;32m    390\u001b[0m       \u001b[0mself\u001b[0m\u001b[0;34m.\u001b[0m\u001b[0m_call_batch_hook\u001b[0m\u001b[0;34m(\u001b[0m\u001b[0mModeKeys\u001b[0m\u001b[0;34m.\u001b[0m\u001b[0mTRAIN\u001b[0m\u001b[0;34m,\u001b[0m \u001b[0;34m'end'\u001b[0m\u001b[0;34m,\u001b[0m \u001b[0mbatch\u001b[0m\u001b[0;34m,\u001b[0m \u001b[0mlogs\u001b[0m\u001b[0;34m=\u001b[0m\u001b[0mlogs\u001b[0m\u001b[0;34m)\u001b[0m\u001b[0;34m\u001b[0m\u001b[0;34m\u001b[0m\u001b[0m\n\u001b[1;32m    391\u001b[0m \u001b[0;34m\u001b[0m\u001b[0m\n",
            "\u001b[0;32m/usr/local/lib/python3.6/dist-packages/tensorflow/python/keras/callbacks.py\u001b[0m in \u001b[0;36m_process_logs\u001b[0;34m(self, logs)\u001b[0m\n\u001b[1;32m    263\u001b[0m     \u001b[0;34m\"\"\"Turns tensors into numpy arrays or Python scalars.\"\"\"\u001b[0m\u001b[0;34m\u001b[0m\u001b[0;34m\u001b[0m\u001b[0m\n\u001b[1;32m    264\u001b[0m     \u001b[0;32mif\u001b[0m \u001b[0mlogs\u001b[0m\u001b[0;34m:\u001b[0m\u001b[0;34m\u001b[0m\u001b[0;34m\u001b[0m\u001b[0m\n\u001b[0;32m--> 265\u001b[0;31m       \u001b[0;32mreturn\u001b[0m \u001b[0mtf_utils\u001b[0m\u001b[0;34m.\u001b[0m\u001b[0mto_numpy_or_python_type\u001b[0m\u001b[0;34m(\u001b[0m\u001b[0mlogs\u001b[0m\u001b[0;34m)\u001b[0m\u001b[0;34m\u001b[0m\u001b[0;34m\u001b[0m\u001b[0m\n\u001b[0m\u001b[1;32m    266\u001b[0m     \u001b[0;32mreturn\u001b[0m \u001b[0;34m{\u001b[0m\u001b[0;34m}\u001b[0m\u001b[0;34m\u001b[0m\u001b[0;34m\u001b[0m\u001b[0m\n\u001b[1;32m    267\u001b[0m \u001b[0;34m\u001b[0m\u001b[0m\n",
            "\u001b[0;32m/usr/local/lib/python3.6/dist-packages/tensorflow/python/keras/utils/tf_utils.py\u001b[0m in \u001b[0;36mto_numpy_or_python_type\u001b[0;34m(tensors)\u001b[0m\n\u001b[1;32m    521\u001b[0m     \u001b[0;32mreturn\u001b[0m \u001b[0mt\u001b[0m  \u001b[0;31m# Don't turn ragged or sparse tensors to NumPy.\u001b[0m\u001b[0;34m\u001b[0m\u001b[0;34m\u001b[0m\u001b[0m\n\u001b[1;32m    522\u001b[0m \u001b[0;34m\u001b[0m\u001b[0m\n\u001b[0;32m--> 523\u001b[0;31m   \u001b[0;32mreturn\u001b[0m \u001b[0mnest\u001b[0m\u001b[0;34m.\u001b[0m\u001b[0mmap_structure\u001b[0m\u001b[0;34m(\u001b[0m\u001b[0m_to_single_numpy_or_python_type\u001b[0m\u001b[0;34m,\u001b[0m \u001b[0mtensors\u001b[0m\u001b[0;34m)\u001b[0m\u001b[0;34m\u001b[0m\u001b[0;34m\u001b[0m\u001b[0m\n\u001b[0m\u001b[1;32m    524\u001b[0m \u001b[0;34m\u001b[0m\u001b[0m\n",
            "\u001b[0;32m/usr/local/lib/python3.6/dist-packages/tensorflow/python/util/nest.py\u001b[0m in \u001b[0;36mmap_structure\u001b[0;34m(func, *structure, **kwargs)\u001b[0m\n\u001b[1;32m    615\u001b[0m \u001b[0;34m\u001b[0m\u001b[0m\n\u001b[1;32m    616\u001b[0m   return pack_sequence_as(\n\u001b[0;32m--> 617\u001b[0;31m       \u001b[0mstructure\u001b[0m\u001b[0;34m[\u001b[0m\u001b[0;36m0\u001b[0m\u001b[0;34m]\u001b[0m\u001b[0;34m,\u001b[0m \u001b[0;34m[\u001b[0m\u001b[0mfunc\u001b[0m\u001b[0;34m(\u001b[0m\u001b[0;34m*\u001b[0m\u001b[0mx\u001b[0m\u001b[0;34m)\u001b[0m \u001b[0;32mfor\u001b[0m \u001b[0mx\u001b[0m \u001b[0;32min\u001b[0m \u001b[0mentries\u001b[0m\u001b[0;34m]\u001b[0m\u001b[0;34m,\u001b[0m\u001b[0;34m\u001b[0m\u001b[0;34m\u001b[0m\u001b[0m\n\u001b[0m\u001b[1;32m    618\u001b[0m       expand_composites=expand_composites)\n\u001b[1;32m    619\u001b[0m \u001b[0;34m\u001b[0m\u001b[0m\n",
            "\u001b[0;32m/usr/local/lib/python3.6/dist-packages/tensorflow/python/util/nest.py\u001b[0m in \u001b[0;36m<listcomp>\u001b[0;34m(.0)\u001b[0m\n\u001b[1;32m    615\u001b[0m \u001b[0;34m\u001b[0m\u001b[0m\n\u001b[1;32m    616\u001b[0m   return pack_sequence_as(\n\u001b[0;32m--> 617\u001b[0;31m       \u001b[0mstructure\u001b[0m\u001b[0;34m[\u001b[0m\u001b[0;36m0\u001b[0m\u001b[0;34m]\u001b[0m\u001b[0;34m,\u001b[0m \u001b[0;34m[\u001b[0m\u001b[0mfunc\u001b[0m\u001b[0;34m(\u001b[0m\u001b[0;34m*\u001b[0m\u001b[0mx\u001b[0m\u001b[0;34m)\u001b[0m \u001b[0;32mfor\u001b[0m \u001b[0mx\u001b[0m \u001b[0;32min\u001b[0m \u001b[0mentries\u001b[0m\u001b[0;34m]\u001b[0m\u001b[0;34m,\u001b[0m\u001b[0;34m\u001b[0m\u001b[0;34m\u001b[0m\u001b[0m\n\u001b[0m\u001b[1;32m    618\u001b[0m       expand_composites=expand_composites)\n\u001b[1;32m    619\u001b[0m \u001b[0;34m\u001b[0m\u001b[0m\n",
            "\u001b[0;32m/usr/local/lib/python3.6/dist-packages/tensorflow/python/keras/utils/tf_utils.py\u001b[0m in \u001b[0;36m_to_single_numpy_or_python_type\u001b[0;34m(t)\u001b[0m\n\u001b[1;32m    517\u001b[0m   \u001b[0;32mdef\u001b[0m \u001b[0m_to_single_numpy_or_python_type\u001b[0m\u001b[0;34m(\u001b[0m\u001b[0mt\u001b[0m\u001b[0;34m)\u001b[0m\u001b[0;34m:\u001b[0m\u001b[0;34m\u001b[0m\u001b[0;34m\u001b[0m\u001b[0m\n\u001b[1;32m    518\u001b[0m     \u001b[0;32mif\u001b[0m \u001b[0misinstance\u001b[0m\u001b[0;34m(\u001b[0m\u001b[0mt\u001b[0m\u001b[0;34m,\u001b[0m \u001b[0mops\u001b[0m\u001b[0;34m.\u001b[0m\u001b[0mTensor\u001b[0m\u001b[0;34m)\u001b[0m\u001b[0;34m:\u001b[0m\u001b[0;34m\u001b[0m\u001b[0;34m\u001b[0m\u001b[0m\n\u001b[0;32m--> 519\u001b[0;31m       \u001b[0mx\u001b[0m \u001b[0;34m=\u001b[0m \u001b[0mt\u001b[0m\u001b[0;34m.\u001b[0m\u001b[0mnumpy\u001b[0m\u001b[0;34m(\u001b[0m\u001b[0;34m)\u001b[0m\u001b[0;34m\u001b[0m\u001b[0;34m\u001b[0m\u001b[0m\n\u001b[0m\u001b[1;32m    520\u001b[0m       \u001b[0;32mreturn\u001b[0m \u001b[0mx\u001b[0m\u001b[0;34m.\u001b[0m\u001b[0mitem\u001b[0m\u001b[0;34m(\u001b[0m\u001b[0;34m)\u001b[0m \u001b[0;32mif\u001b[0m \u001b[0mnp\u001b[0m\u001b[0;34m.\u001b[0m\u001b[0mndim\u001b[0m\u001b[0;34m(\u001b[0m\u001b[0mx\u001b[0m\u001b[0;34m)\u001b[0m \u001b[0;34m==\u001b[0m \u001b[0;36m0\u001b[0m \u001b[0;32melse\u001b[0m \u001b[0mx\u001b[0m\u001b[0;34m\u001b[0m\u001b[0;34m\u001b[0m\u001b[0m\n\u001b[1;32m    521\u001b[0m     \u001b[0;32mreturn\u001b[0m \u001b[0mt\u001b[0m  \u001b[0;31m# Don't turn ragged or sparse tensors to NumPy.\u001b[0m\u001b[0;34m\u001b[0m\u001b[0;34m\u001b[0m\u001b[0m\n",
            "\u001b[0;32m/usr/local/lib/python3.6/dist-packages/tensorflow/python/framework/ops.py\u001b[0m in \u001b[0;36mnumpy\u001b[0;34m(self)\u001b[0m\n\u001b[1;32m    959\u001b[0m     \"\"\"\n\u001b[1;32m    960\u001b[0m     \u001b[0;31m# TODO(slebedev): Consider avoiding a copy for non-CPU or remote tensors.\u001b[0m\u001b[0;34m\u001b[0m\u001b[0;34m\u001b[0m\u001b[0;34m\u001b[0m\u001b[0m\n\u001b[0;32m--> 961\u001b[0;31m     \u001b[0mmaybe_arr\u001b[0m \u001b[0;34m=\u001b[0m \u001b[0mself\u001b[0m\u001b[0;34m.\u001b[0m\u001b[0m_numpy\u001b[0m\u001b[0;34m(\u001b[0m\u001b[0;34m)\u001b[0m  \u001b[0;31m# pylint: disable=protected-access\u001b[0m\u001b[0;34m\u001b[0m\u001b[0;34m\u001b[0m\u001b[0m\n\u001b[0m\u001b[1;32m    962\u001b[0m     \u001b[0;32mreturn\u001b[0m \u001b[0mmaybe_arr\u001b[0m\u001b[0;34m.\u001b[0m\u001b[0mcopy\u001b[0m\u001b[0;34m(\u001b[0m\u001b[0;34m)\u001b[0m \u001b[0;32mif\u001b[0m \u001b[0misinstance\u001b[0m\u001b[0;34m(\u001b[0m\u001b[0mmaybe_arr\u001b[0m\u001b[0;34m,\u001b[0m \u001b[0mnp\u001b[0m\u001b[0;34m.\u001b[0m\u001b[0mndarray\u001b[0m\u001b[0;34m)\u001b[0m \u001b[0;32melse\u001b[0m \u001b[0mmaybe_arr\u001b[0m\u001b[0;34m\u001b[0m\u001b[0;34m\u001b[0m\u001b[0m\n\u001b[1;32m    963\u001b[0m \u001b[0;34m\u001b[0m\u001b[0m\n",
            "\u001b[0;32m/usr/local/lib/python3.6/dist-packages/tensorflow/python/framework/ops.py\u001b[0m in \u001b[0;36m_numpy\u001b[0;34m(self)\u001b[0m\n\u001b[1;32m    925\u001b[0m     \u001b[0;31m# pylint: disable=protected-access\u001b[0m\u001b[0;34m\u001b[0m\u001b[0;34m\u001b[0m\u001b[0;34m\u001b[0m\u001b[0m\n\u001b[1;32m    926\u001b[0m     \u001b[0;32mtry\u001b[0m\u001b[0;34m:\u001b[0m\u001b[0;34m\u001b[0m\u001b[0;34m\u001b[0m\u001b[0m\n\u001b[0;32m--> 927\u001b[0;31m       \u001b[0;32mreturn\u001b[0m \u001b[0mself\u001b[0m\u001b[0;34m.\u001b[0m\u001b[0m_numpy_internal\u001b[0m\u001b[0;34m(\u001b[0m\u001b[0;34m)\u001b[0m\u001b[0;34m\u001b[0m\u001b[0;34m\u001b[0m\u001b[0m\n\u001b[0m\u001b[1;32m    928\u001b[0m     \u001b[0;32mexcept\u001b[0m \u001b[0mcore\u001b[0m\u001b[0;34m.\u001b[0m\u001b[0m_NotOkStatusException\u001b[0m \u001b[0;32mas\u001b[0m \u001b[0me\u001b[0m\u001b[0;34m:\u001b[0m\u001b[0;34m\u001b[0m\u001b[0;34m\u001b[0m\u001b[0m\n\u001b[1;32m    929\u001b[0m       \u001b[0msix\u001b[0m\u001b[0;34m.\u001b[0m\u001b[0mraise_from\u001b[0m\u001b[0;34m(\u001b[0m\u001b[0mcore\u001b[0m\u001b[0;34m.\u001b[0m\u001b[0m_status_to_exception\u001b[0m\u001b[0;34m(\u001b[0m\u001b[0me\u001b[0m\u001b[0;34m.\u001b[0m\u001b[0mcode\u001b[0m\u001b[0;34m,\u001b[0m \u001b[0me\u001b[0m\u001b[0;34m.\u001b[0m\u001b[0mmessage\u001b[0m\u001b[0;34m)\u001b[0m\u001b[0;34m,\u001b[0m \u001b[0;32mNone\u001b[0m\u001b[0;34m)\u001b[0m\u001b[0;34m\u001b[0m\u001b[0;34m\u001b[0m\u001b[0m\n",
            "\u001b[0;31mKeyboardInterrupt\u001b[0m: "
          ]
        }
      ]
    },
    {
      "cell_type": "code",
      "metadata": {
        "id": "k_3nCZTvtj98"
      },
      "source": [
        "plt.plot(history_sigmoid.history['loss'], label='train_sigmoid',color=\"r\")\r\n",
        "plt.plot(history.history['loss'], label='train_nominal',color='b')\r\n",
        "plt.xlabel('epoch')\r\n",
        "plt.ylabel('Loss')\r\n",
        "plt.legend()"
      ],
      "execution_count": null,
      "outputs": []
    },
    {
      "cell_type": "markdown",
      "metadata": {
        "id": "QPM4lkGEtsI_"
      },
      "source": [
        "And similarly for the validation loss as a function of epoch"
      ]
    },
    {
      "cell_type": "code",
      "metadata": {
        "id": "kCRE2DkotuQb"
      },
      "source": [
        "plt.plot(history_sigmoid.history[\"val_loss\"],label='test_sigmoid',color='r')\r\n",
        "plt.plot(history.history[\"val_loss\"],label='test_nominal',color='b')\r\n",
        "plt.xlabel('epoch')\r\n",
        "plt.ylabel('Validation loss')\r\n",
        "plt.legend()"
      ],
      "execution_count": null,
      "outputs": []
    },
    {
      "cell_type": "markdown",
      "metadata": {
        "id": "bmJF4uImtwYv"
      },
      "source": [
        "And the accuracy as a function of epoch\r\n",
        "\r\n"
      ]
    },
    {
      "cell_type": "code",
      "metadata": {
        "id": "eXU14wZ-tyd7"
      },
      "source": [
        "plt.plot(history_sigmoid.history['accuracy'],label='acc_sigmoid',color='r')\r\n",
        "plt.plot(history.history['accuracy'],label='acc_nominal',color='b')\r\n",
        "plt.xlabel('epoch')\r\n",
        "plt.ylabel('accuracy')\r\n",
        "plt.legend()"
      ],
      "execution_count": null,
      "outputs": []
    },
    {
      "cell_type": "markdown",
      "metadata": {
        "id": "KGDmn0PEt4Di"
      },
      "source": [
        "As you can see, the effect of using ReLU for the hidden layers is that the NN learns faster than that of the NN configured with a sigmoid in the activation function, taking advantage of the sparse activation discussed above, with similar overall performance.\r\n",
        "\r\n",
        "In a real physics use case on large datasets, the CPU/GPU processing time is a major overhead that one must consider when implementing a NN, so fewer epochs to converge = faster.\r\n",
        "\r\n",
        "However, there is no preferred choice of activation functions in a NN, so one must attempt with trial and error."
      ]
    },
    {
      "cell_type": "markdown",
      "metadata": {
        "id": "NcjUchL0bXXV"
      },
      "source": [
        "#### Training our model\r\n",
        "We create an instance of our model so that we can train and test it!"
      ]
    },
    {
      "cell_type": "code",
      "metadata": {
        "id": "pOWQfBRoVq3r",
        "colab": {
          "base_uri": "https://localhost:8080/",
          "height": 752
        },
        "outputId": "df0ea2d3-ae22-40f1-c869-678ffbf374bd"
      },
      "source": [
        "model = model()\r\n",
        "print( model.summary() )\r\n",
        "plot_model( model )"
      ],
      "execution_count": 19,
      "outputs": [
        {
          "output_type": "stream",
          "text": [
            "Model: \"sequential\"\n",
            "_________________________________________________________________\n",
            "Layer (type)                 Output Shape              Param #   \n",
            "=================================================================\n",
            "layer_1 (Dense)              (None, 8)                 120       \n",
            "_________________________________________________________________\n",
            "layer_2 (Dense)              (None, 10)                90        \n",
            "_________________________________________________________________\n",
            "layer_3 (Dense)              (None, 10)                110       \n",
            "_________________________________________________________________\n",
            "output_layer (Dense)         (None, 1)                 11        \n",
            "=================================================================\n",
            "Total params: 331\n",
            "Trainable params: 331\n",
            "Non-trainable params: 0\n",
            "_________________________________________________________________\n",
            "None\n"
          ],
          "name": "stdout"
        },
        {
          "output_type": "execute_result",
          "data": {
            "image/png": "[encoded data removed]",
            "text/plain": [
              "<IPython.core.display.Image object>"
            ]
          },
          "metadata": {
            "tags": []
          },
          "execution_count": 19
        }
      ]
    },
    {
      "cell_type": "markdown",
      "metadata": {
        "id": "8miA737RcMo0"
      },
      "source": [
        "When training our model, we wish to avoid overtraining - where we specialise our model too much on the training data, and thus lose any discrimination on unseen data. We use early stopping as one way of overcoming this. Early stopping halts the training once one of the training metrics stops improving, in this case the value of the loss function evaluated using the validation data. "
      ]
    },
    {
      "cell_type": "code",
      "metadata": {
        "id": "ru_RAuvoVxXH",
        "colab": {
          "base_uri": "https://localhost:8080/"
        },
        "outputId": "b7e1f5fe-a14d-4bac-962a-6d752ddd20cc"
      },
      "source": [
        "early_stop = EarlyStopping(monitor='val_loss', patience=10)\r\n",
        "history = model.fit( X_train, y_train, epochs=200, batch_size=10, \r\n",
        "                    validation_data=(X_test, y_test), verbose=2, \r\n",
        "                    callbacks=[early_stop] )"
      ],
      "execution_count": 20,
      "outputs": [
        {
          "output_type": "stream",
          "text": [
            "Epoch 1/200\n",
            "1695/1695 - 3s - loss: 0.3035 - accuracy: 0.8846 - val_loss: 0.2067 - val_accuracy: 0.9279\n",
            "Epoch 2/200\n",
            "1695/1695 - 3s - loss: 0.2075 - accuracy: 0.9272 - val_loss: 0.2013 - val_accuracy: 0.9291\n",
            "Epoch 3/200\n",
            "1695/1695 - 3s - loss: 0.2066 - accuracy: 0.9273 - val_loss: 0.2002 - val_accuracy: 0.9284\n",
            "Epoch 4/200\n",
            "1695/1695 - 3s - loss: 0.2054 - accuracy: 0.9278 - val_loss: 0.2052 - val_accuracy: 0.9250\n",
            "Epoch 5/200\n",
            "1695/1695 - 3s - loss: 0.2053 - accuracy: 0.9284 - val_loss: 0.2006 - val_accuracy: 0.9288\n",
            "Epoch 6/200\n",
            "1695/1695 - 3s - loss: 0.2054 - accuracy: 0.9288 - val_loss: 0.2001 - val_accuracy: 0.9285\n",
            "Epoch 7/200\n",
            "1695/1695 - 3s - loss: 0.2047 - accuracy: 0.9292 - val_loss: 0.2005 - val_accuracy: 0.9258\n",
            "Epoch 8/200\n",
            "1695/1695 - 3s - loss: 0.2043 - accuracy: 0.9280 - val_loss: 0.1999 - val_accuracy: 0.9290\n",
            "Epoch 9/200\n",
            "1695/1695 - 3s - loss: 0.2039 - accuracy: 0.9272 - val_loss: 0.1999 - val_accuracy: 0.9270\n",
            "Epoch 10/200\n",
            "1695/1695 - 3s - loss: 0.2039 - accuracy: 0.9301 - val_loss: 0.2000 - val_accuracy: 0.9265\n",
            "Epoch 11/200\n",
            "1695/1695 - 3s - loss: 0.2043 - accuracy: 0.9278 - val_loss: 0.2000 - val_accuracy: 0.9283\n",
            "Epoch 12/200\n",
            "1695/1695 - 3s - loss: 0.2035 - accuracy: 0.9289 - val_loss: 0.1993 - val_accuracy: 0.9277\n",
            "Epoch 13/200\n",
            "1695/1695 - 3s - loss: 0.2032 - accuracy: 0.9284 - val_loss: 0.1986 - val_accuracy: 0.9296\n",
            "Epoch 14/200\n",
            "1695/1695 - 3s - loss: 0.2026 - accuracy: 0.9289 - val_loss: 0.1980 - val_accuracy: 0.9291\n",
            "Epoch 15/200\n",
            "1695/1695 - 3s - loss: 0.2019 - accuracy: 0.9280 - val_loss: 0.1977 - val_accuracy: 0.9295\n",
            "Epoch 16/200\n",
            "1695/1695 - 3s - loss: 0.2012 - accuracy: 0.9294 - val_loss: 0.2044 - val_accuracy: 0.9252\n",
            "Epoch 17/200\n",
            "1695/1695 - 3s - loss: 0.2005 - accuracy: 0.9288 - val_loss: 0.1954 - val_accuracy: 0.9290\n",
            "Epoch 18/200\n",
            "1695/1695 - 3s - loss: 0.1995 - accuracy: 0.9295 - val_loss: 0.1955 - val_accuracy: 0.9287\n",
            "Epoch 19/200\n",
            "1695/1695 - 3s - loss: 0.1999 - accuracy: 0.9300 - val_loss: 0.1975 - val_accuracy: 0.9283\n",
            "Epoch 20/200\n",
            "1695/1695 - 3s - loss: 0.1982 - accuracy: 0.9296 - val_loss: 0.1945 - val_accuracy: 0.9305\n",
            "Epoch 21/200\n",
            "1695/1695 - 3s - loss: 0.1979 - accuracy: 0.9304 - val_loss: 0.1960 - val_accuracy: 0.9295\n",
            "Epoch 22/200\n",
            "1695/1695 - 3s - loss: 0.1967 - accuracy: 0.9310 - val_loss: 0.1942 - val_accuracy: 0.9303\n",
            "Epoch 23/200\n",
            "1695/1695 - 3s - loss: 0.1957 - accuracy: 0.9307 - val_loss: 0.1954 - val_accuracy: 0.9306\n",
            "Epoch 24/200\n",
            "1695/1695 - 3s - loss: 0.1964 - accuracy: 0.9312 - val_loss: 0.1903 - val_accuracy: 0.9310\n",
            "Epoch 25/200\n",
            "1695/1695 - 3s - loss: 0.1957 - accuracy: 0.9309 - val_loss: 0.1914 - val_accuracy: 0.9306\n",
            "Epoch 26/200\n",
            "1695/1695 - 3s - loss: 0.1948 - accuracy: 0.9315 - val_loss: 0.1943 - val_accuracy: 0.9298\n",
            "Epoch 27/200\n",
            "1695/1695 - 3s - loss: 0.1948 - accuracy: 0.9318 - val_loss: 0.1888 - val_accuracy: 0.9324\n",
            "Epoch 28/200\n",
            "1695/1695 - 3s - loss: 0.1935 - accuracy: 0.9317 - val_loss: 0.1888 - val_accuracy: 0.9316\n",
            "Epoch 29/200\n",
            "1695/1695 - 3s - loss: 0.1939 - accuracy: 0.9323 - val_loss: 0.1911 - val_accuracy: 0.9316\n",
            "Epoch 30/200\n",
            "1695/1695 - 3s - loss: 0.1937 - accuracy: 0.9312 - val_loss: 0.1881 - val_accuracy: 0.9328\n",
            "Epoch 31/200\n",
            "1695/1695 - 3s - loss: 0.1933 - accuracy: 0.9338 - val_loss: 0.1885 - val_accuracy: 0.9329\n",
            "Epoch 32/200\n",
            "1695/1695 - 3s - loss: 0.1925 - accuracy: 0.9327 - val_loss: 0.1881 - val_accuracy: 0.9334\n",
            "Epoch 33/200\n",
            "1695/1695 - 3s - loss: 0.1925 - accuracy: 0.9321 - val_loss: 0.1870 - val_accuracy: 0.9335\n",
            "Epoch 34/200\n",
            "1695/1695 - 3s - loss: 0.1919 - accuracy: 0.9329 - val_loss: 0.1869 - val_accuracy: 0.9317\n",
            "Epoch 35/200\n",
            "1695/1695 - 3s - loss: 0.1919 - accuracy: 0.9323 - val_loss: 0.1868 - val_accuracy: 0.9336\n",
            "Epoch 36/200\n",
            "1695/1695 - 3s - loss: 0.1916 - accuracy: 0.9344 - val_loss: 0.1860 - val_accuracy: 0.9329\n",
            "Epoch 37/200\n",
            "1695/1695 - 3s - loss: 0.1916 - accuracy: 0.9329 - val_loss: 0.1864 - val_accuracy: 0.9342\n",
            "Epoch 38/200\n",
            "1695/1695 - 3s - loss: 0.1907 - accuracy: 0.9338 - val_loss: 0.1894 - val_accuracy: 0.9310\n",
            "Epoch 39/200\n",
            "1695/1695 - 3s - loss: 0.1908 - accuracy: 0.9329 - val_loss: 0.1865 - val_accuracy: 0.9325\n",
            "Epoch 40/200\n",
            "1695/1695 - 3s - loss: 0.1893 - accuracy: 0.9333 - val_loss: 0.1845 - val_accuracy: 0.9342\n",
            "Epoch 41/200\n",
            "1695/1695 - 3s - loss: 0.1896 - accuracy: 0.9335 - val_loss: 0.1857 - val_accuracy: 0.9350\n",
            "Epoch 42/200\n",
            "1695/1695 - 3s - loss: 0.1894 - accuracy: 0.9339 - val_loss: 0.1848 - val_accuracy: 0.9342\n",
            "Epoch 43/200\n",
            "1695/1695 - 3s - loss: 0.1891 - accuracy: 0.9340 - val_loss: 0.1847 - val_accuracy: 0.9334\n",
            "Epoch 44/200\n",
            "1695/1695 - 3s - loss: 0.1894 - accuracy: 0.9328 - val_loss: 0.1851 - val_accuracy: 0.9338\n",
            "Epoch 45/200\n",
            "1695/1695 - 3s - loss: 0.1894 - accuracy: 0.9337 - val_loss: 0.1869 - val_accuracy: 0.9349\n",
            "Epoch 46/200\n",
            "1695/1695 - 3s - loss: 0.1889 - accuracy: 0.9334 - val_loss: 0.1907 - val_accuracy: 0.9314\n",
            "Epoch 47/200\n",
            "1695/1695 - 3s - loss: 0.1886 - accuracy: 0.9336 - val_loss: 0.1845 - val_accuracy: 0.9343\n",
            "Epoch 48/200\n",
            "1695/1695 - 3s - loss: 0.1884 - accuracy: 0.9346 - val_loss: 0.1875 - val_accuracy: 0.9335\n",
            "Epoch 49/200\n",
            "1695/1695 - 3s - loss: 0.1876 - accuracy: 0.9347 - val_loss: 0.1847 - val_accuracy: 0.9346\n",
            "Epoch 50/200\n",
            "1695/1695 - 3s - loss: 0.1878 - accuracy: 0.9339 - val_loss: 0.1835 - val_accuracy: 0.9343\n",
            "Epoch 51/200\n",
            "1695/1695 - 3s - loss: 0.1870 - accuracy: 0.9351 - val_loss: 0.1888 - val_accuracy: 0.9347\n",
            "Epoch 52/200\n",
            "1695/1695 - 3s - loss: 0.1874 - accuracy: 0.9351 - val_loss: 0.1839 - val_accuracy: 0.9358\n",
            "Epoch 53/200\n",
            "1695/1695 - 3s - loss: 0.1869 - accuracy: 0.9348 - val_loss: 0.1857 - val_accuracy: 0.9320\n",
            "Epoch 54/200\n",
            "1695/1695 - 3s - loss: 0.1867 - accuracy: 0.9354 - val_loss: 0.1846 - val_accuracy: 0.9342\n",
            "Epoch 55/200\n",
            "1695/1695 - 3s - loss: 0.1870 - accuracy: 0.9354 - val_loss: 0.1841 - val_accuracy: 0.9349\n",
            "Epoch 56/200\n",
            "1695/1695 - 3s - loss: 0.1863 - accuracy: 0.9345 - val_loss: 0.1873 - val_accuracy: 0.9332\n",
            "Epoch 57/200\n",
            "1695/1695 - 3s - loss: 0.1857 - accuracy: 0.9350 - val_loss: 0.1829 - val_accuracy: 0.9353\n",
            "Epoch 58/200\n",
            "1695/1695 - 3s - loss: 0.1860 - accuracy: 0.9359 - val_loss: 0.1830 - val_accuracy: 0.9350\n",
            "Epoch 59/200\n",
            "1695/1695 - 3s - loss: 0.1860 - accuracy: 0.9344 - val_loss: 0.1828 - val_accuracy: 0.9365\n",
            "Epoch 60/200\n",
            "1695/1695 - 3s - loss: 0.1858 - accuracy: 0.9361 - val_loss: 0.1868 - val_accuracy: 0.9338\n",
            "Epoch 61/200\n",
            "1695/1695 - 3s - loss: 0.1859 - accuracy: 0.9353 - val_loss: 0.1827 - val_accuracy: 0.9361\n",
            "Epoch 62/200\n",
            "1695/1695 - 3s - loss: 0.1857 - accuracy: 0.9355 - val_loss: 0.1826 - val_accuracy: 0.9363\n",
            "Epoch 63/200\n",
            "1695/1695 - 3s - loss: 0.1849 - accuracy: 0.9368 - val_loss: 0.1824 - val_accuracy: 0.9358\n",
            "Epoch 64/200\n",
            "1695/1695 - 3s - loss: 0.1846 - accuracy: 0.9368 - val_loss: 0.1853 - val_accuracy: 0.9342\n",
            "Epoch 65/200\n",
            "1695/1695 - 3s - loss: 0.1840 - accuracy: 0.9374 - val_loss: 0.1894 - val_accuracy: 0.9325\n",
            "Epoch 66/200\n",
            "1695/1695 - 3s - loss: 0.1835 - accuracy: 0.9367 - val_loss: 0.1815 - val_accuracy: 0.9375\n",
            "Epoch 67/200\n",
            "1695/1695 - 3s - loss: 0.1843 - accuracy: 0.9365 - val_loss: 0.1857 - val_accuracy: 0.9342\n",
            "Epoch 68/200\n",
            "1695/1695 - 3s - loss: 0.1846 - accuracy: 0.9363 - val_loss: 0.1818 - val_accuracy: 0.9368\n",
            "Epoch 69/200\n",
            "1695/1695 - 3s - loss: 0.1835 - accuracy: 0.9359 - val_loss: 0.1830 - val_accuracy: 0.9363\n",
            "Epoch 70/200\n",
            "1695/1695 - 3s - loss: 0.1840 - accuracy: 0.9368 - val_loss: 0.1829 - val_accuracy: 0.9368\n",
            "Epoch 71/200\n",
            "1695/1695 - 3s - loss: 0.1833 - accuracy: 0.9377 - val_loss: 0.1811 - val_accuracy: 0.9380\n",
            "Epoch 72/200\n",
            "1695/1695 - 3s - loss: 0.1834 - accuracy: 0.9365 - val_loss: 0.1868 - val_accuracy: 0.9349\n",
            "Epoch 73/200\n",
            "1695/1695 - 3s - loss: 0.1835 - accuracy: 0.9373 - val_loss: 0.1852 - val_accuracy: 0.9342\n",
            "Epoch 74/200\n",
            "1695/1695 - 3s - loss: 0.1835 - accuracy: 0.9370 - val_loss: 0.2042 - val_accuracy: 0.9266\n",
            "Epoch 75/200\n",
            "1695/1695 - 3s - loss: 0.1833 - accuracy: 0.9375 - val_loss: 0.1814 - val_accuracy: 0.9378\n",
            "Epoch 76/200\n",
            "1695/1695 - 3s - loss: 0.1826 - accuracy: 0.9364 - val_loss: 0.1837 - val_accuracy: 0.9363\n",
            "Epoch 77/200\n",
            "1695/1695 - 3s - loss: 0.1824 - accuracy: 0.9375 - val_loss: 0.1810 - val_accuracy: 0.9365\n",
            "Epoch 78/200\n",
            "1695/1695 - 3s - loss: 0.1827 - accuracy: 0.9377 - val_loss: 0.1812 - val_accuracy: 0.9374\n",
            "Epoch 79/200\n",
            "1695/1695 - 3s - loss: 0.1818 - accuracy: 0.9369 - val_loss: 0.1827 - val_accuracy: 0.9371\n",
            "Epoch 80/200\n",
            "1695/1695 - 3s - loss: 0.1817 - accuracy: 0.9379 - val_loss: 0.1836 - val_accuracy: 0.9364\n",
            "Epoch 81/200\n",
            "1695/1695 - 3s - loss: 0.1828 - accuracy: 0.9367 - val_loss: 0.1828 - val_accuracy: 0.9353\n",
            "Epoch 82/200\n",
            "1695/1695 - 3s - loss: 0.1827 - accuracy: 0.9369 - val_loss: 0.1958 - val_accuracy: 0.9284\n",
            "Epoch 83/200\n",
            "1695/1695 - 3s - loss: 0.1818 - accuracy: 0.9371 - val_loss: 0.1826 - val_accuracy: 0.9367\n",
            "Epoch 84/200\n",
            "1695/1695 - 3s - loss: 0.1819 - accuracy: 0.9377 - val_loss: 0.1842 - val_accuracy: 0.9350\n",
            "Epoch 85/200\n",
            "1695/1695 - 3s - loss: 0.1818 - accuracy: 0.9377 - val_loss: 0.1813 - val_accuracy: 0.9364\n",
            "Epoch 86/200\n",
            "1695/1695 - 3s - loss: 0.1815 - accuracy: 0.9367 - val_loss: 0.1812 - val_accuracy: 0.9371\n",
            "Epoch 87/200\n",
            "1695/1695 - 3s - loss: 0.1820 - accuracy: 0.9369 - val_loss: 0.1834 - val_accuracy: 0.9363\n"
          ],
          "name": "stdout"
        }
      ]
    },
    {
      "cell_type": "markdown",
      "metadata": {
        "id": "L5hXM3cLPqfv"
      },
      "source": [
        "We should take a look at some validation plots to ensure the model does not behave much differently for the training and validation sets - this could be a sign of overfitting!"
      ]
    },
    {
      "cell_type": "code",
      "metadata": {
        "id": "Ca0ZjID9Xbd7",
        "colab": {
          "base_uri": "https://localhost:8080/",
          "height": 314
        },
        "outputId": "0682d13c-50cc-48bc-a3c1-967832ed54f1"
      },
      "source": [
        "doValidationPlots = True\r\n",
        "if doValidationPlots:\r\n",
        "\r\n",
        "  fig, axs = plt.subplots(1,2)\r\n",
        "  fig.set_figwidth(15)\r\n",
        "\r\n",
        "  axs[0].plot(history.history['loss'], label='Training sample')\r\n",
        "  axs[0].plot(history.history['val_loss'], label='Validation sample')\r\n",
        "  axs[0].set_xlabel('Training epoch')\r\n",
        "  axs[0].set_ylabel('Loss')\r\n",
        "  axs[0].legend(loc='best')\r\n",
        "\r\n",
        "  _, training_accuracy = model.evaluate(X_train, y_train)\r\n",
        "  _, validation_accuracy = model.evaluate(X_test, y_test)\r\n",
        "\r\n",
        "  axs[1].plot(history.history['accuracy'], label='Training sample ({}%)'.format(round(training_accuracy*100, 1)))\r\n",
        "  axs[1].plot(history.history['val_accuracy'], label='Validation sample ({}%)'.format(round(validation_accuracy*100, 1)))\r\n",
        "  axs[1].set_xlabel('Training epoch')\r\n",
        "  axs[1].set_ylabel('Accuracy')\r\n",
        "  axs[1].legend(loc='best')"
      ],
      "execution_count": 21,
      "outputs": [
        {
          "output_type": "stream",
          "text": [
            "530/530 [==============================] - 1s 1ms/step - loss: 0.1815 - accuracy: 0.9378\n",
            "227/227 [==============================] - 0s 1ms/step - loss: 0.1834 - accuracy: 0.9363\n"
          ],
          "name": "stdout"
        },
        {
          "output_type": "display_data",
          "data": {
            "image/png": "[encoded data removed]",
            "text/plain": [
              "<Figure size 1080x288 with 2 Axes>"
            ]
          },
          "metadata": {
            "tags": [],
            "needs_background": "light"
          }
        }
      ]
    },
    {
      "cell_type": "markdown",
      "metadata": {
        "id": "iP8gnMsyQnW8"
      },
      "source": [
        "### 4. Evaluating the performance of our model.\r\n",
        "At the end of the analysis chain, we want to test if our DNN gives us discriminatory power. We do this by using the model we trained to predict the class of every event in our samples:\r\n",
        "\r\n",
        "\r\n",
        "\r\n"
      ]
    },
    {
      "cell_type": "code",
      "metadata": {
        "id": "cbkWUA8Qn7D8",
        "colab": {
          "base_uri": "https://localhost:8080/"
        },
        "outputId": "49060514-a806-4f4d-be7f-c4894cb456d6"
      },
      "source": [
        "do_predictions = True\r\n",
        "if do_predictions:\r\n",
        "  bins = np.linspace(0,1,51)\r\n",
        "\r\n",
        "  sig_df = merge_df[merge_df['class'] == 1]\r\n",
        "  bkg_df = merge_df[merge_df['class'] == 0]\r\n",
        "  sig_weights = sig_df['weight']\r\n",
        "  bkg_weights = bkg_df['weight']\r\n",
        "\r\n",
        "  sig_true = scaler.transform(sig_df.drop(['class', 'weight'], axis=1))\r\n",
        "  bkg_true = scaler.transform(bkg_df.drop(['class', 'weight'], axis=1))\r\n",
        "\r\n",
        "  sig_preds = model.predict(sig_true)\r\n",
        "  bkg_preds = model.predict(bkg_true)\r\n",
        "\r\n",
        "  sig_df['preds'] = sig_preds\r\n",
        "  bkg_df['preds'] = bkg_preds"
      ],
      "execution_count": 22,
      "outputs": [
        {
          "output_type": "stream",
          "text": [
            "/usr/local/lib/python3.6/dist-packages/ipykernel_launcher.py:14: SettingWithCopyWarning: \n",
            "A value is trying to be set on a copy of a slice from a DataFrame.\n",
            "Try using .loc[row_indexer,col_indexer] = value instead\n",
            "\n",
            "See the caveats in the documentation: https://pandas.pydata.org/pandas-docs/stable/user_guide/indexing.html#returning-a-view-versus-a-copy\n",
            "  \n",
            "/usr/local/lib/python3.6/dist-packages/ipykernel_launcher.py:15: SettingWithCopyWarning: \n",
            "A value is trying to be set on a copy of a slice from a DataFrame.\n",
            "Try using .loc[row_indexer,col_indexer] = value instead\n",
            "\n",
            "See the caveats in the documentation: https://pandas.pydata.org/pandas-docs/stable/user_guide/indexing.html#returning-a-view-versus-a-copy\n",
            "  from ipykernel import kernelapp as app\n"
          ],
          "name": "stderr"
        }
      ]
    },
    {
      "cell_type": "markdown",
      "metadata": {
        "id": "-bnjYtVXufLQ"
      },
      "source": [
        "We now make a plot of these predictions for each class!"
      ]
    },
    {
      "cell_type": "code",
      "metadata": {
        "id": "1McIrMKp-ysZ",
        "colab": {
          "base_uri": "https://localhost:8080/",
          "height": 296
        },
        "outputId": "22d673d7-9448-4eae-c801-6ec11015fff2"
      },
      "source": [
        "lumi = 139000\r\n",
        "\r\n",
        "plt.hist( sig_preds, bins=bins, alpha=0.5, label='Signal', weights=lumi*sig_weights )\r\n",
        "plt.hist( bkg_preds, bins=bins, alpha=0.5, label='Background', weights=lumi*bkg_weights )\r\n",
        "plt.yscale('log')\r\n",
        "plt.xlabel('NN output')\r\n",
        "plt.ylabel('Events / bin')"
      ],
      "execution_count": 32,
      "outputs": [
        {
          "output_type": "execute_result",
          "data": {
            "text/plain": [
              "Text(0, 0.5, 'Events / bin')"
            ]
          },
          "metadata": {
            "tags": []
          },
          "execution_count": 32
        },
        {
          "output_type": "display_data",
          "data": {
            "image/png": "[encoded data removed]",
            "text/plain": [
              "<Figure size 432x288 with 1 Axes>"
            ]
          },
          "metadata": {
            "tags": [],
            "needs_background": "light"
          }
        }
      ]
    },
    {
      "cell_type": "markdown",
      "metadata": {
        "id": "K7pw9029uj8y"
      },
      "source": [
        "As we **should** see, the model peaks at low NN output for the background class and at high NN output for the signal class, as we hoped! We can now make a crude estimate of the discriminatory power of our classifier by placing a cut on the output of the NN, and counting the number of signal and background events passing this cut (cut & count). "
      ]
    },
    {
      "cell_type": "code",
      "metadata": {
        "id": "GFzkpGNkAQAU",
        "colab": {
          "base_uri": "https://localhost:8080/"
        },
        "outputId": "56470b48-25b0-479a-85fd-863e23adfb18"
      },
      "source": [
        "cut = 0.95\r\n",
        "\r\n",
        "signal_yield = lumi * sig_df[sig_df['preds'] > 0.95]['weight'].sum()\r\n",
        "background_yield = lumi * bkg_df[bkg_df['preds'] > 0.95]['weight'].sum()\r\n",
        "\r\n",
        "print('Signal events: {}'.format(signal_yield))\r\n",
        "print('Background events: {}'.format(background_yield))\r\n",
        "print('Significance: {}'.format(signal_yield/np.sqrt(background_yield)))"
      ],
      "execution_count": 31,
      "outputs": [
        {
          "output_type": "stream",
          "text": [
            "Signal events: 482.02383852274545\n",
            "Background events: 864.967139634708\n",
            "Significance: 16.389613510551026\n"
          ],
          "name": "stdout"
        }
      ]
    },
    {
      "cell_type": "markdown",
      "metadata": {
        "id": "OQAuh6GVvDf0"
      },
      "source": [
        "In principle, this is an example of an analysis chain using a DNN as the main discriminant. We can now play around with the structure of our DNN and alter the learning rate. In addition, we can change the loose selections applied at the start of the chain and re-run!"
      ]
    }
  ]
}